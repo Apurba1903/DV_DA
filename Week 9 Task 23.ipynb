{
 "cells": [
  {
   "cell_type": "code",
   "execution_count": null,
   "metadata": {
    "id": "t9m5KXgliN7a"
   },
   "outputs": [],
   "source": []
  },
  {
   "cell_type": "markdown",
   "metadata": {
    "id": "7oa-klRDiT-p"
   },
   "source": [
    "## `Problem 1 to 5`:\n",
    "\n",
    "Dataset link: https://tinyurl.com/2fe6vz4u\n",
    "\n",
    "**Add a label to every axis and add a proper title for the charts. Also add proper labels if there are multiple representations.** Then, you can customize it as your wish.\n",
    "\n",
    "### **`Problem-1:`** Draw a line plot of which, the x-axis is the \"Year\" and the y-axis is sum of \"PM2.5\" of two countries Iran and China."
   ]
  },
  {
   "cell_type": "code",
   "execution_count": null,
   "metadata": {
    "colab": {
     "base_uri": "https://localhost:8080/",
     "height": 206
    },
    "id": "sAUokaJziSS0",
    "outputId": "be9640c0-b84d-47df-d00d-31f0c991793f"
   },
   "outputs": [],
   "source": [
    "# code here"
   ]
  },
  {
   "cell_type": "code",
   "execution_count": null,
   "metadata": {
    "id": "PWIlmBZHpDB3"
   },
   "outputs": [],
   "source": []
  },
  {
   "cell_type": "code",
   "execution_count": null,
   "metadata": {
    "colab": {
     "base_uri": "https://localhost:8080/",
     "height": 472
    },
    "id": "S9wynkyIphQa",
    "outputId": "8835ac11-8eb2-4ad9-b6e1-b92416243a12"
   },
   "outputs": [],
   "source": []
  },
  {
   "cell_type": "markdown",
   "metadata": {
    "id": "sM5oN3VkiY3y"
   },
   "source": [
    "### **`Problem-2:`** Draw a histogram of the  column \"PM10\" of which the y-axis represents the probability (see the documentation how to draw the probability)."
   ]
  },
  {
   "cell_type": "code",
   "execution_count": null,
   "metadata": {
    "colab": {
     "base_uri": "https://localhost:8080/",
     "height": 472
    },
    "id": "QER2UyTUicYe",
    "outputId": "5af84dc4-a12b-4a56-9536-7ee15136bfe9"
   },
   "outputs": [],
   "source": [
    "# code here"
   ]
  },
  {
   "cell_type": "markdown",
   "metadata": {
    "id": "2BLv8ixLiehx"
   },
   "source": [
    "### **`Problem-3:`** Draw a scatter plot where x-axis represents \"PM2.5\" and y-axis represents \"PM10\" for two countries Poland and Chile."
   ]
  },
  {
   "cell_type": "code",
   "execution_count": null,
   "metadata": {
    "id": "eoKNdwSTihfJ"
   },
   "outputs": [],
   "source": [
    "# code here"
   ]
  },
  {
   "cell_type": "code",
   "execution_count": null,
   "metadata": {
    "colab": {
     "base_uri": "https://localhost:8080/",
     "height": 472
    },
    "id": "OAtlX5nDvZJG",
    "outputId": "ba2a977b-00eb-4648-c105-2408d3100fe3"
   },
   "outputs": [],
   "source": []
  },
  {
   "cell_type": "markdown",
   "metadata": {
    "id": "liyyLRglijPk"
   },
   "source": [
    "### **`Problem-4:`** Draw a pie chart of top 5 most frequent countries."
   ]
  },
  {
   "cell_type": "code",
   "execution_count": null,
   "metadata": {
    "id": "xckL1m-kimE1"
   },
   "outputs": [],
   "source": [
    "# code here"
   ]
  },
  {
   "cell_type": "code",
   "execution_count": null,
   "metadata": {
    "colab": {
     "base_uri": "https://localhost:8080/",
     "height": 406
    },
    "id": "xjgXrKZpzBlr",
    "outputId": "027d94c9-cf86-4985-c812-bf32aad6d439"
   },
   "outputs": [],
   "source": []
  },
  {
   "cell_type": "markdown",
   "metadata": {
    "id": "6l7yu0gVin1U"
   },
   "source": [
    "### **`Problem-5:`** Draw a bar chart which represents the counts of top 5 most frequent countries.\n",
    "\n"
   ]
  },
  {
   "cell_type": "code",
   "execution_count": null,
   "metadata": {
    "colab": {
     "base_uri": "https://localhost:8080/",
     "height": 449
    },
    "id": "SRkvJ3LQiqa-",
    "outputId": "8cf049eb-2f2c-4fb6-e866-8d24b02b7fe1"
   },
   "outputs": [],
   "source": [
    "# code here"
   ]
  },
  {
   "cell_type": "markdown",
   "metadata": {
    "id": "CinxvrZwisbd"
   },
   "source": [
    "##`Problem 6-10`\n",
    "Data Set - https://docs.google.com/spreadsheets/d/e/2PACX-1vTJh6X4_mqixWsfK9mgkllGQkKYW9Wj9kOIMGY2uYsWeS8n5np87DO-SDGQWJ1HXEnxiOVFVzYFYEcR/pub?gid=558678488&single=true&output=csv\n",
    "\n",
    "This is a Sales data of any company in a Year.\n",
    "\n",
    "\n",
    "###`Problem-6`\n",
    "Show a line plot of Total Profit for each month with below styling.\n",
    "* Dotted Line\n",
    "* Line Color Blue\n",
    "* Show Legend at top left\n",
    "* Circle Marker"
   ]
  },
  {
   "cell_type": "code",
   "execution_count": null,
   "metadata": {
    "colab": {
     "base_uri": "https://localhost:8080/",
     "height": 425
    },
    "id": "mmX3kDZNiyPw",
    "outputId": "0c50a1eb-355b-4e8e-b3e7-14978c853615"
   },
   "outputs": [],
   "source": [
    "# code here"
   ]
  },
  {
   "cell_type": "code",
   "execution_count": null,
   "metadata": {
    "colab": {
     "base_uri": "https://localhost:8080/",
     "height": 472
    },
    "id": "w9raPman1zbP",
    "outputId": "ecdf4d33-6451-401e-d24f-f9d33d988ffb"
   },
   "outputs": [],
   "source": []
  },
  {
   "cell_type": "markdown",
   "metadata": {
    "id": "KWlj7XhJiz8f"
   },
   "source": [
    "###`Problem-7`\n",
    "Show sales of each product in march month as pie chart.\n",
    "* Show Percentage value\n",
    "* Give Title \"Sales in March\"\n",
    "* Explode ToothPaste with shadow"
   ]
  },
  {
   "cell_type": "code",
   "execution_count": null,
   "metadata": {
    "id": "lomyBUNni3L8"
   },
   "outputs": [],
   "source": [
    "# code here"
   ]
  },
  {
   "cell_type": "code",
   "execution_count": null,
   "metadata": {
    "colab": {
     "base_uri": "https://localhost:8080/"
    },
    "id": "4NHYOijM3r67",
    "outputId": "ca70bb90-6221-42bf-b059-14be4d9f40fd"
   },
   "outputs": [],
   "source": []
  },
  {
   "cell_type": "code",
   "execution_count": null,
   "metadata": {
    "colab": {
     "base_uri": "https://localhost:8080/",
     "height": 428
    },
    "id": "8OxfsczC3OLo",
    "outputId": "63c27b04-c3c2-408b-d7b6-ae01b6c34a65"
   },
   "outputs": [],
   "source": []
  },
  {
   "cell_type": "markdown",
   "metadata": {
    "id": "3e0fKkCpi433"
   },
   "source": [
    "###`Problem-8` Multiline Plot of all products sales.\n",
    "* Give different styes for each products\n",
    "* Add legend at top right"
   ]
  },
  {
   "cell_type": "code",
   "execution_count": null,
   "metadata": {
    "colab": {
     "base_uri": "https://localhost:8080/",
     "height": 472
    },
    "id": "2XbhR9PCi7b1",
    "outputId": "056852a0-cb81-4d97-9aba-4399e51aa11d"
   },
   "outputs": [],
   "source": [
    "# code here"
   ]
  },
  {
   "cell_type": "markdown",
   "metadata": {
    "id": "SN-is2KYi9Ws"
   },
   "source": [
    "###`Problem-9` Show Quarter wise Sales data for all products as multi Bar chart.\n"
   ]
  },
  {
   "cell_type": "code",
   "execution_count": null,
   "metadata": {
    "id": "GX0wmMjfjAHW"
   },
   "outputs": [],
   "source": [
    "# code here"
   ]
  },
  {
   "cell_type": "code",
   "execution_count": null,
   "metadata": {
    "id": "H1_63xXeycMJ"
   },
   "outputs": [],
   "source": []
  },
  {
   "cell_type": "code",
   "execution_count": null,
   "metadata": {
    "colab": {
     "base_uri": "https://localhost:8080/",
     "height": 206
    },
    "id": "VyY83W4EycTR",
    "outputId": "a201c649-22ef-41e9-e55c-45aca8c4e26f"
   },
   "outputs": [],
   "source": []
  },
  {
   "cell_type": "code",
   "execution_count": null,
   "metadata": {
    "colab": {
     "base_uri": "https://localhost:8080/",
     "height": 449
    },
    "id": "8qYAFZ_KycZA",
    "outputId": "468db635-b2e6-4b57-83d6-ab0baa23a670"
   },
   "outputs": [],
   "source": []
  },
  {
   "cell_type": "code",
   "execution_count": null,
   "metadata": {
    "colab": {
     "base_uri": "https://localhost:8080/",
     "height": 206
    },
    "id": "QShj_SjaycmX",
    "outputId": "fcb304cd-e529-4654-b224-f019fbcbff5d"
   },
   "outputs": [],
   "source": []
  },
  {
   "cell_type": "markdown",
   "metadata": {
    "id": "UMUYyefEjBx4"
   },
   "source": [
    "###`Problem-10` Plot Stacked Bar chart quarter wise for each product."
   ]
  },
  {
   "cell_type": "code",
   "execution_count": null,
   "metadata": {
    "colab": {
     "base_uri": "https://localhost:8080/",
     "height": 206
    },
    "id": "L1KcbSOfjEx_",
    "outputId": "8ededd2d-8a00-496d-e60e-90d63984d928"
   },
   "outputs": [],
   "source": [
    "# code here"
   ]
  },
  {
   "cell_type": "code",
   "execution_count": null,
   "metadata": {
    "colab": {
     "base_uri": "https://localhost:8080/",
     "height": 430
    },
    "id": "d1N8c2G6PwtB",
    "outputId": "2465db5b-bd8d-4895-8efc-b9351a67dd3c"
   },
   "outputs": [],
   "source": []
  },
  {
   "cell_type": "code",
   "execution_count": null,
   "metadata": {
    "colab": {
     "base_uri": "https://localhost:8080/"
    },
    "id": "geVrW756P7Al",
    "outputId": "07bbb83d-a032-49c2-a8e5-de05ef4e16dc"
   },
   "outputs": [],
   "source": []
  },
  {
   "cell_type": "code",
   "execution_count": null,
   "metadata": {
    "id": "Fft30MFmQQI8"
   },
   "outputs": [],
   "source": []
  }
 ],
 "metadata": {
  "colab": {
   "provenance": []
  },
  "kernelspec": {
   "display_name": "Python 3",
   "name": "python3"
  },
  "language_info": {
   "name": "python"
  }
 },
 "nbformat": 4,
 "nbformat_minor": 0
}
