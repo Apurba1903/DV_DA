{
 "cells": [
  {
   "cell_type": "code",
   "execution_count": null,
   "metadata": {
    "id": "0JT2vZmBxfko"
   },
   "outputs": [],
   "source": []
  },
  {
   "cell_type": "markdown",
   "metadata": {
    "id": "GpcVL1ZD2A5h"
   },
   "source": [
    "### Colored Scatterplots"
   ]
  },
  {
   "cell_type": "code",
   "execution_count": null,
   "metadata": {
    "colab": {
     "base_uri": "https://localhost:8080/",
     "height": 206
    },
    "id": "X6LasgJT0NjJ",
    "outputId": "e533d53b-7461-411d-f314-d70bfbe192ba"
   },
   "outputs": [],
   "source": []
  },
  {
   "cell_type": "code",
   "execution_count": null,
   "metadata": {
    "colab": {
     "base_uri": "https://localhost:8080/",
     "height": 206
    },
    "id": "SUMh7k24Q32x",
    "outputId": "52d5169e-9e01-40c0-f01b-2df587134cf5"
   },
   "outputs": [],
   "source": []
  },
  {
   "cell_type": "code",
   "execution_count": null,
   "metadata": {
    "colab": {
     "base_uri": "https://localhost:8080/",
     "height": 300
    },
    "id": "a-DlSSvG0hT1",
    "outputId": "5ee6f295-5079-4a98-dfeb-d423e72be889"
   },
   "outputs": [],
   "source": []
  },
  {
   "cell_type": "code",
   "execution_count": null,
   "metadata": {
    "id": "riTHF3Yb0QpA"
   },
   "outputs": [],
   "source": [
    "# cmap and alpha"
   ]
  },
  {
   "cell_type": "markdown",
   "metadata": {
    "id": "JqL6fqXq3c_4"
   },
   "source": [
    "### Plot size"
   ]
  },
  {
   "cell_type": "code",
   "execution_count": null,
   "metadata": {
    "colab": {
     "base_uri": "https://localhost:8080/",
     "height": 463
    },
    "id": "j1Dlwnib0ZEo",
    "outputId": "bbc96317-78bc-4cd5-cf00-c4311407987d"
   },
   "outputs": [],
   "source": []
  },
  {
   "cell_type": "markdown",
   "metadata": {
    "id": "t0Eh8uOS6qsy"
   },
   "source": [
    "### Annotations"
   ]
  },
  {
   "cell_type": "code",
   "execution_count": null,
   "metadata": {
    "id": "8tvGMYNX25Jk"
   },
   "outputs": [],
   "source": []
  },
  {
   "cell_type": "code",
   "execution_count": null,
   "metadata": {
    "colab": {
     "base_uri": "https://localhost:8080/"
    },
    "id": "SYTrcrumSuly",
    "outputId": "a50b22b9-e3e0-45b4-cad2-526e339d067e"
   },
   "outputs": [],
   "source": []
  },
  {
   "cell_type": "code",
   "execution_count": null,
   "metadata": {
    "colab": {
     "base_uri": "https://localhost:8080/",
     "height": 323
    },
    "id": "TRgvFSZ7FzrH",
    "outputId": "cbb3fdc4-1237-4d26-f087-d0fa696ecf83"
   },
   "outputs": [],
   "source": []
  },
  {
   "cell_type": "code",
   "execution_count": null,
   "metadata": {
    "colab": {
     "base_uri": "https://localhost:8080/",
     "height": 833
    },
    "id": "Nd30GINmF5Ue",
    "outputId": "65eb9a8c-9314-46b4-a20f-2cf8fdf8d980"
   },
   "outputs": [],
   "source": []
  },
  {
   "cell_type": "code",
   "execution_count": null,
   "metadata": {
    "colab": {
     "base_uri": "https://localhost:8080/",
     "height": 592
    },
    "id": "RlgKKQmuGGJT",
    "outputId": "6fff5e37-66f8-425b-cde2-824af77acd9f"
   },
   "outputs": [],
   "source": []
  },
  {
   "cell_type": "code",
   "execution_count": null,
   "metadata": {
    "colab": {
     "base_uri": "https://localhost:8080/",
     "height": 282
    },
    "id": "I-OSp2dSTXIp",
    "outputId": "7d2ae9bd-a440-4668-8f09-98c495aac125"
   },
   "outputs": [],
   "source": []
  },
  {
   "cell_type": "markdown",
   "metadata": {
    "id": "EMTytQArLZP4"
   },
   "source": [
    "### Horizontal and Vertical lines"
   ]
  },
  {
   "cell_type": "code",
   "execution_count": null,
   "metadata": {
    "colab": {
     "base_uri": "https://localhost:8080/",
     "height": 592
    },
    "id": "s-XGU-46GXoT",
    "outputId": "49f815b2-88f4-40a4-c355-b778eeded173"
   },
   "outputs": [],
   "source": []
  },
  {
   "cell_type": "markdown",
   "metadata": {
    "id": "hSK7EYmuK-oO"
   },
   "source": [
    "### Subplots"
   ]
  },
  {
   "cell_type": "code",
   "execution_count": null,
   "metadata": {
    "colab": {
     "base_uri": "https://localhost:8080/",
     "height": 206
    },
    "id": "82kozN0zLTlf",
    "outputId": "125f45b0-96c6-4171-fed2-3a9dc332d386"
   },
   "outputs": [],
   "source": [
    "# A diff way to plot graphs"
   ]
  },
  {
   "cell_type": "code",
   "execution_count": null,
   "metadata": {
    "colab": {
     "base_uri": "https://localhost:8080/",
     "height": 404
    },
    "id": "2DYVS1XeWTlb",
    "outputId": "527b5754-2cb9-4c27-fdf4-58ae7fee6c50"
   },
   "outputs": [],
   "source": []
  },
  {
   "cell_type": "code",
   "execution_count": null,
   "metadata": {
    "colab": {
     "base_uri": "https://localhost:8080/",
     "height": 404
    },
    "id": "W24eY1n5WbUn",
    "outputId": "ab3f815f-9126-4748-db26-7e2ea0b46664"
   },
   "outputs": [],
   "source": []
  },
  {
   "cell_type": "code",
   "execution_count": null,
   "metadata": {
    "id": "RdlOvprhLQx-"
   },
   "outputs": [],
   "source": [
    "# batter dataset"
   ]
  },
  {
   "cell_type": "code",
   "execution_count": null,
   "metadata": {
    "colab": {
     "base_uri": "https://localhost:8080/",
     "height": 421
    },
    "id": "KAIcJGmbYmTo",
    "outputId": "cd18c519-4996-4914-c397-27ebb932d28e"
   },
   "outputs": [],
   "source": []
  },
  {
   "cell_type": "code",
   "execution_count": null,
   "metadata": {
    "colab": {
     "base_uri": "https://localhost:8080/",
     "height": 661
    },
    "id": "4kmnu0QvbN_y",
    "outputId": "197e5604-9c99-41d6-de6c-e582c924a28e"
   },
   "outputs": [],
   "source": []
  },
  {
   "cell_type": "code",
   "execution_count": null,
   "metadata": {
    "colab": {
     "base_uri": "https://localhost:8080/",
     "height": 352
    },
    "id": "fq_u_jv1aRH3",
    "outputId": "37e07cb6-4e3b-4a9a-a706-110df36c0fce"
   },
   "outputs": [],
   "source": []
  },
  {
   "cell_type": "code",
   "execution_count": null,
   "metadata": {
    "colab": {
     "base_uri": "https://localhost:8080/",
     "height": 613
    },
    "id": "N2Ypd0bEZr2k",
    "outputId": "56398d11-36fa-49e1-8bee-a085d2fe98fb"
   },
   "outputs": [],
   "source": []
  },
  {
   "cell_type": "markdown",
   "metadata": {
    "id": "0B17TsjKblW9"
   },
   "source": [
    "### 3D Scatter Plots"
   ]
  },
  {
   "cell_type": "code",
   "execution_count": null,
   "metadata": {
    "colab": {
     "base_uri": "https://localhost:8080/",
     "height": 265
    },
    "id": "cyRtuFImbokV",
    "outputId": "ce491ea7-2df9-4e9a-f6b7-906f894ea631"
   },
   "outputs": [],
   "source": []
  },
  {
   "cell_type": "markdown",
   "metadata": {
    "id": "b45ZUyJRbuE5"
   },
   "source": [
    "### 3D Line Plot"
   ]
  },
  {
   "cell_type": "code",
   "execution_count": null,
   "metadata": {
    "colab": {
     "base_uri": "https://localhost:8080/",
     "height": 265
    },
    "id": "p1GE45vIbw-s",
    "outputId": "00d9cbc0-f252-4e6a-a62b-663499af33d9"
   },
   "outputs": [],
   "source": []
  },
  {
   "cell_type": "markdown",
   "metadata": {
    "id": "42y7YfHqn8k1"
   },
   "source": [
    "### 3D Surface Plots"
   ]
  },
  {
   "cell_type": "code",
   "execution_count": null,
   "metadata": {
    "id": "CDtCrkFRldTt"
   },
   "outputs": [],
   "source": []
  },
  {
   "cell_type": "code",
   "execution_count": null,
   "metadata": {
    "colab": {
     "base_uri": "https://localhost:8080/"
    },
    "id": "9ZEngoZTep3e",
    "outputId": "cd1b78d5-ccc0-4643-ae1c-dbb73b1723af"
   },
   "outputs": [],
   "source": []
  },
  {
   "cell_type": "code",
   "execution_count": null,
   "metadata": {
    "colab": {
     "base_uri": "https://localhost:8080/"
    },
    "id": "Vdbr1CVQe-7B",
    "outputId": "2741f696-6fec-4585-ceae-cced6b3b12b4"
   },
   "outputs": [],
   "source": []
  },
  {
   "cell_type": "code",
   "execution_count": null,
   "metadata": {
    "colab": {
     "base_uri": "https://localhost:8080/",
     "height": 483
    },
    "id": "95WbIG4EfEph",
    "outputId": "a17798c1-dc6e-43dc-af03-b2d63c92d29f"
   },
   "outputs": [],
   "source": []
  },
  {
   "cell_type": "code",
   "execution_count": null,
   "metadata": {
    "colab": {
     "base_uri": "https://localhost:8080/",
     "height": 483
    },
    "id": "nGFXalvxfuiZ",
    "outputId": "c5c2c505-9636-4ca4-c84c-2f0328c73d99"
   },
   "outputs": [],
   "source": []
  },
  {
   "cell_type": "code",
   "execution_count": null,
   "metadata": {
    "colab": {
     "base_uri": "https://localhost:8080/",
     "height": 563
    },
    "id": "ni4JXt_Of6qb",
    "outputId": "905e18c0-1777-4ca8-e7ac-592c85a67417"
   },
   "outputs": [],
   "source": []
  },
  {
   "cell_type": "code",
   "execution_count": null,
   "metadata": {
    "colab": {
     "base_uri": "https://localhost:8080/",
     "height": 483
    },
    "id": "le75wgAoCm1v",
    "outputId": "557c277b-b9e9-4040-db09-c742b15c9524"
   },
   "outputs": [],
   "source": []
  },
  {
   "cell_type": "markdown",
   "metadata": {
    "id": "5JYDxIXkcCKc"
   },
   "source": [
    "### Contour Plots"
   ]
  },
  {
   "cell_type": "code",
   "execution_count": null,
   "metadata": {
    "colab": {
     "base_uri": "https://localhost:8080/",
     "height": 504
    },
    "id": "t8_AofR0b2Gd",
    "outputId": "dea07b1d-33e2-41a8-e6b7-d2ec33d2d36a"
   },
   "outputs": [],
   "source": []
  },
  {
   "cell_type": "code",
   "execution_count": null,
   "metadata": {
    "colab": {
     "base_uri": "https://localhost:8080/",
     "height": 504
    },
    "id": "ICQ9L_V2gzTn",
    "outputId": "bded72a4-f36d-4090-e504-021938e45438"
   },
   "outputs": [],
   "source": []
  },
  {
   "cell_type": "code",
   "execution_count": null,
   "metadata": {
    "colab": {
     "base_uri": "https://localhost:8080/",
     "height": 504
    },
    "id": "f4J4Y-SBhFli",
    "outputId": "d8660bc0-5aad-4e7d-ef2a-7c2a3ca169ab"
   },
   "outputs": [],
   "source": []
  },
  {
   "cell_type": "markdown",
   "metadata": {
    "id": "6j8Oiv3v8vR0"
   },
   "source": [
    "### Heatmap"
   ]
  },
  {
   "cell_type": "code",
   "execution_count": null,
   "metadata": {
    "colab": {
     "base_uri": "https://localhost:8080/",
     "height": 374
    },
    "id": "KrS5aLuz8xsy",
    "outputId": "8ec36988-1a56-4714-be89-0c27c041ed0d"
   },
   "outputs": [],
   "source": []
  },
  {
   "cell_type": "code",
   "execution_count": null,
   "metadata": {
    "id": "UP2VPK4-izQo"
   },
   "outputs": [],
   "source": []
  },
  {
   "cell_type": "code",
   "execution_count": null,
   "metadata": {
    "id": "bma58R_-iz-m"
   },
   "outputs": [],
   "source": []
  },
  {
   "cell_type": "code",
   "execution_count": null,
   "metadata": {
    "colab": {
     "base_uri": "https://localhost:8080/",
     "height": 609
    },
    "id": "m0CKvDvHi0Fi",
    "outputId": "a7b05386-3b63-4c64-87fa-79e144b7b6df"
   },
   "outputs": [],
   "source": []
  },
  {
   "cell_type": "code",
   "execution_count": null,
   "metadata": {
    "id": "m4-RQDLri0MQ"
   },
   "outputs": [],
   "source": []
  },
  {
   "cell_type": "markdown",
   "metadata": {
    "id": "0rTlziLfzn-r"
   },
   "source": [
    "### Pandas Plot()"
   ]
  },
  {
   "cell_type": "code",
   "execution_count": null,
   "metadata": {
    "colab": {
     "base_uri": "https://localhost:8080/",
     "height": 265
    },
    "id": "X5UP_PN02mwz",
    "outputId": "8727e090-e1e8-444c-81fb-99a04ae14af2"
   },
   "outputs": [],
   "source": [
    "# on a series"
   ]
  },
  {
   "cell_type": "code",
   "execution_count": null,
   "metadata": {
    "id": "voXuJq-J2qxK"
   },
   "outputs": [],
   "source": [
    "# can be used on a dataframe as well"
   ]
  },
  {
   "cell_type": "code",
   "execution_count": null,
   "metadata": {
    "id": "1Vyd8JPbe04q"
   },
   "outputs": [],
   "source": []
  },
  {
   "cell_type": "code",
   "execution_count": null,
   "metadata": {
    "id": "DINPyikTzvPi"
   },
   "outputs": [],
   "source": []
  },
  {
   "cell_type": "code",
   "execution_count": null,
   "metadata": {
    "id": "3ASmrbyjm9rw"
   },
   "outputs": [],
   "source": []
  },
  {
   "cell_type": "code",
   "execution_count": null,
   "metadata": {
    "colab": {
     "base_uri": "https://localhost:8080/",
     "height": 206
    },
    "id": "cO0N1C26m93J",
    "outputId": "1533f5cc-727b-4328-e3bb-6e67501c49b8"
   },
   "outputs": [],
   "source": []
  },
  {
   "cell_type": "code",
   "execution_count": null,
   "metadata": {
    "colab": {
     "base_uri": "https://localhost:8080/",
     "height": 394
    },
    "id": "-0EyiL3Bzv9W",
    "outputId": "915c298c-dfd9-4346-fa9b-ca5f81320755"
   },
   "outputs": [],
   "source": [
    "# Scatter plot -> labels -> markers -> figsize -> color -> cmap"
   ]
  },
  {
   "cell_type": "code",
   "execution_count": null,
   "metadata": {
    "colab": {
     "base_uri": "https://localhost:8080/",
     "height": 206
    },
    "id": "gRCNRKe30_kn",
    "outputId": "92a9230d-579a-40da-8df1-c73421643b17"
   },
   "outputs": [],
   "source": [
    "# 2d plot\n",
    "# dataset = 'https://raw.githubusercontent.com/m-mehdi/pandas_tutorials/main/weekly_stocks.csv'"
   ]
  },
  {
   "cell_type": "code",
   "execution_count": null,
   "metadata": {
    "colab": {
     "base_uri": "https://localhost:8080/",
     "height": 282
    },
    "id": "fooga7hd4s_5",
    "outputId": "6aa9aa92-ffac-466f-d8ca-dfae6ea59afe"
   },
   "outputs": [],
   "source": [
    "# line plot"
   ]
  },
  {
   "cell_type": "code",
   "execution_count": null,
   "metadata": {
    "colab": {
     "base_uri": "https://localhost:8080/",
     "height": 296
    },
    "id": "KNZ8uyL1nlBV",
    "outputId": "bf432355-063b-4b13-e62a-294f07ef6478"
   },
   "outputs": [],
   "source": []
  },
  {
   "cell_type": "code",
   "execution_count": null,
   "metadata": {
    "colab": {
     "base_uri": "https://localhost:8080/",
     "height": 296
    },
    "id": "QyaGp6a6nzce",
    "outputId": "64b79038-d929-4b25-8a46-de51c564ffbc"
   },
   "outputs": [],
   "source": []
  },
  {
   "cell_type": "code",
   "execution_count": null,
   "metadata": {
    "colab": {
     "base_uri": "https://localhost:8080/",
     "height": 206
    },
    "id": "OpSwoluyz5Wa",
    "outputId": "ccaf108b-b5b2-4f14-c298-5add11cf925b"
   },
   "outputs": [],
   "source": [
    "# bar chart -> single -> horizontal -> multiple\n",
    "# using tips"
   ]
  },
  {
   "cell_type": "code",
   "execution_count": null,
   "metadata": {
    "colab": {
     "base_uri": "https://localhost:8080/",
     "height": 322
    },
    "id": "qLfXnKUTokCa",
    "outputId": "449692b8-7fe8-4130-cfe0-9cae05a70046"
   },
   "outputs": [],
   "source": []
  },
  {
   "cell_type": "code",
   "execution_count": null,
   "metadata": {
    "colab": {
     "base_uri": "https://localhost:8080/",
     "height": 279
    },
    "id": "wR4RZ2ntoVGX",
    "outputId": "216008b1-2c4e-4a05-af20-3d9eb2bf9622"
   },
   "outputs": [],
   "source": []
  },
  {
   "cell_type": "code",
   "execution_count": null,
   "metadata": {
    "colab": {
     "base_uri": "https://localhost:8080/",
     "height": 279
    },
    "id": "cfSB8IW-o0UL",
    "outputId": "a15ef379-bb00-4baa-c0e4-e58bb78eee07"
   },
   "outputs": [],
   "source": []
  },
  {
   "cell_type": "code",
   "execution_count": null,
   "metadata": {
    "colab": {
     "base_uri": "https://localhost:8080/",
     "height": 279
    },
    "id": "qdVNJTOe1EN5",
    "outputId": "75499548-a253-4878-dfd8-27dbcfda0e32"
   },
   "outputs": [],
   "source": [
    "# stacked bar chart"
   ]
  },
  {
   "cell_type": "code",
   "execution_count": null,
   "metadata": {
    "colab": {
     "base_uri": "https://localhost:8080/",
     "height": 282
    },
    "id": "plydjnyb1FLZ",
    "outputId": "21de6ee4-6e01-4f5b-980e-1062306b7de1"
   },
   "outputs": [],
   "source": [
    "# histogram\n",
    "# using stocks"
   ]
  },
  {
   "cell_type": "code",
   "execution_count": null,
   "metadata": {
    "colab": {
     "base_uri": "https://localhost:8080/",
     "height": 206
    },
    "id": "zUB-C0jb1Gy4",
    "outputId": "4d9ca8da-b4c3-4592-9d4a-aebffacba818"
   },
   "outputs": [],
   "source": [
    "# pie -> single and multiple"
   ]
  },
  {
   "cell_type": "code",
   "execution_count": null,
   "metadata": {
    "colab": {
     "base_uri": "https://localhost:8080/",
     "height": 265
    },
    "id": "OqyxvHiAp0un",
    "outputId": "f7892bb4-973e-4705-85d2-72fd7805fc21"
   },
   "outputs": [],
   "source": []
  },
  {
   "cell_type": "code",
   "execution_count": null,
   "metadata": {
    "colab": {
     "base_uri": "https://localhost:8080/",
     "height": 346
    },
    "id": "R5oqrFT473k3",
    "outputId": "05a48cf5-52f2-41b1-8b03-596e4b108a4a"
   },
   "outputs": [],
   "source": [
    "# multiple pie charts"
   ]
  },
  {
   "cell_type": "code",
   "execution_count": null,
   "metadata": {
    "colab": {
     "base_uri": "https://localhost:8080/",
     "height": 334
    },
    "id": "QDL3gYjF1I7X",
    "outputId": "6ad17590-fed0-427f-f5a8-99d8daa8f915"
   },
   "outputs": [],
   "source": [
    "# multiple separate graphs together\n",
    "# using stocks"
   ]
  },
  {
   "cell_type": "code",
   "execution_count": null,
   "metadata": {
    "id": "fqBzLS1r9PEF"
   },
   "outputs": [],
   "source": [
    "# on multiindex dataframes\n",
    "# using tips"
   ]
  },
  {
   "cell_type": "code",
   "execution_count": null,
   "metadata": {
    "colab": {
     "base_uri": "https://localhost:8080/",
     "height": 340
    },
    "id": "3TvqrL34-7xV",
    "outputId": "6a52a150-222b-490b-92ba-27e880a79be4"
   },
   "outputs": [],
   "source": []
  },
  {
   "cell_type": "code",
   "execution_count": null,
   "metadata": {
    "colab": {
     "base_uri": "https://localhost:8080/",
     "height": 424
    },
    "id": "u75EX2R0rGBL",
    "outputId": "b8b8307c-a95b-441f-a54b-b5af4c207396"
   },
   "outputs": [],
   "source": []
  },
  {
   "cell_type": "code",
   "execution_count": null,
   "metadata": {
    "colab": {
     "base_uri": "https://localhost:8080/",
     "height": 288
    },
    "id": "YKNodg_NrfMS",
    "outputId": "3c5731ce-d276-4f62-def5-8ee65f6664bc"
   },
   "outputs": [],
   "source": []
  },
  {
   "cell_type": "code",
   "execution_count": null,
   "metadata": {
    "id": "kJZuxtyXs1mS"
   },
   "outputs": [],
   "source": []
  }
 ],
 "metadata": {
  "colab": {
   "provenance": []
  },
  "kernelspec": {
   "display_name": "Python 3",
   "name": "python3"
  },
  "language_info": {
   "name": "python"
  }
 },
 "nbformat": 4,
 "nbformat_minor": 0
}
