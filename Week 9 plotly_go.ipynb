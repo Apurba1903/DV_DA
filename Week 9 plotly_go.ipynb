{
 "cells": [
  {
   "cell_type": "code",
   "execution_count": 164,
   "id": "bc70b861",
   "metadata": {},
   "outputs": [],
   "source": [
    "import numpy as np\n",
    "import pandas as pd\n",
    "import plotly.offline as pyo\n",
    "import plotly.graph_objs as go\n",
    "import plotly.figure_factory as ff\n",
    "from plotly import tools"
   ]
  },
  {
   "cell_type": "code",
   "execution_count": 126,
   "id": "142023b2",
   "metadata": {},
   "outputs": [
    {
     "data": {
      "text/html": [
       "<div>\n",
       "<style scoped>\n",
       "    .dataframe tbody tr th:only-of-type {\n",
       "        vertical-align: middle;\n",
       "    }\n",
       "\n",
       "    .dataframe tbody tr th {\n",
       "        vertical-align: top;\n",
       "    }\n",
       "\n",
       "    .dataframe thead th {\n",
       "        text-align: right;\n",
       "    }\n",
       "</style>\n",
       "<table border=\"1\" class=\"dataframe\">\n",
       "  <thead>\n",
       "    <tr style=\"text-align: right;\">\n",
       "      <th></th>\n",
       "      <th>match_id</th>\n",
       "      <th>inning</th>\n",
       "      <th>batting_team</th>\n",
       "      <th>bowling_team</th>\n",
       "      <th>over</th>\n",
       "      <th>ball</th>\n",
       "      <th>batsman</th>\n",
       "      <th>non_striker</th>\n",
       "      <th>bowler</th>\n",
       "      <th>is_super_over</th>\n",
       "      <th>...</th>\n",
       "      <th>result</th>\n",
       "      <th>dl_applied</th>\n",
       "      <th>winner</th>\n",
       "      <th>win_by_runs</th>\n",
       "      <th>win_by_wickets</th>\n",
       "      <th>player_of_match</th>\n",
       "      <th>venue</th>\n",
       "      <th>umpire1</th>\n",
       "      <th>umpire2</th>\n",
       "      <th>umpire3</th>\n",
       "    </tr>\n",
       "  </thead>\n",
       "  <tbody>\n",
       "    <tr>\n",
       "      <th>0</th>\n",
       "      <td>1</td>\n",
       "      <td>1</td>\n",
       "      <td>Sunrisers Hyderabad</td>\n",
       "      <td>Royal Challengers Bangalore</td>\n",
       "      <td>1</td>\n",
       "      <td>1</td>\n",
       "      <td>DA Warner</td>\n",
       "      <td>S Dhawan</td>\n",
       "      <td>TS Mills</td>\n",
       "      <td>0</td>\n",
       "      <td>...</td>\n",
       "      <td>normal</td>\n",
       "      <td>0</td>\n",
       "      <td>Sunrisers Hyderabad</td>\n",
       "      <td>35</td>\n",
       "      <td>0</td>\n",
       "      <td>Yuvraj Singh</td>\n",
       "      <td>Rajiv Gandhi International Stadium, Uppal</td>\n",
       "      <td>AY Dandekar</td>\n",
       "      <td>NJ Llong</td>\n",
       "      <td>NaN</td>\n",
       "    </tr>\n",
       "    <tr>\n",
       "      <th>1</th>\n",
       "      <td>1</td>\n",
       "      <td>1</td>\n",
       "      <td>Sunrisers Hyderabad</td>\n",
       "      <td>Royal Challengers Bangalore</td>\n",
       "      <td>1</td>\n",
       "      <td>2</td>\n",
       "      <td>DA Warner</td>\n",
       "      <td>S Dhawan</td>\n",
       "      <td>TS Mills</td>\n",
       "      <td>0</td>\n",
       "      <td>...</td>\n",
       "      <td>normal</td>\n",
       "      <td>0</td>\n",
       "      <td>Sunrisers Hyderabad</td>\n",
       "      <td>35</td>\n",
       "      <td>0</td>\n",
       "      <td>Yuvraj Singh</td>\n",
       "      <td>Rajiv Gandhi International Stadium, Uppal</td>\n",
       "      <td>AY Dandekar</td>\n",
       "      <td>NJ Llong</td>\n",
       "      <td>NaN</td>\n",
       "    </tr>\n",
       "    <tr>\n",
       "      <th>2</th>\n",
       "      <td>1</td>\n",
       "      <td>1</td>\n",
       "      <td>Sunrisers Hyderabad</td>\n",
       "      <td>Royal Challengers Bangalore</td>\n",
       "      <td>1</td>\n",
       "      <td>3</td>\n",
       "      <td>DA Warner</td>\n",
       "      <td>S Dhawan</td>\n",
       "      <td>TS Mills</td>\n",
       "      <td>0</td>\n",
       "      <td>...</td>\n",
       "      <td>normal</td>\n",
       "      <td>0</td>\n",
       "      <td>Sunrisers Hyderabad</td>\n",
       "      <td>35</td>\n",
       "      <td>0</td>\n",
       "      <td>Yuvraj Singh</td>\n",
       "      <td>Rajiv Gandhi International Stadium, Uppal</td>\n",
       "      <td>AY Dandekar</td>\n",
       "      <td>NJ Llong</td>\n",
       "      <td>NaN</td>\n",
       "    </tr>\n",
       "    <tr>\n",
       "      <th>3</th>\n",
       "      <td>1</td>\n",
       "      <td>1</td>\n",
       "      <td>Sunrisers Hyderabad</td>\n",
       "      <td>Royal Challengers Bangalore</td>\n",
       "      <td>1</td>\n",
       "      <td>4</td>\n",
       "      <td>DA Warner</td>\n",
       "      <td>S Dhawan</td>\n",
       "      <td>TS Mills</td>\n",
       "      <td>0</td>\n",
       "      <td>...</td>\n",
       "      <td>normal</td>\n",
       "      <td>0</td>\n",
       "      <td>Sunrisers Hyderabad</td>\n",
       "      <td>35</td>\n",
       "      <td>0</td>\n",
       "      <td>Yuvraj Singh</td>\n",
       "      <td>Rajiv Gandhi International Stadium, Uppal</td>\n",
       "      <td>AY Dandekar</td>\n",
       "      <td>NJ Llong</td>\n",
       "      <td>NaN</td>\n",
       "    </tr>\n",
       "    <tr>\n",
       "      <th>4</th>\n",
       "      <td>1</td>\n",
       "      <td>1</td>\n",
       "      <td>Sunrisers Hyderabad</td>\n",
       "      <td>Royal Challengers Bangalore</td>\n",
       "      <td>1</td>\n",
       "      <td>5</td>\n",
       "      <td>DA Warner</td>\n",
       "      <td>S Dhawan</td>\n",
       "      <td>TS Mills</td>\n",
       "      <td>0</td>\n",
       "      <td>...</td>\n",
       "      <td>normal</td>\n",
       "      <td>0</td>\n",
       "      <td>Sunrisers Hyderabad</td>\n",
       "      <td>35</td>\n",
       "      <td>0</td>\n",
       "      <td>Yuvraj Singh</td>\n",
       "      <td>Rajiv Gandhi International Stadium, Uppal</td>\n",
       "      <td>AY Dandekar</td>\n",
       "      <td>NJ Llong</td>\n",
       "      <td>NaN</td>\n",
       "    </tr>\n",
       "  </tbody>\n",
       "</table>\n",
       "<p>5 rows × 39 columns</p>\n",
       "</div>"
      ],
      "text/plain": [
       "   match_id  inning         batting_team                 bowling_team  over  \\\n",
       "0         1       1  Sunrisers Hyderabad  Royal Challengers Bangalore     1   \n",
       "1         1       1  Sunrisers Hyderabad  Royal Challengers Bangalore     1   \n",
       "2         1       1  Sunrisers Hyderabad  Royal Challengers Bangalore     1   \n",
       "3         1       1  Sunrisers Hyderabad  Royal Challengers Bangalore     1   \n",
       "4         1       1  Sunrisers Hyderabad  Royal Challengers Bangalore     1   \n",
       "\n",
       "   ball    batsman non_striker    bowler  is_super_over  ...  result  \\\n",
       "0     1  DA Warner    S Dhawan  TS Mills              0  ...  normal   \n",
       "1     2  DA Warner    S Dhawan  TS Mills              0  ...  normal   \n",
       "2     3  DA Warner    S Dhawan  TS Mills              0  ...  normal   \n",
       "3     4  DA Warner    S Dhawan  TS Mills              0  ...  normal   \n",
       "4     5  DA Warner    S Dhawan  TS Mills              0  ...  normal   \n",
       "\n",
       "   dl_applied               winner  win_by_runs  win_by_wickets  \\\n",
       "0           0  Sunrisers Hyderabad           35               0   \n",
       "1           0  Sunrisers Hyderabad           35               0   \n",
       "2           0  Sunrisers Hyderabad           35               0   \n",
       "3           0  Sunrisers Hyderabad           35               0   \n",
       "4           0  Sunrisers Hyderabad           35               0   \n",
       "\n",
       "   player_of_match                                      venue      umpire1  \\\n",
       "0     Yuvraj Singh  Rajiv Gandhi International Stadium, Uppal  AY Dandekar   \n",
       "1     Yuvraj Singh  Rajiv Gandhi International Stadium, Uppal  AY Dandekar   \n",
       "2     Yuvraj Singh  Rajiv Gandhi International Stadium, Uppal  AY Dandekar   \n",
       "3     Yuvraj Singh  Rajiv Gandhi International Stadium, Uppal  AY Dandekar   \n",
       "4     Yuvraj Singh  Rajiv Gandhi International Stadium, Uppal  AY Dandekar   \n",
       "\n",
       "    umpire2 umpire3  \n",
       "0  NJ Llong     NaN  \n",
       "1  NJ Llong     NaN  \n",
       "2  NJ Llong     NaN  \n",
       "3  NJ Llong     NaN  \n",
       "4  NJ Llong     NaN  \n",
       "\n",
       "[5 rows x 39 columns]"
      ]
     },
     "execution_count": 126,
     "metadata": {},
     "output_type": "execute_result"
    }
   ],
   "source": [
    "match = pd.read_csv(\"C:\\\\Users\\\\ACER\\\\Desktop\\\\DSMP1\\\\Datasets\\\\datasets-session-20\\\\matches.csv\")\n",
    "delivery = pd.read_csv(\"C:\\\\Users\\\\ACER\\\\Desktop\\\\DSMP1\\\\Datasets\\\\datasets-session-20\\\\deliveries.csv\")\n",
    "\n",
    "ipl =  delivery.merge(match, left_on=\"match_id\", right_on=\"id\")\n",
    "ipl.head()"
   ]
  },
  {
   "cell_type": "markdown",
   "id": "6be5f2ba",
   "metadata": {},
   "source": [
    "## Scatter Plot"
   ]
  },
  {
   "cell_type": "code",
   "execution_count": 127,
   "id": "22513399",
   "metadata": {},
   "outputs": [],
   "source": [
    "# Problem :- Draw a scatter plot between Batsman Avg(X axis) and Batsman Strike Rate(Y axis) of top 50 Batsman of all time.\n",
    "\n",
    "\n",
    "# Extracting Top 50 Batsman\n",
    "top50 = ipl.groupby('batsman')['batsman_runs'].sum().sort_values(ascending=False).head(50).index.to_list()\n",
    "new_ipl = ipl[ipl['batsman'].isin(top50)]"
   ]
  },
  {
   "cell_type": "code",
   "execution_count": 128,
   "id": "40fdd01b",
   "metadata": {},
   "outputs": [
    {
     "data": {
      "text/html": [
       "<div>\n",
       "<style scoped>\n",
       "    .dataframe tbody tr th:only-of-type {\n",
       "        vertical-align: middle;\n",
       "    }\n",
       "\n",
       "    .dataframe tbody tr th {\n",
       "        vertical-align: top;\n",
       "    }\n",
       "\n",
       "    .dataframe thead th {\n",
       "        text-align: right;\n",
       "    }\n",
       "</style>\n",
       "<table border=\"1\" class=\"dataframe\">\n",
       "  <thead>\n",
       "    <tr style=\"text-align: right;\">\n",
       "      <th></th>\n",
       "      <th>batsman</th>\n",
       "      <th>batsman_runs</th>\n",
       "    </tr>\n",
       "  </thead>\n",
       "  <tbody>\n",
       "    <tr>\n",
       "      <th>0</th>\n",
       "      <td>AB de Villiers</td>\n",
       "      <td>145.129059</td>\n",
       "    </tr>\n",
       "    <tr>\n",
       "      <th>1</th>\n",
       "      <td>AC Gilchrist</td>\n",
       "      <td>133.054662</td>\n",
       "    </tr>\n",
       "    <tr>\n",
       "      <th>2</th>\n",
       "      <td>AJ Finch</td>\n",
       "      <td>126.299213</td>\n",
       "    </tr>\n",
       "    <tr>\n",
       "      <th>3</th>\n",
       "      <td>AM Rahane</td>\n",
       "      <td>117.486549</td>\n",
       "    </tr>\n",
       "    <tr>\n",
       "      <th>4</th>\n",
       "      <td>AT Rayudu</td>\n",
       "      <td>123.014257</td>\n",
       "    </tr>\n",
       "  </tbody>\n",
       "</table>\n",
       "</div>"
      ],
      "text/plain": [
       "          batsman  batsman_runs\n",
       "0  AB de Villiers    145.129059\n",
       "1    AC Gilchrist    133.054662\n",
       "2        AJ Finch    126.299213\n",
       "3       AM Rahane    117.486549\n",
       "4       AT Rayudu    123.014257"
      ]
     },
     "execution_count": 128,
     "metadata": {},
     "output_type": "execute_result"
    }
   ],
   "source": [
    "# Calculating Strike Rate\n",
    "\n",
    "runs = new_ipl.groupby('batsman')['batsman_runs'].sum()\n",
    "balls = new_ipl.groupby('batsman')['batsman_runs'].count()\n",
    "\n",
    "sr = (runs/balls)*100\n",
    "\n",
    "sr = sr.reset_index()\n",
    "sr.head()"
   ]
  },
  {
   "cell_type": "code",
   "execution_count": 129,
   "id": "b3b45f4a",
   "metadata": {},
   "outputs": [
    {
     "data": {
      "text/html": [
       "<div>\n",
       "<style scoped>\n",
       "    .dataframe tbody tr th:only-of-type {\n",
       "        vertical-align: middle;\n",
       "    }\n",
       "\n",
       "    .dataframe tbody tr th {\n",
       "        vertical-align: top;\n",
       "    }\n",
       "\n",
       "    .dataframe thead th {\n",
       "        text-align: right;\n",
       "    }\n",
       "</style>\n",
       "<table border=\"1\" class=\"dataframe\">\n",
       "  <thead>\n",
       "    <tr style=\"text-align: right;\">\n",
       "      <th></th>\n",
       "      <th>batsman</th>\n",
       "      <th>avg</th>\n",
       "      <th>batsman_runs</th>\n",
       "    </tr>\n",
       "  </thead>\n",
       "  <tbody>\n",
       "    <tr>\n",
       "      <th>0</th>\n",
       "      <td>AB de Villiers</td>\n",
       "      <td>38.307692</td>\n",
       "      <td>145.129059</td>\n",
       "    </tr>\n",
       "    <tr>\n",
       "      <th>1</th>\n",
       "      <td>AC Gilchrist</td>\n",
       "      <td>27.223684</td>\n",
       "      <td>133.054662</td>\n",
       "    </tr>\n",
       "    <tr>\n",
       "      <th>2</th>\n",
       "      <td>AJ Finch</td>\n",
       "      <td>27.186441</td>\n",
       "      <td>126.299213</td>\n",
       "    </tr>\n",
       "    <tr>\n",
       "      <th>3</th>\n",
       "      <td>AM Rahane</td>\n",
       "      <td>33.593407</td>\n",
       "      <td>117.486549</td>\n",
       "    </tr>\n",
       "    <tr>\n",
       "      <th>4</th>\n",
       "      <td>AT Rayudu</td>\n",
       "      <td>27.146067</td>\n",
       "      <td>123.014257</td>\n",
       "    </tr>\n",
       "  </tbody>\n",
       "</table>\n",
       "</div>"
      ],
      "text/plain": [
       "          batsman        avg  batsman_runs\n",
       "0  AB de Villiers  38.307692    145.129059\n",
       "1    AC Gilchrist  27.223684    133.054662\n",
       "2        AJ Finch  27.186441    126.299213\n",
       "3       AM Rahane  33.593407    117.486549\n",
       "4       AT Rayudu  27.146067    123.014257"
      ]
     },
     "execution_count": 129,
     "metadata": {},
     "output_type": "execute_result"
    }
   ],
   "source": [
    "# Calculating Average\n",
    "\n",
    "out = ipl[ipl['player_dismissed'].isin(top50)]\n",
    "\n",
    "nouts = out['player_dismissed'].value_counts()\n",
    "\n",
    "avg = runs/nouts\n",
    "\n",
    "avg = avg.reset_index()\n",
    "avg.rename(columns={'index' :'batsman', 0: 'avg'}, inplace=True)\n",
    "\n",
    "avg = avg.merge(sr, on='batsman')\n",
    "avg.head()"
   ]
  },
  {
   "cell_type": "code",
   "execution_count": 130,
   "id": "7e366240",
   "metadata": {},
   "outputs": [
    {
     "data": {
      "application/vnd.plotly.v1+json": {
       "config": {
        "plotlyServerURL": "https://plot.ly"
       },
       "data": [
        {
         "hovertext": [
          "AB de Villiers",
          "AC Gilchrist",
          "AJ Finch",
          "AM Rahane",
          "AT Rayudu",
          "BB McCullum",
          "BJ Hodge",
          "CH Gayle",
          "DA Miller",
          "DA Warner",
          "DJ Bravo",
          "DJ Hussey",
          "DPMD Jayawardene",
          "DR Smith",
          "F du Plessis",
          "G Gambhir",
          "GJ Maxwell",
          "JH Kallis",
          "JP Duminy",
          "KA Pollard",
          "KC Sangakkara",
          "KD Karthik",
          "KK Nair",
          "M Vijay",
          "MEK Hussey",
          "MK Pandey",
          "MK Tiwary",
          "MS Dhoni",
          "NV Ojha",
          "PA Patel",
          "R Dravid",
          "RA Jadeja",
          "RG Sharma",
          "RV Uthappa",
          "S Badrinath",
          "S Dhawan",
          "SC Ganguly",
          "SE Marsh",
          "SK Raina",
          "SPD Smith",
          "SR Tendulkar",
          "SR Watson",
          "SS Tiwary",
          "SV Samson",
          "TM Dilshan",
          "V Kohli",
          "V Sehwag",
          "WP Saha",
          "YK Pathan",
          "Yuvraj Singh"
         ],
         "marker": {
          "color": "red",
          "line": {
           "color": "black",
           "width": 0.5
          },
          "opacity": 0.8,
          "size": 16
         },
         "mode": "markers",
         "type": "scatter",
         "x": {
          "bdata": "dmIndmInQ0CU11BeQzk7QCuChpO6LztAv/RLv/TLQECykpWsZCU7QKfg5RS8HDxAq6qqqqqqQEBwgQtc4IJEQN7d3d3dXUFAUrgehesRREDylCBPCfI2QD801ofG+jpAAAAAAABAPEBJkiRJkmQ8QEfcEXfEHT5Ah2nugr+KP0AFL6fg5RQ5QI6NjY2NjTxArkfhehTuQ0C1K1G7ErU8QEMv9EIv9DlA/tzP/dzPOEBDFrKQhSw5QOiWOPV7bjpA4uHh4eFhQ0AAAAAAAIA8QNu2bdu2bT1AtFHf2ajvQkDJZ91givw0QL1T13JwszVAYO+YGtg7PEDkOI7jOA44QDTmjDljTkBAAAAAAACEPUC/s1Hf2ag+QFydkYq5VUBA1QTjrexzOUAQBEEQBMFDQNIDlbNb+EBATm9605ueQkDf9KY3velAQOvq6urq6j5AsAVbsAVbPEBu27Zt23Y5QPQFfUFf0DpAWxE0nNS9QkDkOI7jOI47QNLmfYpLhjlANNaHxvrQPUCGb0SBSac5QA==",
          "dtype": "f8"
         },
         "y": {
          "bdata": "xg+WQCEkYkDxfVHLv6FgQGUymUwmk19AeTidnSNfXUCRPpiU6cBeQM7Ur25dlF9ASTUQNwhbXkAeHXjPNwZiQIGaXS+yNmFAvmGCVzBKYUC0JW1JW5JeQK/BO3umBF5AyOeHzKCyXUD5eITx8YhgQNQxlwhPCl9A5O8X5x0XXkAhDdIgDbJjQLJ68uLre1pAm4MctR5+XkDbpCFq4ZNhQAIXuMAFnl1AqPvy2IrAXkBmL9Q+nClfQKibhufVAV5ANd3Bfqv9XUCKXgqfDzxdQJ3SP7YniFxAoXJ2C7+aYECyHH4jy6FcQMfQdAf7LVxATuFMIDlWXEBSb/tUvrJdQCTsEnvpD2BAinzWDaboX0AJuPXZjO9cQHIUUOQooF1AtALvswJvWUBlo1NHg0NgQGOPuYbb32BA2MnxYToQYEDAgAEDBoxcQIp/ef/T2mBAqXmQu362XECOzqTa0ZleQBBLu07yh1tAu30C9ailX0DTcWlFd5piQLy/5b6R7l9AcQSR1guYYUAZnI/B+ZhfQA==",
          "dtype": "f8"
         }
        }
       ],
       "layout": {
        "autosize": false,
        "height": 900,
        "template": {
         "data": {
          "bar": [
           {
            "error_x": {
             "color": "#2a3f5f"
            },
            "error_y": {
             "color": "#2a3f5f"
            },
            "marker": {
             "line": {
              "color": "#E5ECF6",
              "width": 0.5
             },
             "pattern": {
              "fillmode": "overlay",
              "size": 10,
              "solidity": 0.2
             }
            },
            "type": "bar"
           }
          ],
          "barpolar": [
           {
            "marker": {
             "line": {
              "color": "#E5ECF6",
              "width": 0.5
             },
             "pattern": {
              "fillmode": "overlay",
              "size": 10,
              "solidity": 0.2
             }
            },
            "type": "barpolar"
           }
          ],
          "carpet": [
           {
            "aaxis": {
             "endlinecolor": "#2a3f5f",
             "gridcolor": "white",
             "linecolor": "white",
             "minorgridcolor": "white",
             "startlinecolor": "#2a3f5f"
            },
            "baxis": {
             "endlinecolor": "#2a3f5f",
             "gridcolor": "white",
             "linecolor": "white",
             "minorgridcolor": "white",
             "startlinecolor": "#2a3f5f"
            },
            "type": "carpet"
           }
          ],
          "choropleth": [
           {
            "colorbar": {
             "outlinewidth": 0,
             "ticks": ""
            },
            "type": "choropleth"
           }
          ],
          "contour": [
           {
            "colorbar": {
             "outlinewidth": 0,
             "ticks": ""
            },
            "colorscale": [
             [
              0,
              "#0d0887"
             ],
             [
              0.1111111111111111,
              "#46039f"
             ],
             [
              0.2222222222222222,
              "#7201a8"
             ],
             [
              0.3333333333333333,
              "#9c179e"
             ],
             [
              0.4444444444444444,
              "#bd3786"
             ],
             [
              0.5555555555555556,
              "#d8576b"
             ],
             [
              0.6666666666666666,
              "#ed7953"
             ],
             [
              0.7777777777777778,
              "#fb9f3a"
             ],
             [
              0.8888888888888888,
              "#fdca26"
             ],
             [
              1,
              "#f0f921"
             ]
            ],
            "type": "contour"
           }
          ],
          "contourcarpet": [
           {
            "colorbar": {
             "outlinewidth": 0,
             "ticks": ""
            },
            "type": "contourcarpet"
           }
          ],
          "heatmap": [
           {
            "colorbar": {
             "outlinewidth": 0,
             "ticks": ""
            },
            "colorscale": [
             [
              0,
              "#0d0887"
             ],
             [
              0.1111111111111111,
              "#46039f"
             ],
             [
              0.2222222222222222,
              "#7201a8"
             ],
             [
              0.3333333333333333,
              "#9c179e"
             ],
             [
              0.4444444444444444,
              "#bd3786"
             ],
             [
              0.5555555555555556,
              "#d8576b"
             ],
             [
              0.6666666666666666,
              "#ed7953"
             ],
             [
              0.7777777777777778,
              "#fb9f3a"
             ],
             [
              0.8888888888888888,
              "#fdca26"
             ],
             [
              1,
              "#f0f921"
             ]
            ],
            "type": "heatmap"
           }
          ],
          "histogram": [
           {
            "marker": {
             "pattern": {
              "fillmode": "overlay",
              "size": 10,
              "solidity": 0.2
             }
            },
            "type": "histogram"
           }
          ],
          "histogram2d": [
           {
            "colorbar": {
             "outlinewidth": 0,
             "ticks": ""
            },
            "colorscale": [
             [
              0,
              "#0d0887"
             ],
             [
              0.1111111111111111,
              "#46039f"
             ],
             [
              0.2222222222222222,
              "#7201a8"
             ],
             [
              0.3333333333333333,
              "#9c179e"
             ],
             [
              0.4444444444444444,
              "#bd3786"
             ],
             [
              0.5555555555555556,
              "#d8576b"
             ],
             [
              0.6666666666666666,
              "#ed7953"
             ],
             [
              0.7777777777777778,
              "#fb9f3a"
             ],
             [
              0.8888888888888888,
              "#fdca26"
             ],
             [
              1,
              "#f0f921"
             ]
            ],
            "type": "histogram2d"
           }
          ],
          "histogram2dcontour": [
           {
            "colorbar": {
             "outlinewidth": 0,
             "ticks": ""
            },
            "colorscale": [
             [
              0,
              "#0d0887"
             ],
             [
              0.1111111111111111,
              "#46039f"
             ],
             [
              0.2222222222222222,
              "#7201a8"
             ],
             [
              0.3333333333333333,
              "#9c179e"
             ],
             [
              0.4444444444444444,
              "#bd3786"
             ],
             [
              0.5555555555555556,
              "#d8576b"
             ],
             [
              0.6666666666666666,
              "#ed7953"
             ],
             [
              0.7777777777777778,
              "#fb9f3a"
             ],
             [
              0.8888888888888888,
              "#fdca26"
             ],
             [
              1,
              "#f0f921"
             ]
            ],
            "type": "histogram2dcontour"
           }
          ],
          "mesh3d": [
           {
            "colorbar": {
             "outlinewidth": 0,
             "ticks": ""
            },
            "type": "mesh3d"
           }
          ],
          "parcoords": [
           {
            "line": {
             "colorbar": {
              "outlinewidth": 0,
              "ticks": ""
             }
            },
            "type": "parcoords"
           }
          ],
          "pie": [
           {
            "automargin": true,
            "type": "pie"
           }
          ],
          "scatter": [
           {
            "fillpattern": {
             "fillmode": "overlay",
             "size": 10,
             "solidity": 0.2
            },
            "type": "scatter"
           }
          ],
          "scatter3d": [
           {
            "line": {
             "colorbar": {
              "outlinewidth": 0,
              "ticks": ""
             }
            },
            "marker": {
             "colorbar": {
              "outlinewidth": 0,
              "ticks": ""
             }
            },
            "type": "scatter3d"
           }
          ],
          "scattercarpet": [
           {
            "marker": {
             "colorbar": {
              "outlinewidth": 0,
              "ticks": ""
             }
            },
            "type": "scattercarpet"
           }
          ],
          "scattergeo": [
           {
            "marker": {
             "colorbar": {
              "outlinewidth": 0,
              "ticks": ""
             }
            },
            "type": "scattergeo"
           }
          ],
          "scattergl": [
           {
            "marker": {
             "colorbar": {
              "outlinewidth": 0,
              "ticks": ""
             }
            },
            "type": "scattergl"
           }
          ],
          "scattermap": [
           {
            "marker": {
             "colorbar": {
              "outlinewidth": 0,
              "ticks": ""
             }
            },
            "type": "scattermap"
           }
          ],
          "scattermapbox": [
           {
            "marker": {
             "colorbar": {
              "outlinewidth": 0,
              "ticks": ""
             }
            },
            "type": "scattermapbox"
           }
          ],
          "scatterpolar": [
           {
            "marker": {
             "colorbar": {
              "outlinewidth": 0,
              "ticks": ""
             }
            },
            "type": "scatterpolar"
           }
          ],
          "scatterpolargl": [
           {
            "marker": {
             "colorbar": {
              "outlinewidth": 0,
              "ticks": ""
             }
            },
            "type": "scatterpolargl"
           }
          ],
          "scatterternary": [
           {
            "marker": {
             "colorbar": {
              "outlinewidth": 0,
              "ticks": ""
             }
            },
            "type": "scatterternary"
           }
          ],
          "surface": [
           {
            "colorbar": {
             "outlinewidth": 0,
             "ticks": ""
            },
            "colorscale": [
             [
              0,
              "#0d0887"
             ],
             [
              0.1111111111111111,
              "#46039f"
             ],
             [
              0.2222222222222222,
              "#7201a8"
             ],
             [
              0.3333333333333333,
              "#9c179e"
             ],
             [
              0.4444444444444444,
              "#bd3786"
             ],
             [
              0.5555555555555556,
              "#d8576b"
             ],
             [
              0.6666666666666666,
              "#ed7953"
             ],
             [
              0.7777777777777778,
              "#fb9f3a"
             ],
             [
              0.8888888888888888,
              "#fdca26"
             ],
             [
              1,
              "#f0f921"
             ]
            ],
            "type": "surface"
           }
          ],
          "table": [
           {
            "cells": {
             "fill": {
              "color": "#EBF0F8"
             },
             "line": {
              "color": "white"
             }
            },
            "header": {
             "fill": {
              "color": "#C8D4E3"
             },
             "line": {
              "color": "white"
             }
            },
            "type": "table"
           }
          ]
         },
         "layout": {
          "annotationdefaults": {
           "arrowcolor": "#2a3f5f",
           "arrowhead": 0,
           "arrowwidth": 1
          },
          "autotypenumbers": "strict",
          "coloraxis": {
           "colorbar": {
            "outlinewidth": 0,
            "ticks": ""
           }
          },
          "colorscale": {
           "diverging": [
            [
             0,
             "#8e0152"
            ],
            [
             0.1,
             "#c51b7d"
            ],
            [
             0.2,
             "#de77ae"
            ],
            [
             0.3,
             "#f1b6da"
            ],
            [
             0.4,
             "#fde0ef"
            ],
            [
             0.5,
             "#f7f7f7"
            ],
            [
             0.6,
             "#e6f5d0"
            ],
            [
             0.7,
             "#b8e186"
            ],
            [
             0.8,
             "#7fbc41"
            ],
            [
             0.9,
             "#4d9221"
            ],
            [
             1,
             "#276419"
            ]
           ],
           "sequential": [
            [
             0,
             "#0d0887"
            ],
            [
             0.1111111111111111,
             "#46039f"
            ],
            [
             0.2222222222222222,
             "#7201a8"
            ],
            [
             0.3333333333333333,
             "#9c179e"
            ],
            [
             0.4444444444444444,
             "#bd3786"
            ],
            [
             0.5555555555555556,
             "#d8576b"
            ],
            [
             0.6666666666666666,
             "#ed7953"
            ],
            [
             0.7777777777777778,
             "#fb9f3a"
            ],
            [
             0.8888888888888888,
             "#fdca26"
            ],
            [
             1,
             "#f0f921"
            ]
           ],
           "sequentialminus": [
            [
             0,
             "#0d0887"
            ],
            [
             0.1111111111111111,
             "#46039f"
            ],
            [
             0.2222222222222222,
             "#7201a8"
            ],
            [
             0.3333333333333333,
             "#9c179e"
            ],
            [
             0.4444444444444444,
             "#bd3786"
            ],
            [
             0.5555555555555556,
             "#d8576b"
            ],
            [
             0.6666666666666666,
             "#ed7953"
            ],
            [
             0.7777777777777778,
             "#fb9f3a"
            ],
            [
             0.8888888888888888,
             "#fdca26"
            ],
            [
             1,
             "#f0f921"
            ]
           ]
          },
          "colorway": [
           "#636efa",
           "#EF553B",
           "#00cc96",
           "#ab63fa",
           "#FFA15A",
           "#19d3f3",
           "#FF6692",
           "#B6E880",
           "#FF97FF",
           "#FECB52"
          ],
          "font": {
           "color": "#2a3f5f"
          },
          "geo": {
           "bgcolor": "white",
           "lakecolor": "white",
           "landcolor": "#E5ECF6",
           "showlakes": true,
           "showland": true,
           "subunitcolor": "white"
          },
          "hoverlabel": {
           "align": "left"
          },
          "hovermode": "closest",
          "mapbox": {
           "style": "light"
          },
          "paper_bgcolor": "white",
          "plot_bgcolor": "#E5ECF6",
          "polar": {
           "angularaxis": {
            "gridcolor": "white",
            "linecolor": "white",
            "ticks": ""
           },
           "bgcolor": "#E5ECF6",
           "radialaxis": {
            "gridcolor": "white",
            "linecolor": "white",
            "ticks": ""
           }
          },
          "scene": {
           "xaxis": {
            "backgroundcolor": "#E5ECF6",
            "gridcolor": "white",
            "gridwidth": 2,
            "linecolor": "white",
            "showbackground": true,
            "ticks": "",
            "zerolinecolor": "white"
           },
           "yaxis": {
            "backgroundcolor": "#E5ECF6",
            "gridcolor": "white",
            "gridwidth": 2,
            "linecolor": "white",
            "showbackground": true,
            "ticks": "",
            "zerolinecolor": "white"
           },
           "zaxis": {
            "backgroundcolor": "#E5ECF6",
            "gridcolor": "white",
            "gridwidth": 2,
            "linecolor": "white",
            "showbackground": true,
            "ticks": "",
            "zerolinecolor": "white"
           }
          },
          "shapedefaults": {
           "line": {
            "color": "#2a3f5f"
           }
          },
          "ternary": {
           "aaxis": {
            "gridcolor": "white",
            "linecolor": "white",
            "ticks": ""
           },
           "baxis": {
            "gridcolor": "white",
            "linecolor": "white",
            "ticks": ""
           },
           "bgcolor": "#E5ECF6",
           "caxis": {
            "gridcolor": "white",
            "linecolor": "white",
            "ticks": ""
           }
          },
          "title": {
           "x": 0.05
          },
          "xaxis": {
           "automargin": true,
           "gridcolor": "white",
           "linecolor": "white",
           "ticks": "",
           "title": {
            "standoff": 15
           },
           "zerolinecolor": "white",
           "zerolinewidth": 2
          },
          "yaxis": {
           "automargin": true,
           "gridcolor": "white",
           "linecolor": "white",
           "ticks": "",
           "title": {
            "standoff": 15
           },
           "zerolinecolor": "white",
           "zerolinewidth": 2
          }
         }
        },
        "title": {
         "text": " Batsman Average VS Strike Rate"
        },
        "width": 1700,
        "xaxis": {
         "title": {
          "text": "Batsman Average"
         }
        },
        "yaxis": {
         "title": {
          "text": "Batsman Strike Rate"
         }
        }
       }
      }
     },
     "metadata": {},
     "output_type": "display_data"
    }
   ],
   "source": [
    "# Plot Scatter Plot Here\n",
    "\n",
    "trace = go.Scatter(\n",
    "            x = avg['avg'], \n",
    "            y=avg['batsman_runs'],\n",
    "            mode='markers',\n",
    "            hovertext=avg['batsman'],\n",
    "            marker=dict(\n",
    "                size=16,\n",
    "                color='red',\n",
    "                opacity=0.8,\n",
    "                line=dict(width=0.5, color='black')\n",
    "    )\n",
    ")\n",
    "\n",
    "data = [trace]\n",
    "\n",
    "layout = go.Layout(\n",
    "            title=' Batsman Average VS Strike Rate',\n",
    "            xaxis={\n",
    "                'title': 'Batsman Average'\n",
    "            },\n",
    "            yaxis={\n",
    "                'title': 'Batsman Strike Rate'\n",
    "            },\n",
    ")\n",
    "\n",
    "fig = go.Figure(data, layout).update_layout(\n",
    "        autosize=False,  \n",
    "        width=1700,      \n",
    "        height=900,      \n",
    ")\n",
    "\n",
    "fig.show()"
   ]
  },
  {
   "cell_type": "markdown",
   "id": "950c0ce5",
   "metadata": {},
   "source": [
    "## Line Chart"
   ]
  },
  {
   "cell_type": "code",
   "execution_count": 131,
   "id": "6fbdf687",
   "metadata": {},
   "outputs": [
    {
     "data": {
      "text/html": [
       "<div>\n",
       "<style scoped>\n",
       "    .dataframe tbody tr th:only-of-type {\n",
       "        vertical-align: middle;\n",
       "    }\n",
       "\n",
       "    .dataframe tbody tr th {\n",
       "        vertical-align: top;\n",
       "    }\n",
       "\n",
       "    .dataframe thead th {\n",
       "        text-align: right;\n",
       "    }\n",
       "</style>\n",
       "<table border=\"1\" class=\"dataframe\">\n",
       "  <thead>\n",
       "    <tr style=\"text-align: right;\">\n",
       "      <th></th>\n",
       "      <th>season</th>\n",
       "      <th>batsman_runs</th>\n",
       "    </tr>\n",
       "  </thead>\n",
       "  <tbody>\n",
       "    <tr>\n",
       "      <th>0</th>\n",
       "      <td>2008</td>\n",
       "      <td>414</td>\n",
       "    </tr>\n",
       "    <tr>\n",
       "      <th>1</th>\n",
       "      <td>2009</td>\n",
       "      <td>332</td>\n",
       "    </tr>\n",
       "    <tr>\n",
       "      <th>2</th>\n",
       "      <td>2010</td>\n",
       "      <td>287</td>\n",
       "    </tr>\n",
       "    <tr>\n",
       "      <th>3</th>\n",
       "      <td>2011</td>\n",
       "      <td>392</td>\n",
       "    </tr>\n",
       "    <tr>\n",
       "      <th>4</th>\n",
       "      <td>2012</td>\n",
       "      <td>357</td>\n",
       "    </tr>\n",
       "    <tr>\n",
       "      <th>5</th>\n",
       "      <td>2013</td>\n",
       "      <td>461</td>\n",
       "    </tr>\n",
       "    <tr>\n",
       "      <th>6</th>\n",
       "      <td>2014</td>\n",
       "      <td>371</td>\n",
       "    </tr>\n",
       "    <tr>\n",
       "      <th>7</th>\n",
       "      <td>2015</td>\n",
       "      <td>372</td>\n",
       "    </tr>\n",
       "    <tr>\n",
       "      <th>8</th>\n",
       "      <td>2016</td>\n",
       "      <td>284</td>\n",
       "    </tr>\n",
       "    <tr>\n",
       "      <th>9</th>\n",
       "      <td>2017</td>\n",
       "      <td>290</td>\n",
       "    </tr>\n",
       "  </tbody>\n",
       "</table>\n",
       "</div>"
      ],
      "text/plain": [
       "   season  batsman_runs\n",
       "0    2008           414\n",
       "1    2009           332\n",
       "2    2010           287\n",
       "3    2011           392\n",
       "4    2012           357\n",
       "5    2013           461\n",
       "6    2014           371\n",
       "7    2015           372\n",
       "8    2016           284\n",
       "9    2017           290"
      ]
     },
     "execution_count": 131,
     "metadata": {},
     "output_type": "execute_result"
    }
   ],
   "source": [
    "# Year by Year Batsman Performance\n",
    "\n",
    "single = ipl[ipl['batsman']=='V Kohli']\n",
    "performance = single.groupby('season')['batsman_runs'].sum().reset_index()\n",
    "performance\n",
    "\n",
    "single1 = ipl[ipl['batsman']=='MS Dhoni']\n",
    "performance1 = single1.groupby('season')['batsman_runs'].sum().reset_index()\n",
    "performance1"
   ]
  },
  {
   "cell_type": "code",
   "execution_count": 132,
   "id": "7e897d9b",
   "metadata": {},
   "outputs": [
    {
     "data": {
      "application/vnd.plotly.v1+json": {
       "config": {
        "plotlyServerURL": "https://plot.ly"
       },
       "data": [
        {
         "marker": {
          "color": "green",
          "line": {
           "color": "black",
           "width": 0.5
          },
          "opacity": 0.8,
          "size": 16
         },
         "mode": "lines+markers",
         "name": "V Kohli",
         "type": "scatter",
         "x": {
          "bdata": "2AfZB9oH2wfcB90H3gffB+AH4Qc=",
          "dtype": "i2"
         },
         "y": {
          "bdata": "pQD2ADMBLQJsAX8CZwH5Ac0DNAE=",
          "dtype": "i2"
         }
        },
        {
         "marker": {
          "color": "red",
          "line": {
           "color": "black",
           "width": 0.5
          },
          "opacity": 0.8,
          "size": 16
         },
         "mode": "lines+markers",
         "name": "MS Dhoni",
         "type": "scatter",
         "x": {
          "bdata": "2AfZB9oH2wfcB90H3gffB+AH4Qc=",
          "dtype": "i2"
         },
         "y": {
          "bdata": "ngFMAR8BiAFlAc0BcwF0ARwBIgE=",
          "dtype": "i2"
         }
        }
       ],
       "layout": {
        "autosize": false,
        "height": 900,
        "template": {
         "data": {
          "bar": [
           {
            "error_x": {
             "color": "#2a3f5f"
            },
            "error_y": {
             "color": "#2a3f5f"
            },
            "marker": {
             "line": {
              "color": "#E5ECF6",
              "width": 0.5
             },
             "pattern": {
              "fillmode": "overlay",
              "size": 10,
              "solidity": 0.2
             }
            },
            "type": "bar"
           }
          ],
          "barpolar": [
           {
            "marker": {
             "line": {
              "color": "#E5ECF6",
              "width": 0.5
             },
             "pattern": {
              "fillmode": "overlay",
              "size": 10,
              "solidity": 0.2
             }
            },
            "type": "barpolar"
           }
          ],
          "carpet": [
           {
            "aaxis": {
             "endlinecolor": "#2a3f5f",
             "gridcolor": "white",
             "linecolor": "white",
             "minorgridcolor": "white",
             "startlinecolor": "#2a3f5f"
            },
            "baxis": {
             "endlinecolor": "#2a3f5f",
             "gridcolor": "white",
             "linecolor": "white",
             "minorgridcolor": "white",
             "startlinecolor": "#2a3f5f"
            },
            "type": "carpet"
           }
          ],
          "choropleth": [
           {
            "colorbar": {
             "outlinewidth": 0,
             "ticks": ""
            },
            "type": "choropleth"
           }
          ],
          "contour": [
           {
            "colorbar": {
             "outlinewidth": 0,
             "ticks": ""
            },
            "colorscale": [
             [
              0,
              "#0d0887"
             ],
             [
              0.1111111111111111,
              "#46039f"
             ],
             [
              0.2222222222222222,
              "#7201a8"
             ],
             [
              0.3333333333333333,
              "#9c179e"
             ],
             [
              0.4444444444444444,
              "#bd3786"
             ],
             [
              0.5555555555555556,
              "#d8576b"
             ],
             [
              0.6666666666666666,
              "#ed7953"
             ],
             [
              0.7777777777777778,
              "#fb9f3a"
             ],
             [
              0.8888888888888888,
              "#fdca26"
             ],
             [
              1,
              "#f0f921"
             ]
            ],
            "type": "contour"
           }
          ],
          "contourcarpet": [
           {
            "colorbar": {
             "outlinewidth": 0,
             "ticks": ""
            },
            "type": "contourcarpet"
           }
          ],
          "heatmap": [
           {
            "colorbar": {
             "outlinewidth": 0,
             "ticks": ""
            },
            "colorscale": [
             [
              0,
              "#0d0887"
             ],
             [
              0.1111111111111111,
              "#46039f"
             ],
             [
              0.2222222222222222,
              "#7201a8"
             ],
             [
              0.3333333333333333,
              "#9c179e"
             ],
             [
              0.4444444444444444,
              "#bd3786"
             ],
             [
              0.5555555555555556,
              "#d8576b"
             ],
             [
              0.6666666666666666,
              "#ed7953"
             ],
             [
              0.7777777777777778,
              "#fb9f3a"
             ],
             [
              0.8888888888888888,
              "#fdca26"
             ],
             [
              1,
              "#f0f921"
             ]
            ],
            "type": "heatmap"
           }
          ],
          "histogram": [
           {
            "marker": {
             "pattern": {
              "fillmode": "overlay",
              "size": 10,
              "solidity": 0.2
             }
            },
            "type": "histogram"
           }
          ],
          "histogram2d": [
           {
            "colorbar": {
             "outlinewidth": 0,
             "ticks": ""
            },
            "colorscale": [
             [
              0,
              "#0d0887"
             ],
             [
              0.1111111111111111,
              "#46039f"
             ],
             [
              0.2222222222222222,
              "#7201a8"
             ],
             [
              0.3333333333333333,
              "#9c179e"
             ],
             [
              0.4444444444444444,
              "#bd3786"
             ],
             [
              0.5555555555555556,
              "#d8576b"
             ],
             [
              0.6666666666666666,
              "#ed7953"
             ],
             [
              0.7777777777777778,
              "#fb9f3a"
             ],
             [
              0.8888888888888888,
              "#fdca26"
             ],
             [
              1,
              "#f0f921"
             ]
            ],
            "type": "histogram2d"
           }
          ],
          "histogram2dcontour": [
           {
            "colorbar": {
             "outlinewidth": 0,
             "ticks": ""
            },
            "colorscale": [
             [
              0,
              "#0d0887"
             ],
             [
              0.1111111111111111,
              "#46039f"
             ],
             [
              0.2222222222222222,
              "#7201a8"
             ],
             [
              0.3333333333333333,
              "#9c179e"
             ],
             [
              0.4444444444444444,
              "#bd3786"
             ],
             [
              0.5555555555555556,
              "#d8576b"
             ],
             [
              0.6666666666666666,
              "#ed7953"
             ],
             [
              0.7777777777777778,
              "#fb9f3a"
             ],
             [
              0.8888888888888888,
              "#fdca26"
             ],
             [
              1,
              "#f0f921"
             ]
            ],
            "type": "histogram2dcontour"
           }
          ],
          "mesh3d": [
           {
            "colorbar": {
             "outlinewidth": 0,
             "ticks": ""
            },
            "type": "mesh3d"
           }
          ],
          "parcoords": [
           {
            "line": {
             "colorbar": {
              "outlinewidth": 0,
              "ticks": ""
             }
            },
            "type": "parcoords"
           }
          ],
          "pie": [
           {
            "automargin": true,
            "type": "pie"
           }
          ],
          "scatter": [
           {
            "fillpattern": {
             "fillmode": "overlay",
             "size": 10,
             "solidity": 0.2
            },
            "type": "scatter"
           }
          ],
          "scatter3d": [
           {
            "line": {
             "colorbar": {
              "outlinewidth": 0,
              "ticks": ""
             }
            },
            "marker": {
             "colorbar": {
              "outlinewidth": 0,
              "ticks": ""
             }
            },
            "type": "scatter3d"
           }
          ],
          "scattercarpet": [
           {
            "marker": {
             "colorbar": {
              "outlinewidth": 0,
              "ticks": ""
             }
            },
            "type": "scattercarpet"
           }
          ],
          "scattergeo": [
           {
            "marker": {
             "colorbar": {
              "outlinewidth": 0,
              "ticks": ""
             }
            },
            "type": "scattergeo"
           }
          ],
          "scattergl": [
           {
            "marker": {
             "colorbar": {
              "outlinewidth": 0,
              "ticks": ""
             }
            },
            "type": "scattergl"
           }
          ],
          "scattermap": [
           {
            "marker": {
             "colorbar": {
              "outlinewidth": 0,
              "ticks": ""
             }
            },
            "type": "scattermap"
           }
          ],
          "scattermapbox": [
           {
            "marker": {
             "colorbar": {
              "outlinewidth": 0,
              "ticks": ""
             }
            },
            "type": "scattermapbox"
           }
          ],
          "scatterpolar": [
           {
            "marker": {
             "colorbar": {
              "outlinewidth": 0,
              "ticks": ""
             }
            },
            "type": "scatterpolar"
           }
          ],
          "scatterpolargl": [
           {
            "marker": {
             "colorbar": {
              "outlinewidth": 0,
              "ticks": ""
             }
            },
            "type": "scatterpolargl"
           }
          ],
          "scatterternary": [
           {
            "marker": {
             "colorbar": {
              "outlinewidth": 0,
              "ticks": ""
             }
            },
            "type": "scatterternary"
           }
          ],
          "surface": [
           {
            "colorbar": {
             "outlinewidth": 0,
             "ticks": ""
            },
            "colorscale": [
             [
              0,
              "#0d0887"
             ],
             [
              0.1111111111111111,
              "#46039f"
             ],
             [
              0.2222222222222222,
              "#7201a8"
             ],
             [
              0.3333333333333333,
              "#9c179e"
             ],
             [
              0.4444444444444444,
              "#bd3786"
             ],
             [
              0.5555555555555556,
              "#d8576b"
             ],
             [
              0.6666666666666666,
              "#ed7953"
             ],
             [
              0.7777777777777778,
              "#fb9f3a"
             ],
             [
              0.8888888888888888,
              "#fdca26"
             ],
             [
              1,
              "#f0f921"
             ]
            ],
            "type": "surface"
           }
          ],
          "table": [
           {
            "cells": {
             "fill": {
              "color": "#EBF0F8"
             },
             "line": {
              "color": "white"
             }
            },
            "header": {
             "fill": {
              "color": "#C8D4E3"
             },
             "line": {
              "color": "white"
             }
            },
            "type": "table"
           }
          ]
         },
         "layout": {
          "annotationdefaults": {
           "arrowcolor": "#2a3f5f",
           "arrowhead": 0,
           "arrowwidth": 1
          },
          "autotypenumbers": "strict",
          "coloraxis": {
           "colorbar": {
            "outlinewidth": 0,
            "ticks": ""
           }
          },
          "colorscale": {
           "diverging": [
            [
             0,
             "#8e0152"
            ],
            [
             0.1,
             "#c51b7d"
            ],
            [
             0.2,
             "#de77ae"
            ],
            [
             0.3,
             "#f1b6da"
            ],
            [
             0.4,
             "#fde0ef"
            ],
            [
             0.5,
             "#f7f7f7"
            ],
            [
             0.6,
             "#e6f5d0"
            ],
            [
             0.7,
             "#b8e186"
            ],
            [
             0.8,
             "#7fbc41"
            ],
            [
             0.9,
             "#4d9221"
            ],
            [
             1,
             "#276419"
            ]
           ],
           "sequential": [
            [
             0,
             "#0d0887"
            ],
            [
             0.1111111111111111,
             "#46039f"
            ],
            [
             0.2222222222222222,
             "#7201a8"
            ],
            [
             0.3333333333333333,
             "#9c179e"
            ],
            [
             0.4444444444444444,
             "#bd3786"
            ],
            [
             0.5555555555555556,
             "#d8576b"
            ],
            [
             0.6666666666666666,
             "#ed7953"
            ],
            [
             0.7777777777777778,
             "#fb9f3a"
            ],
            [
             0.8888888888888888,
             "#fdca26"
            ],
            [
             1,
             "#f0f921"
            ]
           ],
           "sequentialminus": [
            [
             0,
             "#0d0887"
            ],
            [
             0.1111111111111111,
             "#46039f"
            ],
            [
             0.2222222222222222,
             "#7201a8"
            ],
            [
             0.3333333333333333,
             "#9c179e"
            ],
            [
             0.4444444444444444,
             "#bd3786"
            ],
            [
             0.5555555555555556,
             "#d8576b"
            ],
            [
             0.6666666666666666,
             "#ed7953"
            ],
            [
             0.7777777777777778,
             "#fb9f3a"
            ],
            [
             0.8888888888888888,
             "#fdca26"
            ],
            [
             1,
             "#f0f921"
            ]
           ]
          },
          "colorway": [
           "#636efa",
           "#EF553B",
           "#00cc96",
           "#ab63fa",
           "#FFA15A",
           "#19d3f3",
           "#FF6692",
           "#B6E880",
           "#FF97FF",
           "#FECB52"
          ],
          "font": {
           "color": "#2a3f5f"
          },
          "geo": {
           "bgcolor": "white",
           "lakecolor": "white",
           "landcolor": "#E5ECF6",
           "showlakes": true,
           "showland": true,
           "subunitcolor": "white"
          },
          "hoverlabel": {
           "align": "left"
          },
          "hovermode": "closest",
          "mapbox": {
           "style": "light"
          },
          "paper_bgcolor": "white",
          "plot_bgcolor": "#E5ECF6",
          "polar": {
           "angularaxis": {
            "gridcolor": "white",
            "linecolor": "white",
            "ticks": ""
           },
           "bgcolor": "#E5ECF6",
           "radialaxis": {
            "gridcolor": "white",
            "linecolor": "white",
            "ticks": ""
           }
          },
          "scene": {
           "xaxis": {
            "backgroundcolor": "#E5ECF6",
            "gridcolor": "white",
            "gridwidth": 2,
            "linecolor": "white",
            "showbackground": true,
            "ticks": "",
            "zerolinecolor": "white"
           },
           "yaxis": {
            "backgroundcolor": "#E5ECF6",
            "gridcolor": "white",
            "gridwidth": 2,
            "linecolor": "white",
            "showbackground": true,
            "ticks": "",
            "zerolinecolor": "white"
           },
           "zaxis": {
            "backgroundcolor": "#E5ECF6",
            "gridcolor": "white",
            "gridwidth": 2,
            "linecolor": "white",
            "showbackground": true,
            "ticks": "",
            "zerolinecolor": "white"
           }
          },
          "shapedefaults": {
           "line": {
            "color": "#2a3f5f"
           }
          },
          "ternary": {
           "aaxis": {
            "gridcolor": "white",
            "linecolor": "white",
            "ticks": ""
           },
           "baxis": {
            "gridcolor": "white",
            "linecolor": "white",
            "ticks": ""
           },
           "bgcolor": "#E5ECF6",
           "caxis": {
            "gridcolor": "white",
            "linecolor": "white",
            "ticks": ""
           }
          },
          "title": {
           "x": 0.05
          },
          "xaxis": {
           "automargin": true,
           "gridcolor": "white",
           "linecolor": "white",
           "ticks": "",
           "title": {
            "standoff": 15
           },
           "zerolinecolor": "white",
           "zerolinewidth": 2
          },
          "yaxis": {
           "automargin": true,
           "gridcolor": "white",
           "linecolor": "white",
           "ticks": "",
           "title": {
            "standoff": 15
           },
           "zerolinecolor": "white",
           "zerolinewidth": 2
          }
         }
        },
        "title": {
         "text": " Year by Year Performance"
        },
        "width": 1700,
        "xaxis": {
         "title": {
          "text": "Season"
         }
        },
        "yaxis": {
         "title": {
          "text": "Total Runs"
         }
        }
       }
      }
     },
     "metadata": {},
     "output_type": "display_data"
    }
   ],
   "source": [
    "# Plot the Line Chart\n",
    "\n",
    "trace = go.Scatter(\n",
    "    x=performance['season'],\n",
    "    y=performance['batsman_runs'],\n",
    "    mode='lines + markers',\n",
    "    name='V Kohli',\n",
    "    marker=dict(\n",
    "                size=16,\n",
    "                color='green',\n",
    "                opacity=0.8,\n",
    "                line=dict(width=0.5, color='black')\n",
    "    )\n",
    ")\n",
    "\n",
    "trace1 = go.Scatter(\n",
    "    x=performance1['season'],\n",
    "    y=performance1['batsman_runs'],\n",
    "    mode='lines + markers',\n",
    "    name='MS Dhoni',\n",
    "    marker=dict(\n",
    "                size=16,\n",
    "                color='red',\n",
    "                opacity=0.8,\n",
    "                line=dict(width=0.5, color='black')\n",
    "    )\n",
    ")\n",
    "\n",
    "data=[trace, trace1]\n",
    "\n",
    "layout = go.Layout(\n",
    "            title=' Year by Year Performance',\n",
    "            xaxis={\n",
    "                'title': 'Season'\n",
    "            },\n",
    "            yaxis={\n",
    "                'title': 'Total Runs'\n",
    "            },\n",
    ")\n",
    "\n",
    "fig = go.Figure(data, layout).update_layout(\n",
    "        autosize=False,  \n",
    "        width=1700,      \n",
    "        height=900,      \n",
    ")\n",
    "\n",
    "fig.show()"
   ]
  },
  {
   "cell_type": "code",
   "execution_count": 133,
   "id": "17fe68d7",
   "metadata": {},
   "outputs": [],
   "source": [
    "# Multiple Line Charts\n",
    "\n",
    "def batsman_comp(*name):\n",
    "    data=[]\n",
    "    for i in name:\n",
    "        single = ipl[ipl['batsman']== i ]\n",
    "        performance = single.groupby('season')['batsman_runs'].sum().reset_index()\n",
    "        \n",
    "        trace = go.Scatter(\n",
    "            x=performance['season'],\n",
    "            y=performance['batsman_runs'],\n",
    "            mode='lines + markers',\n",
    "            name=i,\n",
    "            marker=dict(\n",
    "                size=16,\n",
    "                opacity=0.8,\n",
    "                line=dict(width=0.5, color='black')\n",
    "            )\n",
    "        )\n",
    "        \n",
    "        data.append(trace)\n",
    "        \n",
    "    layout = go.Layout(\n",
    "            title=' Year by Year Performance',\n",
    "            xaxis={\n",
    "                'title': 'Season'\n",
    "            },\n",
    "            yaxis={\n",
    "                'title': 'Total Runs'\n",
    "            },\n",
    "    )\n",
    "    \n",
    "    fig = go.Figure(data, layout).update_layout(\n",
    "        autosize=False,  \n",
    "        width=1700,      \n",
    "        height=900,      \n",
    "    )\n",
    "\n",
    "    fig.show()"
   ]
  },
  {
   "cell_type": "code",
   "execution_count": 134,
   "id": "14a312b4",
   "metadata": {},
   "outputs": [
    {
     "data": {
      "application/vnd.plotly.v1+json": {
       "config": {
        "plotlyServerURL": "https://plot.ly"
       },
       "data": [
        {
         "marker": {
          "line": {
           "color": "black",
           "width": 0.5
          },
          "opacity": 0.8,
          "size": 16
         },
         "mode": "lines+markers",
         "name": "V Kohli",
         "type": "scatter",
         "x": {
          "bdata": "2AfZB9oH2wfcB90H3gffB+AH4Qc=",
          "dtype": "i2"
         },
         "y": {
          "bdata": "pQD2ADMBLQJsAX8CZwH5Ac0DNAE=",
          "dtype": "i2"
         }
        },
        {
         "marker": {
          "line": {
           "color": "black",
           "width": 0.5
          },
          "opacity": 0.8,
          "size": 16
         },
         "mode": "lines+markers",
         "name": "RG Sharma",
         "type": "scatter",
         "x": {
          "bdata": "2AfZB9oH2wfcB90H3gffB+AH4Qc=",
          "dtype": "i2"
         },
         "y": {
          "bdata": "lAFqAZQBdAGxARoChgHiAekBTQE=",
          "dtype": "i2"
         }
        },
        {
         "marker": {
          "line": {
           "color": "black",
           "width": 0.5
          },
          "opacity": 0.8,
          "size": 16
         },
         "mode": "lines+markers",
         "name": "DA Warner",
         "type": "scatter",
         "x": {
          "bdata": "2QfaB9sH3AfdB94H3wfgB+EH",
          "dtype": "i2"
         },
         "y": {
          "bdata": "owAaAUQBAAGaARACMgJQA4EC",
          "dtype": "i2"
         }
        },
        {
         "marker": {
          "line": {
           "color": "black",
           "width": 0.5
          },
          "opacity": 0.8,
          "size": 16
         },
         "mode": "lines+markers",
         "name": "MS Dhoni",
         "type": "scatter",
         "x": {
          "bdata": "2AfZB9oH2wfcB90H3gffB+AH4Qc=",
          "dtype": "i2"
         },
         "y": {
          "bdata": "ngFMAR8BiAFlAc0BcwF0ARwBIgE=",
          "dtype": "i2"
         }
        }
       ],
       "layout": {
        "autosize": false,
        "height": 900,
        "template": {
         "data": {
          "bar": [
           {
            "error_x": {
             "color": "#2a3f5f"
            },
            "error_y": {
             "color": "#2a3f5f"
            },
            "marker": {
             "line": {
              "color": "#E5ECF6",
              "width": 0.5
             },
             "pattern": {
              "fillmode": "overlay",
              "size": 10,
              "solidity": 0.2
             }
            },
            "type": "bar"
           }
          ],
          "barpolar": [
           {
            "marker": {
             "line": {
              "color": "#E5ECF6",
              "width": 0.5
             },
             "pattern": {
              "fillmode": "overlay",
              "size": 10,
              "solidity": 0.2
             }
            },
            "type": "barpolar"
           }
          ],
          "carpet": [
           {
            "aaxis": {
             "endlinecolor": "#2a3f5f",
             "gridcolor": "white",
             "linecolor": "white",
             "minorgridcolor": "white",
             "startlinecolor": "#2a3f5f"
            },
            "baxis": {
             "endlinecolor": "#2a3f5f",
             "gridcolor": "white",
             "linecolor": "white",
             "minorgridcolor": "white",
             "startlinecolor": "#2a3f5f"
            },
            "type": "carpet"
           }
          ],
          "choropleth": [
           {
            "colorbar": {
             "outlinewidth": 0,
             "ticks": ""
            },
            "type": "choropleth"
           }
          ],
          "contour": [
           {
            "colorbar": {
             "outlinewidth": 0,
             "ticks": ""
            },
            "colorscale": [
             [
              0,
              "#0d0887"
             ],
             [
              0.1111111111111111,
              "#46039f"
             ],
             [
              0.2222222222222222,
              "#7201a8"
             ],
             [
              0.3333333333333333,
              "#9c179e"
             ],
             [
              0.4444444444444444,
              "#bd3786"
             ],
             [
              0.5555555555555556,
              "#d8576b"
             ],
             [
              0.6666666666666666,
              "#ed7953"
             ],
             [
              0.7777777777777778,
              "#fb9f3a"
             ],
             [
              0.8888888888888888,
              "#fdca26"
             ],
             [
              1,
              "#f0f921"
             ]
            ],
            "type": "contour"
           }
          ],
          "contourcarpet": [
           {
            "colorbar": {
             "outlinewidth": 0,
             "ticks": ""
            },
            "type": "contourcarpet"
           }
          ],
          "heatmap": [
           {
            "colorbar": {
             "outlinewidth": 0,
             "ticks": ""
            },
            "colorscale": [
             [
              0,
              "#0d0887"
             ],
             [
              0.1111111111111111,
              "#46039f"
             ],
             [
              0.2222222222222222,
              "#7201a8"
             ],
             [
              0.3333333333333333,
              "#9c179e"
             ],
             [
              0.4444444444444444,
              "#bd3786"
             ],
             [
              0.5555555555555556,
              "#d8576b"
             ],
             [
              0.6666666666666666,
              "#ed7953"
             ],
             [
              0.7777777777777778,
              "#fb9f3a"
             ],
             [
              0.8888888888888888,
              "#fdca26"
             ],
             [
              1,
              "#f0f921"
             ]
            ],
            "type": "heatmap"
           }
          ],
          "histogram": [
           {
            "marker": {
             "pattern": {
              "fillmode": "overlay",
              "size": 10,
              "solidity": 0.2
             }
            },
            "type": "histogram"
           }
          ],
          "histogram2d": [
           {
            "colorbar": {
             "outlinewidth": 0,
             "ticks": ""
            },
            "colorscale": [
             [
              0,
              "#0d0887"
             ],
             [
              0.1111111111111111,
              "#46039f"
             ],
             [
              0.2222222222222222,
              "#7201a8"
             ],
             [
              0.3333333333333333,
              "#9c179e"
             ],
             [
              0.4444444444444444,
              "#bd3786"
             ],
             [
              0.5555555555555556,
              "#d8576b"
             ],
             [
              0.6666666666666666,
              "#ed7953"
             ],
             [
              0.7777777777777778,
              "#fb9f3a"
             ],
             [
              0.8888888888888888,
              "#fdca26"
             ],
             [
              1,
              "#f0f921"
             ]
            ],
            "type": "histogram2d"
           }
          ],
          "histogram2dcontour": [
           {
            "colorbar": {
             "outlinewidth": 0,
             "ticks": ""
            },
            "colorscale": [
             [
              0,
              "#0d0887"
             ],
             [
              0.1111111111111111,
              "#46039f"
             ],
             [
              0.2222222222222222,
              "#7201a8"
             ],
             [
              0.3333333333333333,
              "#9c179e"
             ],
             [
              0.4444444444444444,
              "#bd3786"
             ],
             [
              0.5555555555555556,
              "#d8576b"
             ],
             [
              0.6666666666666666,
              "#ed7953"
             ],
             [
              0.7777777777777778,
              "#fb9f3a"
             ],
             [
              0.8888888888888888,
              "#fdca26"
             ],
             [
              1,
              "#f0f921"
             ]
            ],
            "type": "histogram2dcontour"
           }
          ],
          "mesh3d": [
           {
            "colorbar": {
             "outlinewidth": 0,
             "ticks": ""
            },
            "type": "mesh3d"
           }
          ],
          "parcoords": [
           {
            "line": {
             "colorbar": {
              "outlinewidth": 0,
              "ticks": ""
             }
            },
            "type": "parcoords"
           }
          ],
          "pie": [
           {
            "automargin": true,
            "type": "pie"
           }
          ],
          "scatter": [
           {
            "fillpattern": {
             "fillmode": "overlay",
             "size": 10,
             "solidity": 0.2
            },
            "type": "scatter"
           }
          ],
          "scatter3d": [
           {
            "line": {
             "colorbar": {
              "outlinewidth": 0,
              "ticks": ""
             }
            },
            "marker": {
             "colorbar": {
              "outlinewidth": 0,
              "ticks": ""
             }
            },
            "type": "scatter3d"
           }
          ],
          "scattercarpet": [
           {
            "marker": {
             "colorbar": {
              "outlinewidth": 0,
              "ticks": ""
             }
            },
            "type": "scattercarpet"
           }
          ],
          "scattergeo": [
           {
            "marker": {
             "colorbar": {
              "outlinewidth": 0,
              "ticks": ""
             }
            },
            "type": "scattergeo"
           }
          ],
          "scattergl": [
           {
            "marker": {
             "colorbar": {
              "outlinewidth": 0,
              "ticks": ""
             }
            },
            "type": "scattergl"
           }
          ],
          "scattermap": [
           {
            "marker": {
             "colorbar": {
              "outlinewidth": 0,
              "ticks": ""
             }
            },
            "type": "scattermap"
           }
          ],
          "scattermapbox": [
           {
            "marker": {
             "colorbar": {
              "outlinewidth": 0,
              "ticks": ""
             }
            },
            "type": "scattermapbox"
           }
          ],
          "scatterpolar": [
           {
            "marker": {
             "colorbar": {
              "outlinewidth": 0,
              "ticks": ""
             }
            },
            "type": "scatterpolar"
           }
          ],
          "scatterpolargl": [
           {
            "marker": {
             "colorbar": {
              "outlinewidth": 0,
              "ticks": ""
             }
            },
            "type": "scatterpolargl"
           }
          ],
          "scatterternary": [
           {
            "marker": {
             "colorbar": {
              "outlinewidth": 0,
              "ticks": ""
             }
            },
            "type": "scatterternary"
           }
          ],
          "surface": [
           {
            "colorbar": {
             "outlinewidth": 0,
             "ticks": ""
            },
            "colorscale": [
             [
              0,
              "#0d0887"
             ],
             [
              0.1111111111111111,
              "#46039f"
             ],
             [
              0.2222222222222222,
              "#7201a8"
             ],
             [
              0.3333333333333333,
              "#9c179e"
             ],
             [
              0.4444444444444444,
              "#bd3786"
             ],
             [
              0.5555555555555556,
              "#d8576b"
             ],
             [
              0.6666666666666666,
              "#ed7953"
             ],
             [
              0.7777777777777778,
              "#fb9f3a"
             ],
             [
              0.8888888888888888,
              "#fdca26"
             ],
             [
              1,
              "#f0f921"
             ]
            ],
            "type": "surface"
           }
          ],
          "table": [
           {
            "cells": {
             "fill": {
              "color": "#EBF0F8"
             },
             "line": {
              "color": "white"
             }
            },
            "header": {
             "fill": {
              "color": "#C8D4E3"
             },
             "line": {
              "color": "white"
             }
            },
            "type": "table"
           }
          ]
         },
         "layout": {
          "annotationdefaults": {
           "arrowcolor": "#2a3f5f",
           "arrowhead": 0,
           "arrowwidth": 1
          },
          "autotypenumbers": "strict",
          "coloraxis": {
           "colorbar": {
            "outlinewidth": 0,
            "ticks": ""
           }
          },
          "colorscale": {
           "diverging": [
            [
             0,
             "#8e0152"
            ],
            [
             0.1,
             "#c51b7d"
            ],
            [
             0.2,
             "#de77ae"
            ],
            [
             0.3,
             "#f1b6da"
            ],
            [
             0.4,
             "#fde0ef"
            ],
            [
             0.5,
             "#f7f7f7"
            ],
            [
             0.6,
             "#e6f5d0"
            ],
            [
             0.7,
             "#b8e186"
            ],
            [
             0.8,
             "#7fbc41"
            ],
            [
             0.9,
             "#4d9221"
            ],
            [
             1,
             "#276419"
            ]
           ],
           "sequential": [
            [
             0,
             "#0d0887"
            ],
            [
             0.1111111111111111,
             "#46039f"
            ],
            [
             0.2222222222222222,
             "#7201a8"
            ],
            [
             0.3333333333333333,
             "#9c179e"
            ],
            [
             0.4444444444444444,
             "#bd3786"
            ],
            [
             0.5555555555555556,
             "#d8576b"
            ],
            [
             0.6666666666666666,
             "#ed7953"
            ],
            [
             0.7777777777777778,
             "#fb9f3a"
            ],
            [
             0.8888888888888888,
             "#fdca26"
            ],
            [
             1,
             "#f0f921"
            ]
           ],
           "sequentialminus": [
            [
             0,
             "#0d0887"
            ],
            [
             0.1111111111111111,
             "#46039f"
            ],
            [
             0.2222222222222222,
             "#7201a8"
            ],
            [
             0.3333333333333333,
             "#9c179e"
            ],
            [
             0.4444444444444444,
             "#bd3786"
            ],
            [
             0.5555555555555556,
             "#d8576b"
            ],
            [
             0.6666666666666666,
             "#ed7953"
            ],
            [
             0.7777777777777778,
             "#fb9f3a"
            ],
            [
             0.8888888888888888,
             "#fdca26"
            ],
            [
             1,
             "#f0f921"
            ]
           ]
          },
          "colorway": [
           "#636efa",
           "#EF553B",
           "#00cc96",
           "#ab63fa",
           "#FFA15A",
           "#19d3f3",
           "#FF6692",
           "#B6E880",
           "#FF97FF",
           "#FECB52"
          ],
          "font": {
           "color": "#2a3f5f"
          },
          "geo": {
           "bgcolor": "white",
           "lakecolor": "white",
           "landcolor": "#E5ECF6",
           "showlakes": true,
           "showland": true,
           "subunitcolor": "white"
          },
          "hoverlabel": {
           "align": "left"
          },
          "hovermode": "closest",
          "mapbox": {
           "style": "light"
          },
          "paper_bgcolor": "white",
          "plot_bgcolor": "#E5ECF6",
          "polar": {
           "angularaxis": {
            "gridcolor": "white",
            "linecolor": "white",
            "ticks": ""
           },
           "bgcolor": "#E5ECF6",
           "radialaxis": {
            "gridcolor": "white",
            "linecolor": "white",
            "ticks": ""
           }
          },
          "scene": {
           "xaxis": {
            "backgroundcolor": "#E5ECF6",
            "gridcolor": "white",
            "gridwidth": 2,
            "linecolor": "white",
            "showbackground": true,
            "ticks": "",
            "zerolinecolor": "white"
           },
           "yaxis": {
            "backgroundcolor": "#E5ECF6",
            "gridcolor": "white",
            "gridwidth": 2,
            "linecolor": "white",
            "showbackground": true,
            "ticks": "",
            "zerolinecolor": "white"
           },
           "zaxis": {
            "backgroundcolor": "#E5ECF6",
            "gridcolor": "white",
            "gridwidth": 2,
            "linecolor": "white",
            "showbackground": true,
            "ticks": "",
            "zerolinecolor": "white"
           }
          },
          "shapedefaults": {
           "line": {
            "color": "#2a3f5f"
           }
          },
          "ternary": {
           "aaxis": {
            "gridcolor": "white",
            "linecolor": "white",
            "ticks": ""
           },
           "baxis": {
            "gridcolor": "white",
            "linecolor": "white",
            "ticks": ""
           },
           "bgcolor": "#E5ECF6",
           "caxis": {
            "gridcolor": "white",
            "linecolor": "white",
            "ticks": ""
           }
          },
          "title": {
           "x": 0.05
          },
          "xaxis": {
           "automargin": true,
           "gridcolor": "white",
           "linecolor": "white",
           "ticks": "",
           "title": {
            "standoff": 15
           },
           "zerolinecolor": "white",
           "zerolinewidth": 2
          },
          "yaxis": {
           "automargin": true,
           "gridcolor": "white",
           "linecolor": "white",
           "ticks": "",
           "title": {
            "standoff": 15
           },
           "zerolinecolor": "white",
           "zerolinewidth": 2
          }
         }
        },
        "title": {
         "text": " Year by Year Performance"
        },
        "width": 1700,
        "xaxis": {
         "title": {
          "text": "Season"
         }
        },
        "yaxis": {
         "title": {
          "text": "Total Runs"
         }
        }
       }
      }
     },
     "metadata": {},
     "output_type": "display_data"
    }
   ],
   "source": [
    "batsman_comp('V Kohli', 'RG Sharma', 'DA Warner', 'MS Dhoni')"
   ]
  },
  {
   "cell_type": "markdown",
   "id": "5744bacd",
   "metadata": {},
   "source": [
    "## Bar Plot"
   ]
  },
  {
   "cell_type": "code",
   "execution_count": 135,
   "id": "b52eb72c",
   "metadata": {},
   "outputs": [],
   "source": [
    "top10 = ipl.groupby('batsman')['batsman_runs'].sum().sort_values(ascending=False).head(10).index.to_list()\n",
    "top10_df = ipl[ipl['batsman'].isin(top10)]"
   ]
  },
  {
   "cell_type": "code",
   "execution_count": 136,
   "id": "bf43011b",
   "metadata": {},
   "outputs": [
    {
     "data": {
      "text/html": [
       "<div>\n",
       "<style scoped>\n",
       "    .dataframe tbody tr th:only-of-type {\n",
       "        vertical-align: middle;\n",
       "    }\n",
       "\n",
       "    .dataframe tbody tr th {\n",
       "        vertical-align: top;\n",
       "    }\n",
       "\n",
       "    .dataframe thead th {\n",
       "        text-align: right;\n",
       "    }\n",
       "</style>\n",
       "<table border=\"1\" class=\"dataframe\">\n",
       "  <thead>\n",
       "    <tr style=\"text-align: right;\">\n",
       "      <th></th>\n",
       "      <th>batsman</th>\n",
       "      <th>batsman_runs</th>\n",
       "    </tr>\n",
       "  </thead>\n",
       "  <tbody>\n",
       "    <tr>\n",
       "      <th>0</th>\n",
       "      <td>AB de Villiers</td>\n",
       "      <td>3486</td>\n",
       "    </tr>\n",
       "    <tr>\n",
       "      <th>1</th>\n",
       "      <td>CH Gayle</td>\n",
       "      <td>3651</td>\n",
       "    </tr>\n",
       "    <tr>\n",
       "      <th>2</th>\n",
       "      <td>DA Warner</td>\n",
       "      <td>4014</td>\n",
       "    </tr>\n",
       "    <tr>\n",
       "      <th>3</th>\n",
       "      <td>G Gambhir</td>\n",
       "      <td>4132</td>\n",
       "    </tr>\n",
       "    <tr>\n",
       "      <th>4</th>\n",
       "      <td>MS Dhoni</td>\n",
       "      <td>3560</td>\n",
       "    </tr>\n",
       "    <tr>\n",
       "      <th>5</th>\n",
       "      <td>RG Sharma</td>\n",
       "      <td>4207</td>\n",
       "    </tr>\n",
       "    <tr>\n",
       "      <th>6</th>\n",
       "      <td>RV Uthappa</td>\n",
       "      <td>3778</td>\n",
       "    </tr>\n",
       "    <tr>\n",
       "      <th>7</th>\n",
       "      <td>S Dhawan</td>\n",
       "      <td>3561</td>\n",
       "    </tr>\n",
       "    <tr>\n",
       "      <th>8</th>\n",
       "      <td>SK Raina</td>\n",
       "      <td>4548</td>\n",
       "    </tr>\n",
       "    <tr>\n",
       "      <th>9</th>\n",
       "      <td>V Kohli</td>\n",
       "      <td>4423</td>\n",
       "    </tr>\n",
       "  </tbody>\n",
       "</table>\n",
       "</div>"
      ],
      "text/plain": [
       "          batsman  batsman_runs\n",
       "0  AB de Villiers          3486\n",
       "1        CH Gayle          3651\n",
       "2       DA Warner          4014\n",
       "3       G Gambhir          4132\n",
       "4        MS Dhoni          3560\n",
       "5       RG Sharma          4207\n",
       "6      RV Uthappa          3778\n",
       "7        S Dhawan          3561\n",
       "8        SK Raina          4548\n",
       "9         V Kohli          4423"
      ]
     },
     "execution_count": 136,
     "metadata": {},
     "output_type": "execute_result"
    }
   ],
   "source": [
    "top10_score = top10_df.groupby('batsman')['batsman_runs'].sum().reset_index()\n",
    "top10_score"
   ]
  },
  {
   "cell_type": "code",
   "execution_count": 137,
   "id": "baf38007",
   "metadata": {},
   "outputs": [
    {
     "data": {
      "application/vnd.plotly.v1+json": {
       "config": {
        "plotlyServerURL": "https://plot.ly"
       },
       "data": [
        {
         "type": "bar",
         "x": [
          "AB de Villiers",
          "CH Gayle",
          "DA Warner",
          "G Gambhir",
          "MS Dhoni",
          "RG Sharma",
          "RV Uthappa",
          "S Dhawan",
          "SK Raina",
          "V Kohli"
         ],
         "y": {
          "bdata": "ng1DDq4PJBDoDW8Qwg7pDcQRRxE=",
          "dtype": "i2"
         }
        }
       ],
       "layout": {
        "autosize": false,
        "height": 900,
        "template": {
         "data": {
          "bar": [
           {
            "error_x": {
             "color": "#2a3f5f"
            },
            "error_y": {
             "color": "#2a3f5f"
            },
            "marker": {
             "line": {
              "color": "#E5ECF6",
              "width": 0.5
             },
             "pattern": {
              "fillmode": "overlay",
              "size": 10,
              "solidity": 0.2
             }
            },
            "type": "bar"
           }
          ],
          "barpolar": [
           {
            "marker": {
             "line": {
              "color": "#E5ECF6",
              "width": 0.5
             },
             "pattern": {
              "fillmode": "overlay",
              "size": 10,
              "solidity": 0.2
             }
            },
            "type": "barpolar"
           }
          ],
          "carpet": [
           {
            "aaxis": {
             "endlinecolor": "#2a3f5f",
             "gridcolor": "white",
             "linecolor": "white",
             "minorgridcolor": "white",
             "startlinecolor": "#2a3f5f"
            },
            "baxis": {
             "endlinecolor": "#2a3f5f",
             "gridcolor": "white",
             "linecolor": "white",
             "minorgridcolor": "white",
             "startlinecolor": "#2a3f5f"
            },
            "type": "carpet"
           }
          ],
          "choropleth": [
           {
            "colorbar": {
             "outlinewidth": 0,
             "ticks": ""
            },
            "type": "choropleth"
           }
          ],
          "contour": [
           {
            "colorbar": {
             "outlinewidth": 0,
             "ticks": ""
            },
            "colorscale": [
             [
              0,
              "#0d0887"
             ],
             [
              0.1111111111111111,
              "#46039f"
             ],
             [
              0.2222222222222222,
              "#7201a8"
             ],
             [
              0.3333333333333333,
              "#9c179e"
             ],
             [
              0.4444444444444444,
              "#bd3786"
             ],
             [
              0.5555555555555556,
              "#d8576b"
             ],
             [
              0.6666666666666666,
              "#ed7953"
             ],
             [
              0.7777777777777778,
              "#fb9f3a"
             ],
             [
              0.8888888888888888,
              "#fdca26"
             ],
             [
              1,
              "#f0f921"
             ]
            ],
            "type": "contour"
           }
          ],
          "contourcarpet": [
           {
            "colorbar": {
             "outlinewidth": 0,
             "ticks": ""
            },
            "type": "contourcarpet"
           }
          ],
          "heatmap": [
           {
            "colorbar": {
             "outlinewidth": 0,
             "ticks": ""
            },
            "colorscale": [
             [
              0,
              "#0d0887"
             ],
             [
              0.1111111111111111,
              "#46039f"
             ],
             [
              0.2222222222222222,
              "#7201a8"
             ],
             [
              0.3333333333333333,
              "#9c179e"
             ],
             [
              0.4444444444444444,
              "#bd3786"
             ],
             [
              0.5555555555555556,
              "#d8576b"
             ],
             [
              0.6666666666666666,
              "#ed7953"
             ],
             [
              0.7777777777777778,
              "#fb9f3a"
             ],
             [
              0.8888888888888888,
              "#fdca26"
             ],
             [
              1,
              "#f0f921"
             ]
            ],
            "type": "heatmap"
           }
          ],
          "histogram": [
           {
            "marker": {
             "pattern": {
              "fillmode": "overlay",
              "size": 10,
              "solidity": 0.2
             }
            },
            "type": "histogram"
           }
          ],
          "histogram2d": [
           {
            "colorbar": {
             "outlinewidth": 0,
             "ticks": ""
            },
            "colorscale": [
             [
              0,
              "#0d0887"
             ],
             [
              0.1111111111111111,
              "#46039f"
             ],
             [
              0.2222222222222222,
              "#7201a8"
             ],
             [
              0.3333333333333333,
              "#9c179e"
             ],
             [
              0.4444444444444444,
              "#bd3786"
             ],
             [
              0.5555555555555556,
              "#d8576b"
             ],
             [
              0.6666666666666666,
              "#ed7953"
             ],
             [
              0.7777777777777778,
              "#fb9f3a"
             ],
             [
              0.8888888888888888,
              "#fdca26"
             ],
             [
              1,
              "#f0f921"
             ]
            ],
            "type": "histogram2d"
           }
          ],
          "histogram2dcontour": [
           {
            "colorbar": {
             "outlinewidth": 0,
             "ticks": ""
            },
            "colorscale": [
             [
              0,
              "#0d0887"
             ],
             [
              0.1111111111111111,
              "#46039f"
             ],
             [
              0.2222222222222222,
              "#7201a8"
             ],
             [
              0.3333333333333333,
              "#9c179e"
             ],
             [
              0.4444444444444444,
              "#bd3786"
             ],
             [
              0.5555555555555556,
              "#d8576b"
             ],
             [
              0.6666666666666666,
              "#ed7953"
             ],
             [
              0.7777777777777778,
              "#fb9f3a"
             ],
             [
              0.8888888888888888,
              "#fdca26"
             ],
             [
              1,
              "#f0f921"
             ]
            ],
            "type": "histogram2dcontour"
           }
          ],
          "mesh3d": [
           {
            "colorbar": {
             "outlinewidth": 0,
             "ticks": ""
            },
            "type": "mesh3d"
           }
          ],
          "parcoords": [
           {
            "line": {
             "colorbar": {
              "outlinewidth": 0,
              "ticks": ""
             }
            },
            "type": "parcoords"
           }
          ],
          "pie": [
           {
            "automargin": true,
            "type": "pie"
           }
          ],
          "scatter": [
           {
            "fillpattern": {
             "fillmode": "overlay",
             "size": 10,
             "solidity": 0.2
            },
            "type": "scatter"
           }
          ],
          "scatter3d": [
           {
            "line": {
             "colorbar": {
              "outlinewidth": 0,
              "ticks": ""
             }
            },
            "marker": {
             "colorbar": {
              "outlinewidth": 0,
              "ticks": ""
             }
            },
            "type": "scatter3d"
           }
          ],
          "scattercarpet": [
           {
            "marker": {
             "colorbar": {
              "outlinewidth": 0,
              "ticks": ""
             }
            },
            "type": "scattercarpet"
           }
          ],
          "scattergeo": [
           {
            "marker": {
             "colorbar": {
              "outlinewidth": 0,
              "ticks": ""
             }
            },
            "type": "scattergeo"
           }
          ],
          "scattergl": [
           {
            "marker": {
             "colorbar": {
              "outlinewidth": 0,
              "ticks": ""
             }
            },
            "type": "scattergl"
           }
          ],
          "scattermap": [
           {
            "marker": {
             "colorbar": {
              "outlinewidth": 0,
              "ticks": ""
             }
            },
            "type": "scattermap"
           }
          ],
          "scattermapbox": [
           {
            "marker": {
             "colorbar": {
              "outlinewidth": 0,
              "ticks": ""
             }
            },
            "type": "scattermapbox"
           }
          ],
          "scatterpolar": [
           {
            "marker": {
             "colorbar": {
              "outlinewidth": 0,
              "ticks": ""
             }
            },
            "type": "scatterpolar"
           }
          ],
          "scatterpolargl": [
           {
            "marker": {
             "colorbar": {
              "outlinewidth": 0,
              "ticks": ""
             }
            },
            "type": "scatterpolargl"
           }
          ],
          "scatterternary": [
           {
            "marker": {
             "colorbar": {
              "outlinewidth": 0,
              "ticks": ""
             }
            },
            "type": "scatterternary"
           }
          ],
          "surface": [
           {
            "colorbar": {
             "outlinewidth": 0,
             "ticks": ""
            },
            "colorscale": [
             [
              0,
              "#0d0887"
             ],
             [
              0.1111111111111111,
              "#46039f"
             ],
             [
              0.2222222222222222,
              "#7201a8"
             ],
             [
              0.3333333333333333,
              "#9c179e"
             ],
             [
              0.4444444444444444,
              "#bd3786"
             ],
             [
              0.5555555555555556,
              "#d8576b"
             ],
             [
              0.6666666666666666,
              "#ed7953"
             ],
             [
              0.7777777777777778,
              "#fb9f3a"
             ],
             [
              0.8888888888888888,
              "#fdca26"
             ],
             [
              1,
              "#f0f921"
             ]
            ],
            "type": "surface"
           }
          ],
          "table": [
           {
            "cells": {
             "fill": {
              "color": "#EBF0F8"
             },
             "line": {
              "color": "white"
             }
            },
            "header": {
             "fill": {
              "color": "#C8D4E3"
             },
             "line": {
              "color": "white"
             }
            },
            "type": "table"
           }
          ]
         },
         "layout": {
          "annotationdefaults": {
           "arrowcolor": "#2a3f5f",
           "arrowhead": 0,
           "arrowwidth": 1
          },
          "autotypenumbers": "strict",
          "coloraxis": {
           "colorbar": {
            "outlinewidth": 0,
            "ticks": ""
           }
          },
          "colorscale": {
           "diverging": [
            [
             0,
             "#8e0152"
            ],
            [
             0.1,
             "#c51b7d"
            ],
            [
             0.2,
             "#de77ae"
            ],
            [
             0.3,
             "#f1b6da"
            ],
            [
             0.4,
             "#fde0ef"
            ],
            [
             0.5,
             "#f7f7f7"
            ],
            [
             0.6,
             "#e6f5d0"
            ],
            [
             0.7,
             "#b8e186"
            ],
            [
             0.8,
             "#7fbc41"
            ],
            [
             0.9,
             "#4d9221"
            ],
            [
             1,
             "#276419"
            ]
           ],
           "sequential": [
            [
             0,
             "#0d0887"
            ],
            [
             0.1111111111111111,
             "#46039f"
            ],
            [
             0.2222222222222222,
             "#7201a8"
            ],
            [
             0.3333333333333333,
             "#9c179e"
            ],
            [
             0.4444444444444444,
             "#bd3786"
            ],
            [
             0.5555555555555556,
             "#d8576b"
            ],
            [
             0.6666666666666666,
             "#ed7953"
            ],
            [
             0.7777777777777778,
             "#fb9f3a"
            ],
            [
             0.8888888888888888,
             "#fdca26"
            ],
            [
             1,
             "#f0f921"
            ]
           ],
           "sequentialminus": [
            [
             0,
             "#0d0887"
            ],
            [
             0.1111111111111111,
             "#46039f"
            ],
            [
             0.2222222222222222,
             "#7201a8"
            ],
            [
             0.3333333333333333,
             "#9c179e"
            ],
            [
             0.4444444444444444,
             "#bd3786"
            ],
            [
             0.5555555555555556,
             "#d8576b"
            ],
            [
             0.6666666666666666,
             "#ed7953"
            ],
            [
             0.7777777777777778,
             "#fb9f3a"
            ],
            [
             0.8888888888888888,
             "#fdca26"
            ],
            [
             1,
             "#f0f921"
            ]
           ]
          },
          "colorway": [
           "#636efa",
           "#EF553B",
           "#00cc96",
           "#ab63fa",
           "#FFA15A",
           "#19d3f3",
           "#FF6692",
           "#B6E880",
           "#FF97FF",
           "#FECB52"
          ],
          "font": {
           "color": "#2a3f5f"
          },
          "geo": {
           "bgcolor": "white",
           "lakecolor": "white",
           "landcolor": "#E5ECF6",
           "showlakes": true,
           "showland": true,
           "subunitcolor": "white"
          },
          "hoverlabel": {
           "align": "left"
          },
          "hovermode": "closest",
          "mapbox": {
           "style": "light"
          },
          "paper_bgcolor": "white",
          "plot_bgcolor": "#E5ECF6",
          "polar": {
           "angularaxis": {
            "gridcolor": "white",
            "linecolor": "white",
            "ticks": ""
           },
           "bgcolor": "#E5ECF6",
           "radialaxis": {
            "gridcolor": "white",
            "linecolor": "white",
            "ticks": ""
           }
          },
          "scene": {
           "xaxis": {
            "backgroundcolor": "#E5ECF6",
            "gridcolor": "white",
            "gridwidth": 2,
            "linecolor": "white",
            "showbackground": true,
            "ticks": "",
            "zerolinecolor": "white"
           },
           "yaxis": {
            "backgroundcolor": "#E5ECF6",
            "gridcolor": "white",
            "gridwidth": 2,
            "linecolor": "white",
            "showbackground": true,
            "ticks": "",
            "zerolinecolor": "white"
           },
           "zaxis": {
            "backgroundcolor": "#E5ECF6",
            "gridcolor": "white",
            "gridwidth": 2,
            "linecolor": "white",
            "showbackground": true,
            "ticks": "",
            "zerolinecolor": "white"
           }
          },
          "shapedefaults": {
           "line": {
            "color": "#2a3f5f"
           }
          },
          "ternary": {
           "aaxis": {
            "gridcolor": "white",
            "linecolor": "white",
            "ticks": ""
           },
           "baxis": {
            "gridcolor": "white",
            "linecolor": "white",
            "ticks": ""
           },
           "bgcolor": "#E5ECF6",
           "caxis": {
            "gridcolor": "white",
            "linecolor": "white",
            "ticks": ""
           }
          },
          "title": {
           "x": 0.05
          },
          "xaxis": {
           "automargin": true,
           "gridcolor": "white",
           "linecolor": "white",
           "ticks": "",
           "title": {
            "standoff": 15
           },
           "zerolinecolor": "white",
           "zerolinewidth": 2
          },
          "yaxis": {
           "automargin": true,
           "gridcolor": "white",
           "linecolor": "white",
           "ticks": "",
           "title": {
            "standoff": 15
           },
           "zerolinecolor": "white",
           "zerolinewidth": 2
          }
         }
        },
        "title": {
         "text": "Top 10 IPL Batsman"
        },
        "width": 1700,
        "xaxis": {
         "title": {
          "text": "Batsman"
         }
        },
        "yaxis": {
         "title": {
          "text": "Total Runs"
         }
        }
       }
      }
     },
     "metadata": {},
     "output_type": "display_data"
    }
   ],
   "source": [
    "# Plot Bar Chart\n",
    "\n",
    "\n",
    "trace = go.Bar(\n",
    "    x=top10_score['batsman'],\n",
    "    y=top10_score['batsman_runs'],    \n",
    ")\n",
    "\n",
    "data=[trace]\n",
    "\n",
    "layout = go.Layout(\n",
    "            title= 'Top 10 IPL Batsman',\n",
    "            xaxis={\n",
    "                'title': 'Batsman'\n",
    "            },\n",
    "            yaxis={\n",
    "                'title': 'Total Runs'\n",
    "            },\n",
    "    )\n",
    "    \n",
    "fig = go.Figure(data, layout).update_layout(\n",
    "        autosize=False,  \n",
    "        width=1700,      \n",
    "        height=900,      \n",
    "    )\n",
    "\n",
    "fig.show()"
   ]
  },
  {
   "cell_type": "markdown",
   "id": "ee74f511",
   "metadata": {},
   "source": [
    "#### There are 2 types of Bar Graphs\n",
    "\n",
    "1. Nested Bar Graph\n",
    "2. Stacked Bar Graph\n",
    "3. Overlayed Bar Graph"
   ]
  },
  {
   "cell_type": "code",
   "execution_count": 138,
   "id": "4fd32be1",
   "metadata": {},
   "outputs": [
    {
     "data": {
      "text/html": [
       "<div>\n",
       "<style scoped>\n",
       "    .dataframe tbody tr th:only-of-type {\n",
       "        vertical-align: middle;\n",
       "    }\n",
       "\n",
       "    .dataframe tbody tr th {\n",
       "        vertical-align: top;\n",
       "    }\n",
       "\n",
       "    .dataframe thead th {\n",
       "        text-align: right;\n",
       "    }\n",
       "</style>\n",
       "<table border=\"1\" class=\"dataframe\">\n",
       "  <thead>\n",
       "    <tr style=\"text-align: right;\">\n",
       "      <th></th>\n",
       "      <th>batsman</th>\n",
       "      <th>1st Innings</th>\n",
       "      <th>2nd Innings</th>\n",
       "    </tr>\n",
       "  </thead>\n",
       "  <tbody>\n",
       "    <tr>\n",
       "      <th>0</th>\n",
       "      <td>AB de Villiers</td>\n",
       "      <td>2128</td>\n",
       "      <td>1345</td>\n",
       "    </tr>\n",
       "    <tr>\n",
       "      <th>1</th>\n",
       "      <td>CH Gayle</td>\n",
       "      <td>2003</td>\n",
       "      <td>1623</td>\n",
       "    </tr>\n",
       "    <tr>\n",
       "      <th>2</th>\n",
       "      <td>DA Warner</td>\n",
       "      <td>2118</td>\n",
       "      <td>1896</td>\n",
       "    </tr>\n",
       "    <tr>\n",
       "      <th>3</th>\n",
       "      <td>G Gambhir</td>\n",
       "      <td>1699</td>\n",
       "      <td>2433</td>\n",
       "    </tr>\n",
       "    <tr>\n",
       "      <th>4</th>\n",
       "      <td>MS Dhoni</td>\n",
       "      <td>2232</td>\n",
       "      <td>1328</td>\n",
       "    </tr>\n",
       "    <tr>\n",
       "      <th>5</th>\n",
       "      <td>RG Sharma</td>\n",
       "      <td>2344</td>\n",
       "      <td>1863</td>\n",
       "    </tr>\n",
       "    <tr>\n",
       "      <th>6</th>\n",
       "      <td>RV Uthappa</td>\n",
       "      <td>1516</td>\n",
       "      <td>2262</td>\n",
       "    </tr>\n",
       "    <tr>\n",
       "      <th>7</th>\n",
       "      <td>S Dhawan</td>\n",
       "      <td>2262</td>\n",
       "      <td>1299</td>\n",
       "    </tr>\n",
       "    <tr>\n",
       "      <th>8</th>\n",
       "      <td>SK Raina</td>\n",
       "      <td>2647</td>\n",
       "      <td>1893</td>\n",
       "    </tr>\n",
       "    <tr>\n",
       "      <th>9</th>\n",
       "      <td>V Kohli</td>\n",
       "      <td>2391</td>\n",
       "      <td>2027</td>\n",
       "    </tr>\n",
       "  </tbody>\n",
       "</table>\n",
       "</div>"
      ],
      "text/plain": [
       "          batsman  1st Innings  2nd Innings\n",
       "0  AB de Villiers         2128         1345\n",
       "1        CH Gayle         2003         1623\n",
       "2       DA Warner         2118         1896\n",
       "3       G Gambhir         1699         2433\n",
       "4        MS Dhoni         2232         1328\n",
       "5       RG Sharma         2344         1863\n",
       "6      RV Uthappa         1516         2262\n",
       "7        S Dhawan         2262         1299\n",
       "8        SK Raina         2647         1893\n",
       "9         V Kohli         2391         2027"
      ]
     },
     "execution_count": 138,
     "metadata": {},
     "output_type": "execute_result"
    }
   ],
   "source": [
    "iw = top10_df.groupby(['batsman','inning'])['batsman_runs'].sum().reset_index()\n",
    "mask = iw['inning'] == 1\n",
    "mask2 = iw['inning'] == 2\n",
    "\n",
    "one = iw[mask]\n",
    "two = iw[mask2]\n",
    "\n",
    "one.rename(columns={'batsman_runs':'1st Innings'}, inplace=True)\n",
    "two.rename(columns={'batsman_runs':'2nd Innings'}, inplace=True)\n",
    "\n",
    "final = one.merge(two,on='batsman')[['batsman','1st Innings','2nd Innings']]\n",
    "\n",
    "final"
   ]
  },
  {
   "cell_type": "code",
   "execution_count": 139,
   "id": "be897dd2",
   "metadata": {},
   "outputs": [
    {
     "data": {
      "application/vnd.plotly.v1+json": {
       "config": {
        "plotlyServerURL": "https://plot.ly"
       },
       "data": [
        {
         "marker": {
          "color": "#00a65a"
         },
         "name": "1st Innings",
         "type": "bar",
         "x": [
          "AB de Villiers",
          "CH Gayle",
          "DA Warner",
          "G Gambhir",
          "MS Dhoni",
          "RG Sharma",
          "RV Uthappa",
          "S Dhawan",
          "SK Raina",
          "V Kohli"
         ],
         "y": {
          "bdata": "UAjTB0YIowa4CCgJ7AXWCFcKVwk=",
          "dtype": "i2"
         }
        },
        {
         "marker": {
          "color": "#a6a65a"
         },
         "name": "2nd Innings",
         "type": "bar",
         "x": [
          "AB de Villiers",
          "CH Gayle",
          "DA Warner",
          "G Gambhir",
          "MS Dhoni",
          "RG Sharma",
          "RV Uthappa",
          "S Dhawan",
          "SK Raina",
          "V Kohli"
         ],
         "y": {
          "bdata": "QQVXBmgHgQkwBUcH1ggTBWUH6wc=",
          "dtype": "i2"
         }
        }
       ],
       "layout": {
        "autosize": false,
        "barmode": "stack",
        "height": 900,
        "template": {
         "data": {
          "bar": [
           {
            "error_x": {
             "color": "#2a3f5f"
            },
            "error_y": {
             "color": "#2a3f5f"
            },
            "marker": {
             "line": {
              "color": "#E5ECF6",
              "width": 0.5
             },
             "pattern": {
              "fillmode": "overlay",
              "size": 10,
              "solidity": 0.2
             }
            },
            "type": "bar"
           }
          ],
          "barpolar": [
           {
            "marker": {
             "line": {
              "color": "#E5ECF6",
              "width": 0.5
             },
             "pattern": {
              "fillmode": "overlay",
              "size": 10,
              "solidity": 0.2
             }
            },
            "type": "barpolar"
           }
          ],
          "carpet": [
           {
            "aaxis": {
             "endlinecolor": "#2a3f5f",
             "gridcolor": "white",
             "linecolor": "white",
             "minorgridcolor": "white",
             "startlinecolor": "#2a3f5f"
            },
            "baxis": {
             "endlinecolor": "#2a3f5f",
             "gridcolor": "white",
             "linecolor": "white",
             "minorgridcolor": "white",
             "startlinecolor": "#2a3f5f"
            },
            "type": "carpet"
           }
          ],
          "choropleth": [
           {
            "colorbar": {
             "outlinewidth": 0,
             "ticks": ""
            },
            "type": "choropleth"
           }
          ],
          "contour": [
           {
            "colorbar": {
             "outlinewidth": 0,
             "ticks": ""
            },
            "colorscale": [
             [
              0,
              "#0d0887"
             ],
             [
              0.1111111111111111,
              "#46039f"
             ],
             [
              0.2222222222222222,
              "#7201a8"
             ],
             [
              0.3333333333333333,
              "#9c179e"
             ],
             [
              0.4444444444444444,
              "#bd3786"
             ],
             [
              0.5555555555555556,
              "#d8576b"
             ],
             [
              0.6666666666666666,
              "#ed7953"
             ],
             [
              0.7777777777777778,
              "#fb9f3a"
             ],
             [
              0.8888888888888888,
              "#fdca26"
             ],
             [
              1,
              "#f0f921"
             ]
            ],
            "type": "contour"
           }
          ],
          "contourcarpet": [
           {
            "colorbar": {
             "outlinewidth": 0,
             "ticks": ""
            },
            "type": "contourcarpet"
           }
          ],
          "heatmap": [
           {
            "colorbar": {
             "outlinewidth": 0,
             "ticks": ""
            },
            "colorscale": [
             [
              0,
              "#0d0887"
             ],
             [
              0.1111111111111111,
              "#46039f"
             ],
             [
              0.2222222222222222,
              "#7201a8"
             ],
             [
              0.3333333333333333,
              "#9c179e"
             ],
             [
              0.4444444444444444,
              "#bd3786"
             ],
             [
              0.5555555555555556,
              "#d8576b"
             ],
             [
              0.6666666666666666,
              "#ed7953"
             ],
             [
              0.7777777777777778,
              "#fb9f3a"
             ],
             [
              0.8888888888888888,
              "#fdca26"
             ],
             [
              1,
              "#f0f921"
             ]
            ],
            "type": "heatmap"
           }
          ],
          "histogram": [
           {
            "marker": {
             "pattern": {
              "fillmode": "overlay",
              "size": 10,
              "solidity": 0.2
             }
            },
            "type": "histogram"
           }
          ],
          "histogram2d": [
           {
            "colorbar": {
             "outlinewidth": 0,
             "ticks": ""
            },
            "colorscale": [
             [
              0,
              "#0d0887"
             ],
             [
              0.1111111111111111,
              "#46039f"
             ],
             [
              0.2222222222222222,
              "#7201a8"
             ],
             [
              0.3333333333333333,
              "#9c179e"
             ],
             [
              0.4444444444444444,
              "#bd3786"
             ],
             [
              0.5555555555555556,
              "#d8576b"
             ],
             [
              0.6666666666666666,
              "#ed7953"
             ],
             [
              0.7777777777777778,
              "#fb9f3a"
             ],
             [
              0.8888888888888888,
              "#fdca26"
             ],
             [
              1,
              "#f0f921"
             ]
            ],
            "type": "histogram2d"
           }
          ],
          "histogram2dcontour": [
           {
            "colorbar": {
             "outlinewidth": 0,
             "ticks": ""
            },
            "colorscale": [
             [
              0,
              "#0d0887"
             ],
             [
              0.1111111111111111,
              "#46039f"
             ],
             [
              0.2222222222222222,
              "#7201a8"
             ],
             [
              0.3333333333333333,
              "#9c179e"
             ],
             [
              0.4444444444444444,
              "#bd3786"
             ],
             [
              0.5555555555555556,
              "#d8576b"
             ],
             [
              0.6666666666666666,
              "#ed7953"
             ],
             [
              0.7777777777777778,
              "#fb9f3a"
             ],
             [
              0.8888888888888888,
              "#fdca26"
             ],
             [
              1,
              "#f0f921"
             ]
            ],
            "type": "histogram2dcontour"
           }
          ],
          "mesh3d": [
           {
            "colorbar": {
             "outlinewidth": 0,
             "ticks": ""
            },
            "type": "mesh3d"
           }
          ],
          "parcoords": [
           {
            "line": {
             "colorbar": {
              "outlinewidth": 0,
              "ticks": ""
             }
            },
            "type": "parcoords"
           }
          ],
          "pie": [
           {
            "automargin": true,
            "type": "pie"
           }
          ],
          "scatter": [
           {
            "fillpattern": {
             "fillmode": "overlay",
             "size": 10,
             "solidity": 0.2
            },
            "type": "scatter"
           }
          ],
          "scatter3d": [
           {
            "line": {
             "colorbar": {
              "outlinewidth": 0,
              "ticks": ""
             }
            },
            "marker": {
             "colorbar": {
              "outlinewidth": 0,
              "ticks": ""
             }
            },
            "type": "scatter3d"
           }
          ],
          "scattercarpet": [
           {
            "marker": {
             "colorbar": {
              "outlinewidth": 0,
              "ticks": ""
             }
            },
            "type": "scattercarpet"
           }
          ],
          "scattergeo": [
           {
            "marker": {
             "colorbar": {
              "outlinewidth": 0,
              "ticks": ""
             }
            },
            "type": "scattergeo"
           }
          ],
          "scattergl": [
           {
            "marker": {
             "colorbar": {
              "outlinewidth": 0,
              "ticks": ""
             }
            },
            "type": "scattergl"
           }
          ],
          "scattermap": [
           {
            "marker": {
             "colorbar": {
              "outlinewidth": 0,
              "ticks": ""
             }
            },
            "type": "scattermap"
           }
          ],
          "scattermapbox": [
           {
            "marker": {
             "colorbar": {
              "outlinewidth": 0,
              "ticks": ""
             }
            },
            "type": "scattermapbox"
           }
          ],
          "scatterpolar": [
           {
            "marker": {
             "colorbar": {
              "outlinewidth": 0,
              "ticks": ""
             }
            },
            "type": "scatterpolar"
           }
          ],
          "scatterpolargl": [
           {
            "marker": {
             "colorbar": {
              "outlinewidth": 0,
              "ticks": ""
             }
            },
            "type": "scatterpolargl"
           }
          ],
          "scatterternary": [
           {
            "marker": {
             "colorbar": {
              "outlinewidth": 0,
              "ticks": ""
             }
            },
            "type": "scatterternary"
           }
          ],
          "surface": [
           {
            "colorbar": {
             "outlinewidth": 0,
             "ticks": ""
            },
            "colorscale": [
             [
              0,
              "#0d0887"
             ],
             [
              0.1111111111111111,
              "#46039f"
             ],
             [
              0.2222222222222222,
              "#7201a8"
             ],
             [
              0.3333333333333333,
              "#9c179e"
             ],
             [
              0.4444444444444444,
              "#bd3786"
             ],
             [
              0.5555555555555556,
              "#d8576b"
             ],
             [
              0.6666666666666666,
              "#ed7953"
             ],
             [
              0.7777777777777778,
              "#fb9f3a"
             ],
             [
              0.8888888888888888,
              "#fdca26"
             ],
             [
              1,
              "#f0f921"
             ]
            ],
            "type": "surface"
           }
          ],
          "table": [
           {
            "cells": {
             "fill": {
              "color": "#EBF0F8"
             },
             "line": {
              "color": "white"
             }
            },
            "header": {
             "fill": {
              "color": "#C8D4E3"
             },
             "line": {
              "color": "white"
             }
            },
            "type": "table"
           }
          ]
         },
         "layout": {
          "annotationdefaults": {
           "arrowcolor": "#2a3f5f",
           "arrowhead": 0,
           "arrowwidth": 1
          },
          "autotypenumbers": "strict",
          "coloraxis": {
           "colorbar": {
            "outlinewidth": 0,
            "ticks": ""
           }
          },
          "colorscale": {
           "diverging": [
            [
             0,
             "#8e0152"
            ],
            [
             0.1,
             "#c51b7d"
            ],
            [
             0.2,
             "#de77ae"
            ],
            [
             0.3,
             "#f1b6da"
            ],
            [
             0.4,
             "#fde0ef"
            ],
            [
             0.5,
             "#f7f7f7"
            ],
            [
             0.6,
             "#e6f5d0"
            ],
            [
             0.7,
             "#b8e186"
            ],
            [
             0.8,
             "#7fbc41"
            ],
            [
             0.9,
             "#4d9221"
            ],
            [
             1,
             "#276419"
            ]
           ],
           "sequential": [
            [
             0,
             "#0d0887"
            ],
            [
             0.1111111111111111,
             "#46039f"
            ],
            [
             0.2222222222222222,
             "#7201a8"
            ],
            [
             0.3333333333333333,
             "#9c179e"
            ],
            [
             0.4444444444444444,
             "#bd3786"
            ],
            [
             0.5555555555555556,
             "#d8576b"
            ],
            [
             0.6666666666666666,
             "#ed7953"
            ],
            [
             0.7777777777777778,
             "#fb9f3a"
            ],
            [
             0.8888888888888888,
             "#fdca26"
            ],
            [
             1,
             "#f0f921"
            ]
           ],
           "sequentialminus": [
            [
             0,
             "#0d0887"
            ],
            [
             0.1111111111111111,
             "#46039f"
            ],
            [
             0.2222222222222222,
             "#7201a8"
            ],
            [
             0.3333333333333333,
             "#9c179e"
            ],
            [
             0.4444444444444444,
             "#bd3786"
            ],
            [
             0.5555555555555556,
             "#d8576b"
            ],
            [
             0.6666666666666666,
             "#ed7953"
            ],
            [
             0.7777777777777778,
             "#fb9f3a"
            ],
            [
             0.8888888888888888,
             "#fdca26"
            ],
            [
             1,
             "#f0f921"
            ]
           ]
          },
          "colorway": [
           "#636efa",
           "#EF553B",
           "#00cc96",
           "#ab63fa",
           "#FFA15A",
           "#19d3f3",
           "#FF6692",
           "#B6E880",
           "#FF97FF",
           "#FECB52"
          ],
          "font": {
           "color": "#2a3f5f"
          },
          "geo": {
           "bgcolor": "white",
           "lakecolor": "white",
           "landcolor": "#E5ECF6",
           "showlakes": true,
           "showland": true,
           "subunitcolor": "white"
          },
          "hoverlabel": {
           "align": "left"
          },
          "hovermode": "closest",
          "mapbox": {
           "style": "light"
          },
          "paper_bgcolor": "white",
          "plot_bgcolor": "#E5ECF6",
          "polar": {
           "angularaxis": {
            "gridcolor": "white",
            "linecolor": "white",
            "ticks": ""
           },
           "bgcolor": "#E5ECF6",
           "radialaxis": {
            "gridcolor": "white",
            "linecolor": "white",
            "ticks": ""
           }
          },
          "scene": {
           "xaxis": {
            "backgroundcolor": "#E5ECF6",
            "gridcolor": "white",
            "gridwidth": 2,
            "linecolor": "white",
            "showbackground": true,
            "ticks": "",
            "zerolinecolor": "white"
           },
           "yaxis": {
            "backgroundcolor": "#E5ECF6",
            "gridcolor": "white",
            "gridwidth": 2,
            "linecolor": "white",
            "showbackground": true,
            "ticks": "",
            "zerolinecolor": "white"
           },
           "zaxis": {
            "backgroundcolor": "#E5ECF6",
            "gridcolor": "white",
            "gridwidth": 2,
            "linecolor": "white",
            "showbackground": true,
            "ticks": "",
            "zerolinecolor": "white"
           }
          },
          "shapedefaults": {
           "line": {
            "color": "#2a3f5f"
           }
          },
          "ternary": {
           "aaxis": {
            "gridcolor": "white",
            "linecolor": "white",
            "ticks": ""
           },
           "baxis": {
            "gridcolor": "white",
            "linecolor": "white",
            "ticks": ""
           },
           "bgcolor": "#E5ECF6",
           "caxis": {
            "gridcolor": "white",
            "linecolor": "white",
            "ticks": ""
           }
          },
          "title": {
           "x": 0.05
          },
          "xaxis": {
           "automargin": true,
           "gridcolor": "white",
           "linecolor": "white",
           "ticks": "",
           "title": {
            "standoff": 15
           },
           "zerolinecolor": "white",
           "zerolinewidth": 2
          },
          "yaxis": {
           "automargin": true,
           "gridcolor": "white",
           "linecolor": "white",
           "ticks": "",
           "title": {
            "standoff": 15
           },
           "zerolinecolor": "white",
           "zerolinewidth": 2
          }
         }
        },
        "title": {
         "text": "Innings Wise Score"
        },
        "width": 1700,
        "xaxis": {
         "title": {
          "text": "Batsman"
         }
        },
        "yaxis": {
         "title": {
          "text": "Runs"
         }
        }
       }
      }
     },
     "metadata": {},
     "output_type": "display_data"
    }
   ],
   "source": [
    "# Stacked\n",
    "\n",
    "trace1 = go.Bar(\n",
    "    x=final['batsman'],\n",
    "    y=final['1st Innings'],\n",
    "    name='1st Innings',\n",
    "    marker={'color':'#00a65a'}\n",
    ")\n",
    "\n",
    "trace2 = go.Bar(\n",
    "    x=final['batsman'],\n",
    "    y=final['2nd Innings'],\n",
    "    name='2nd Innings',\n",
    "    marker={'color':'#a6a65a'}\n",
    ")\n",
    "\n",
    "data=[trace1, trace2]\n",
    "\n",
    "layout = go.Layout(\n",
    "            title= 'Innings Wise Score',\n",
    "            xaxis={\n",
    "                'title': 'Batsman'\n",
    "            },\n",
    "            yaxis={\n",
    "                'title': 'Runs'\n",
    "            },\n",
    "            barmode='stack'\n",
    "    )\n",
    "    \n",
    "fig = go.Figure(data, layout).update_layout(\n",
    "        autosize=False,  \n",
    "        width=1700,      \n",
    "        height=900,      \n",
    "    )\n",
    "\n",
    "fig.show()"
   ]
  },
  {
   "cell_type": "code",
   "execution_count": 140,
   "id": "0d021ea9",
   "metadata": {},
   "outputs": [
    {
     "data": {
      "application/vnd.plotly.v1+json": {
       "config": {
        "plotlyServerURL": "https://plot.ly"
       },
       "data": [
        {
         "marker": {
          "color": "#00a65a"
         },
         "name": "1st Innings",
         "type": "bar",
         "x": [
          "AB de Villiers",
          "CH Gayle",
          "DA Warner",
          "G Gambhir",
          "MS Dhoni",
          "RG Sharma",
          "RV Uthappa",
          "S Dhawan",
          "SK Raina",
          "V Kohli"
         ],
         "y": {
          "bdata": "UAjTB0YIowa4CCgJ7AXWCFcKVwk=",
          "dtype": "i2"
         }
        },
        {
         "marker": {
          "color": "#a6a65a"
         },
         "name": "2nd Innings",
         "type": "bar",
         "x": [
          "AB de Villiers",
          "CH Gayle",
          "DA Warner",
          "G Gambhir",
          "MS Dhoni",
          "RG Sharma",
          "RV Uthappa",
          "S Dhawan",
          "SK Raina",
          "V Kohli"
         ],
         "y": {
          "bdata": "QQVXBmgHgQkwBUcH1ggTBWUH6wc=",
          "dtype": "i2"
         }
        }
       ],
       "layout": {
        "autosize": false,
        "barmode": "overlay",
        "height": 900,
        "template": {
         "data": {
          "bar": [
           {
            "error_x": {
             "color": "#2a3f5f"
            },
            "error_y": {
             "color": "#2a3f5f"
            },
            "marker": {
             "line": {
              "color": "#E5ECF6",
              "width": 0.5
             },
             "pattern": {
              "fillmode": "overlay",
              "size": 10,
              "solidity": 0.2
             }
            },
            "type": "bar"
           }
          ],
          "barpolar": [
           {
            "marker": {
             "line": {
              "color": "#E5ECF6",
              "width": 0.5
             },
             "pattern": {
              "fillmode": "overlay",
              "size": 10,
              "solidity": 0.2
             }
            },
            "type": "barpolar"
           }
          ],
          "carpet": [
           {
            "aaxis": {
             "endlinecolor": "#2a3f5f",
             "gridcolor": "white",
             "linecolor": "white",
             "minorgridcolor": "white",
             "startlinecolor": "#2a3f5f"
            },
            "baxis": {
             "endlinecolor": "#2a3f5f",
             "gridcolor": "white",
             "linecolor": "white",
             "minorgridcolor": "white",
             "startlinecolor": "#2a3f5f"
            },
            "type": "carpet"
           }
          ],
          "choropleth": [
           {
            "colorbar": {
             "outlinewidth": 0,
             "ticks": ""
            },
            "type": "choropleth"
           }
          ],
          "contour": [
           {
            "colorbar": {
             "outlinewidth": 0,
             "ticks": ""
            },
            "colorscale": [
             [
              0,
              "#0d0887"
             ],
             [
              0.1111111111111111,
              "#46039f"
             ],
             [
              0.2222222222222222,
              "#7201a8"
             ],
             [
              0.3333333333333333,
              "#9c179e"
             ],
             [
              0.4444444444444444,
              "#bd3786"
             ],
             [
              0.5555555555555556,
              "#d8576b"
             ],
             [
              0.6666666666666666,
              "#ed7953"
             ],
             [
              0.7777777777777778,
              "#fb9f3a"
             ],
             [
              0.8888888888888888,
              "#fdca26"
             ],
             [
              1,
              "#f0f921"
             ]
            ],
            "type": "contour"
           }
          ],
          "contourcarpet": [
           {
            "colorbar": {
             "outlinewidth": 0,
             "ticks": ""
            },
            "type": "contourcarpet"
           }
          ],
          "heatmap": [
           {
            "colorbar": {
             "outlinewidth": 0,
             "ticks": ""
            },
            "colorscale": [
             [
              0,
              "#0d0887"
             ],
             [
              0.1111111111111111,
              "#46039f"
             ],
             [
              0.2222222222222222,
              "#7201a8"
             ],
             [
              0.3333333333333333,
              "#9c179e"
             ],
             [
              0.4444444444444444,
              "#bd3786"
             ],
             [
              0.5555555555555556,
              "#d8576b"
             ],
             [
              0.6666666666666666,
              "#ed7953"
             ],
             [
              0.7777777777777778,
              "#fb9f3a"
             ],
             [
              0.8888888888888888,
              "#fdca26"
             ],
             [
              1,
              "#f0f921"
             ]
            ],
            "type": "heatmap"
           }
          ],
          "histogram": [
           {
            "marker": {
             "pattern": {
              "fillmode": "overlay",
              "size": 10,
              "solidity": 0.2
             }
            },
            "type": "histogram"
           }
          ],
          "histogram2d": [
           {
            "colorbar": {
             "outlinewidth": 0,
             "ticks": ""
            },
            "colorscale": [
             [
              0,
              "#0d0887"
             ],
             [
              0.1111111111111111,
              "#46039f"
             ],
             [
              0.2222222222222222,
              "#7201a8"
             ],
             [
              0.3333333333333333,
              "#9c179e"
             ],
             [
              0.4444444444444444,
              "#bd3786"
             ],
             [
              0.5555555555555556,
              "#d8576b"
             ],
             [
              0.6666666666666666,
              "#ed7953"
             ],
             [
              0.7777777777777778,
              "#fb9f3a"
             ],
             [
              0.8888888888888888,
              "#fdca26"
             ],
             [
              1,
              "#f0f921"
             ]
            ],
            "type": "histogram2d"
           }
          ],
          "histogram2dcontour": [
           {
            "colorbar": {
             "outlinewidth": 0,
             "ticks": ""
            },
            "colorscale": [
             [
              0,
              "#0d0887"
             ],
             [
              0.1111111111111111,
              "#46039f"
             ],
             [
              0.2222222222222222,
              "#7201a8"
             ],
             [
              0.3333333333333333,
              "#9c179e"
             ],
             [
              0.4444444444444444,
              "#bd3786"
             ],
             [
              0.5555555555555556,
              "#d8576b"
             ],
             [
              0.6666666666666666,
              "#ed7953"
             ],
             [
              0.7777777777777778,
              "#fb9f3a"
             ],
             [
              0.8888888888888888,
              "#fdca26"
             ],
             [
              1,
              "#f0f921"
             ]
            ],
            "type": "histogram2dcontour"
           }
          ],
          "mesh3d": [
           {
            "colorbar": {
             "outlinewidth": 0,
             "ticks": ""
            },
            "type": "mesh3d"
           }
          ],
          "parcoords": [
           {
            "line": {
             "colorbar": {
              "outlinewidth": 0,
              "ticks": ""
             }
            },
            "type": "parcoords"
           }
          ],
          "pie": [
           {
            "automargin": true,
            "type": "pie"
           }
          ],
          "scatter": [
           {
            "fillpattern": {
             "fillmode": "overlay",
             "size": 10,
             "solidity": 0.2
            },
            "type": "scatter"
           }
          ],
          "scatter3d": [
           {
            "line": {
             "colorbar": {
              "outlinewidth": 0,
              "ticks": ""
             }
            },
            "marker": {
             "colorbar": {
              "outlinewidth": 0,
              "ticks": ""
             }
            },
            "type": "scatter3d"
           }
          ],
          "scattercarpet": [
           {
            "marker": {
             "colorbar": {
              "outlinewidth": 0,
              "ticks": ""
             }
            },
            "type": "scattercarpet"
           }
          ],
          "scattergeo": [
           {
            "marker": {
             "colorbar": {
              "outlinewidth": 0,
              "ticks": ""
             }
            },
            "type": "scattergeo"
           }
          ],
          "scattergl": [
           {
            "marker": {
             "colorbar": {
              "outlinewidth": 0,
              "ticks": ""
             }
            },
            "type": "scattergl"
           }
          ],
          "scattermap": [
           {
            "marker": {
             "colorbar": {
              "outlinewidth": 0,
              "ticks": ""
             }
            },
            "type": "scattermap"
           }
          ],
          "scattermapbox": [
           {
            "marker": {
             "colorbar": {
              "outlinewidth": 0,
              "ticks": ""
             }
            },
            "type": "scattermapbox"
           }
          ],
          "scatterpolar": [
           {
            "marker": {
             "colorbar": {
              "outlinewidth": 0,
              "ticks": ""
             }
            },
            "type": "scatterpolar"
           }
          ],
          "scatterpolargl": [
           {
            "marker": {
             "colorbar": {
              "outlinewidth": 0,
              "ticks": ""
             }
            },
            "type": "scatterpolargl"
           }
          ],
          "scatterternary": [
           {
            "marker": {
             "colorbar": {
              "outlinewidth": 0,
              "ticks": ""
             }
            },
            "type": "scatterternary"
           }
          ],
          "surface": [
           {
            "colorbar": {
             "outlinewidth": 0,
             "ticks": ""
            },
            "colorscale": [
             [
              0,
              "#0d0887"
             ],
             [
              0.1111111111111111,
              "#46039f"
             ],
             [
              0.2222222222222222,
              "#7201a8"
             ],
             [
              0.3333333333333333,
              "#9c179e"
             ],
             [
              0.4444444444444444,
              "#bd3786"
             ],
             [
              0.5555555555555556,
              "#d8576b"
             ],
             [
              0.6666666666666666,
              "#ed7953"
             ],
             [
              0.7777777777777778,
              "#fb9f3a"
             ],
             [
              0.8888888888888888,
              "#fdca26"
             ],
             [
              1,
              "#f0f921"
             ]
            ],
            "type": "surface"
           }
          ],
          "table": [
           {
            "cells": {
             "fill": {
              "color": "#EBF0F8"
             },
             "line": {
              "color": "white"
             }
            },
            "header": {
             "fill": {
              "color": "#C8D4E3"
             },
             "line": {
              "color": "white"
             }
            },
            "type": "table"
           }
          ]
         },
         "layout": {
          "annotationdefaults": {
           "arrowcolor": "#2a3f5f",
           "arrowhead": 0,
           "arrowwidth": 1
          },
          "autotypenumbers": "strict",
          "coloraxis": {
           "colorbar": {
            "outlinewidth": 0,
            "ticks": ""
           }
          },
          "colorscale": {
           "diverging": [
            [
             0,
             "#8e0152"
            ],
            [
             0.1,
             "#c51b7d"
            ],
            [
             0.2,
             "#de77ae"
            ],
            [
             0.3,
             "#f1b6da"
            ],
            [
             0.4,
             "#fde0ef"
            ],
            [
             0.5,
             "#f7f7f7"
            ],
            [
             0.6,
             "#e6f5d0"
            ],
            [
             0.7,
             "#b8e186"
            ],
            [
             0.8,
             "#7fbc41"
            ],
            [
             0.9,
             "#4d9221"
            ],
            [
             1,
             "#276419"
            ]
           ],
           "sequential": [
            [
             0,
             "#0d0887"
            ],
            [
             0.1111111111111111,
             "#46039f"
            ],
            [
             0.2222222222222222,
             "#7201a8"
            ],
            [
             0.3333333333333333,
             "#9c179e"
            ],
            [
             0.4444444444444444,
             "#bd3786"
            ],
            [
             0.5555555555555556,
             "#d8576b"
            ],
            [
             0.6666666666666666,
             "#ed7953"
            ],
            [
             0.7777777777777778,
             "#fb9f3a"
            ],
            [
             0.8888888888888888,
             "#fdca26"
            ],
            [
             1,
             "#f0f921"
            ]
           ],
           "sequentialminus": [
            [
             0,
             "#0d0887"
            ],
            [
             0.1111111111111111,
             "#46039f"
            ],
            [
             0.2222222222222222,
             "#7201a8"
            ],
            [
             0.3333333333333333,
             "#9c179e"
            ],
            [
             0.4444444444444444,
             "#bd3786"
            ],
            [
             0.5555555555555556,
             "#d8576b"
            ],
            [
             0.6666666666666666,
             "#ed7953"
            ],
            [
             0.7777777777777778,
             "#fb9f3a"
            ],
            [
             0.8888888888888888,
             "#fdca26"
            ],
            [
             1,
             "#f0f921"
            ]
           ]
          },
          "colorway": [
           "#636efa",
           "#EF553B",
           "#00cc96",
           "#ab63fa",
           "#FFA15A",
           "#19d3f3",
           "#FF6692",
           "#B6E880",
           "#FF97FF",
           "#FECB52"
          ],
          "font": {
           "color": "#2a3f5f"
          },
          "geo": {
           "bgcolor": "white",
           "lakecolor": "white",
           "landcolor": "#E5ECF6",
           "showlakes": true,
           "showland": true,
           "subunitcolor": "white"
          },
          "hoverlabel": {
           "align": "left"
          },
          "hovermode": "closest",
          "mapbox": {
           "style": "light"
          },
          "paper_bgcolor": "white",
          "plot_bgcolor": "#E5ECF6",
          "polar": {
           "angularaxis": {
            "gridcolor": "white",
            "linecolor": "white",
            "ticks": ""
           },
           "bgcolor": "#E5ECF6",
           "radialaxis": {
            "gridcolor": "white",
            "linecolor": "white",
            "ticks": ""
           }
          },
          "scene": {
           "xaxis": {
            "backgroundcolor": "#E5ECF6",
            "gridcolor": "white",
            "gridwidth": 2,
            "linecolor": "white",
            "showbackground": true,
            "ticks": "",
            "zerolinecolor": "white"
           },
           "yaxis": {
            "backgroundcolor": "#E5ECF6",
            "gridcolor": "white",
            "gridwidth": 2,
            "linecolor": "white",
            "showbackground": true,
            "ticks": "",
            "zerolinecolor": "white"
           },
           "zaxis": {
            "backgroundcolor": "#E5ECF6",
            "gridcolor": "white",
            "gridwidth": 2,
            "linecolor": "white",
            "showbackground": true,
            "ticks": "",
            "zerolinecolor": "white"
           }
          },
          "shapedefaults": {
           "line": {
            "color": "#2a3f5f"
           }
          },
          "ternary": {
           "aaxis": {
            "gridcolor": "white",
            "linecolor": "white",
            "ticks": ""
           },
           "baxis": {
            "gridcolor": "white",
            "linecolor": "white",
            "ticks": ""
           },
           "bgcolor": "#E5ECF6",
           "caxis": {
            "gridcolor": "white",
            "linecolor": "white",
            "ticks": ""
           }
          },
          "title": {
           "x": 0.05
          },
          "xaxis": {
           "automargin": true,
           "gridcolor": "white",
           "linecolor": "white",
           "ticks": "",
           "title": {
            "standoff": 15
           },
           "zerolinecolor": "white",
           "zerolinewidth": 2
          },
          "yaxis": {
           "automargin": true,
           "gridcolor": "white",
           "linecolor": "white",
           "ticks": "",
           "title": {
            "standoff": 15
           },
           "zerolinecolor": "white",
           "zerolinewidth": 2
          }
         }
        },
        "title": {
         "text": "Innings Wise Score"
        },
        "width": 1700,
        "xaxis": {
         "title": {
          "text": "Batsman"
         }
        },
        "yaxis": {
         "title": {
          "text": "Runs"
         }
        }
       }
      }
     },
     "metadata": {},
     "output_type": "display_data"
    }
   ],
   "source": [
    "# Overlay\n",
    "\n",
    "trace1 = go.Bar(\n",
    "    x=final['batsman'],\n",
    "    y=final['1st Innings'],\n",
    "    name='1st Innings',\n",
    "    marker={'color':'#00a65a'}\n",
    ")\n",
    "\n",
    "trace2 = go.Bar(\n",
    "    x=final['batsman'],\n",
    "    y=final['2nd Innings'],\n",
    "    name='2nd Innings',\n",
    "    marker={'color':'#a6a65a'}\n",
    ")\n",
    "\n",
    "data=[trace1, trace2]\n",
    "\n",
    "layout = go.Layout(\n",
    "            title= 'Innings Wise Score',\n",
    "            xaxis={\n",
    "                'title': 'Batsman'\n",
    "            },\n",
    "            yaxis={\n",
    "                'title': 'Runs'\n",
    "            },\n",
    "            barmode='overlay'\n",
    "    )\n",
    "    \n",
    "fig = go.Figure(data, layout).update_layout(\n",
    "        autosize=False,  \n",
    "        width=1700,      \n",
    "        height=900,      \n",
    "    )\n",
    "\n",
    "fig.show()"
   ]
  },
  {
   "cell_type": "code",
   "execution_count": 141,
   "id": "a0b2653a",
   "metadata": {},
   "outputs": [
    {
     "data": {
      "application/vnd.plotly.v1+json": {
       "config": {
        "plotlyServerURL": "https://plot.ly"
       },
       "data": [
        {
         "marker": {
          "color": "#00a65a"
         },
         "name": "1st Innings",
         "type": "bar",
         "x": [
          "AB de Villiers",
          "CH Gayle",
          "DA Warner",
          "G Gambhir",
          "MS Dhoni",
          "RG Sharma",
          "RV Uthappa",
          "S Dhawan",
          "SK Raina",
          "V Kohli"
         ],
         "y": {
          "bdata": "UAjTB0YIowa4CCgJ7AXWCFcKVwk=",
          "dtype": "i2"
         }
        },
        {
         "marker": {
          "color": "#a6a65a"
         },
         "name": "2nd Innings",
         "type": "bar",
         "x": [
          "AB de Villiers",
          "CH Gayle",
          "DA Warner",
          "G Gambhir",
          "MS Dhoni",
          "RG Sharma",
          "RV Uthappa",
          "S Dhawan",
          "SK Raina",
          "V Kohli"
         ],
         "y": {
          "bdata": "QQVXBmgHgQkwBUcH1ggTBWUH6wc=",
          "dtype": "i2"
         }
        }
       ],
       "layout": {
        "autosize": false,
        "height": 900,
        "template": {
         "data": {
          "bar": [
           {
            "error_x": {
             "color": "#2a3f5f"
            },
            "error_y": {
             "color": "#2a3f5f"
            },
            "marker": {
             "line": {
              "color": "#E5ECF6",
              "width": 0.5
             },
             "pattern": {
              "fillmode": "overlay",
              "size": 10,
              "solidity": 0.2
             }
            },
            "type": "bar"
           }
          ],
          "barpolar": [
           {
            "marker": {
             "line": {
              "color": "#E5ECF6",
              "width": 0.5
             },
             "pattern": {
              "fillmode": "overlay",
              "size": 10,
              "solidity": 0.2
             }
            },
            "type": "barpolar"
           }
          ],
          "carpet": [
           {
            "aaxis": {
             "endlinecolor": "#2a3f5f",
             "gridcolor": "white",
             "linecolor": "white",
             "minorgridcolor": "white",
             "startlinecolor": "#2a3f5f"
            },
            "baxis": {
             "endlinecolor": "#2a3f5f",
             "gridcolor": "white",
             "linecolor": "white",
             "minorgridcolor": "white",
             "startlinecolor": "#2a3f5f"
            },
            "type": "carpet"
           }
          ],
          "choropleth": [
           {
            "colorbar": {
             "outlinewidth": 0,
             "ticks": ""
            },
            "type": "choropleth"
           }
          ],
          "contour": [
           {
            "colorbar": {
             "outlinewidth": 0,
             "ticks": ""
            },
            "colorscale": [
             [
              0,
              "#0d0887"
             ],
             [
              0.1111111111111111,
              "#46039f"
             ],
             [
              0.2222222222222222,
              "#7201a8"
             ],
             [
              0.3333333333333333,
              "#9c179e"
             ],
             [
              0.4444444444444444,
              "#bd3786"
             ],
             [
              0.5555555555555556,
              "#d8576b"
             ],
             [
              0.6666666666666666,
              "#ed7953"
             ],
             [
              0.7777777777777778,
              "#fb9f3a"
             ],
             [
              0.8888888888888888,
              "#fdca26"
             ],
             [
              1,
              "#f0f921"
             ]
            ],
            "type": "contour"
           }
          ],
          "contourcarpet": [
           {
            "colorbar": {
             "outlinewidth": 0,
             "ticks": ""
            },
            "type": "contourcarpet"
           }
          ],
          "heatmap": [
           {
            "colorbar": {
             "outlinewidth": 0,
             "ticks": ""
            },
            "colorscale": [
             [
              0,
              "#0d0887"
             ],
             [
              0.1111111111111111,
              "#46039f"
             ],
             [
              0.2222222222222222,
              "#7201a8"
             ],
             [
              0.3333333333333333,
              "#9c179e"
             ],
             [
              0.4444444444444444,
              "#bd3786"
             ],
             [
              0.5555555555555556,
              "#d8576b"
             ],
             [
              0.6666666666666666,
              "#ed7953"
             ],
             [
              0.7777777777777778,
              "#fb9f3a"
             ],
             [
              0.8888888888888888,
              "#fdca26"
             ],
             [
              1,
              "#f0f921"
             ]
            ],
            "type": "heatmap"
           }
          ],
          "histogram": [
           {
            "marker": {
             "pattern": {
              "fillmode": "overlay",
              "size": 10,
              "solidity": 0.2
             }
            },
            "type": "histogram"
           }
          ],
          "histogram2d": [
           {
            "colorbar": {
             "outlinewidth": 0,
             "ticks": ""
            },
            "colorscale": [
             [
              0,
              "#0d0887"
             ],
             [
              0.1111111111111111,
              "#46039f"
             ],
             [
              0.2222222222222222,
              "#7201a8"
             ],
             [
              0.3333333333333333,
              "#9c179e"
             ],
             [
              0.4444444444444444,
              "#bd3786"
             ],
             [
              0.5555555555555556,
              "#d8576b"
             ],
             [
              0.6666666666666666,
              "#ed7953"
             ],
             [
              0.7777777777777778,
              "#fb9f3a"
             ],
             [
              0.8888888888888888,
              "#fdca26"
             ],
             [
              1,
              "#f0f921"
             ]
            ],
            "type": "histogram2d"
           }
          ],
          "histogram2dcontour": [
           {
            "colorbar": {
             "outlinewidth": 0,
             "ticks": ""
            },
            "colorscale": [
             [
              0,
              "#0d0887"
             ],
             [
              0.1111111111111111,
              "#46039f"
             ],
             [
              0.2222222222222222,
              "#7201a8"
             ],
             [
              0.3333333333333333,
              "#9c179e"
             ],
             [
              0.4444444444444444,
              "#bd3786"
             ],
             [
              0.5555555555555556,
              "#d8576b"
             ],
             [
              0.6666666666666666,
              "#ed7953"
             ],
             [
              0.7777777777777778,
              "#fb9f3a"
             ],
             [
              0.8888888888888888,
              "#fdca26"
             ],
             [
              1,
              "#f0f921"
             ]
            ],
            "type": "histogram2dcontour"
           }
          ],
          "mesh3d": [
           {
            "colorbar": {
             "outlinewidth": 0,
             "ticks": ""
            },
            "type": "mesh3d"
           }
          ],
          "parcoords": [
           {
            "line": {
             "colorbar": {
              "outlinewidth": 0,
              "ticks": ""
             }
            },
            "type": "parcoords"
           }
          ],
          "pie": [
           {
            "automargin": true,
            "type": "pie"
           }
          ],
          "scatter": [
           {
            "fillpattern": {
             "fillmode": "overlay",
             "size": 10,
             "solidity": 0.2
            },
            "type": "scatter"
           }
          ],
          "scatter3d": [
           {
            "line": {
             "colorbar": {
              "outlinewidth": 0,
              "ticks": ""
             }
            },
            "marker": {
             "colorbar": {
              "outlinewidth": 0,
              "ticks": ""
             }
            },
            "type": "scatter3d"
           }
          ],
          "scattercarpet": [
           {
            "marker": {
             "colorbar": {
              "outlinewidth": 0,
              "ticks": ""
             }
            },
            "type": "scattercarpet"
           }
          ],
          "scattergeo": [
           {
            "marker": {
             "colorbar": {
              "outlinewidth": 0,
              "ticks": ""
             }
            },
            "type": "scattergeo"
           }
          ],
          "scattergl": [
           {
            "marker": {
             "colorbar": {
              "outlinewidth": 0,
              "ticks": ""
             }
            },
            "type": "scattergl"
           }
          ],
          "scattermap": [
           {
            "marker": {
             "colorbar": {
              "outlinewidth": 0,
              "ticks": ""
             }
            },
            "type": "scattermap"
           }
          ],
          "scattermapbox": [
           {
            "marker": {
             "colorbar": {
              "outlinewidth": 0,
              "ticks": ""
             }
            },
            "type": "scattermapbox"
           }
          ],
          "scatterpolar": [
           {
            "marker": {
             "colorbar": {
              "outlinewidth": 0,
              "ticks": ""
             }
            },
            "type": "scatterpolar"
           }
          ],
          "scatterpolargl": [
           {
            "marker": {
             "colorbar": {
              "outlinewidth": 0,
              "ticks": ""
             }
            },
            "type": "scatterpolargl"
           }
          ],
          "scatterternary": [
           {
            "marker": {
             "colorbar": {
              "outlinewidth": 0,
              "ticks": ""
             }
            },
            "type": "scatterternary"
           }
          ],
          "surface": [
           {
            "colorbar": {
             "outlinewidth": 0,
             "ticks": ""
            },
            "colorscale": [
             [
              0,
              "#0d0887"
             ],
             [
              0.1111111111111111,
              "#46039f"
             ],
             [
              0.2222222222222222,
              "#7201a8"
             ],
             [
              0.3333333333333333,
              "#9c179e"
             ],
             [
              0.4444444444444444,
              "#bd3786"
             ],
             [
              0.5555555555555556,
              "#d8576b"
             ],
             [
              0.6666666666666666,
              "#ed7953"
             ],
             [
              0.7777777777777778,
              "#fb9f3a"
             ],
             [
              0.8888888888888888,
              "#fdca26"
             ],
             [
              1,
              "#f0f921"
             ]
            ],
            "type": "surface"
           }
          ],
          "table": [
           {
            "cells": {
             "fill": {
              "color": "#EBF0F8"
             },
             "line": {
              "color": "white"
             }
            },
            "header": {
             "fill": {
              "color": "#C8D4E3"
             },
             "line": {
              "color": "white"
             }
            },
            "type": "table"
           }
          ]
         },
         "layout": {
          "annotationdefaults": {
           "arrowcolor": "#2a3f5f",
           "arrowhead": 0,
           "arrowwidth": 1
          },
          "autotypenumbers": "strict",
          "coloraxis": {
           "colorbar": {
            "outlinewidth": 0,
            "ticks": ""
           }
          },
          "colorscale": {
           "diverging": [
            [
             0,
             "#8e0152"
            ],
            [
             0.1,
             "#c51b7d"
            ],
            [
             0.2,
             "#de77ae"
            ],
            [
             0.3,
             "#f1b6da"
            ],
            [
             0.4,
             "#fde0ef"
            ],
            [
             0.5,
             "#f7f7f7"
            ],
            [
             0.6,
             "#e6f5d0"
            ],
            [
             0.7,
             "#b8e186"
            ],
            [
             0.8,
             "#7fbc41"
            ],
            [
             0.9,
             "#4d9221"
            ],
            [
             1,
             "#276419"
            ]
           ],
           "sequential": [
            [
             0,
             "#0d0887"
            ],
            [
             0.1111111111111111,
             "#46039f"
            ],
            [
             0.2222222222222222,
             "#7201a8"
            ],
            [
             0.3333333333333333,
             "#9c179e"
            ],
            [
             0.4444444444444444,
             "#bd3786"
            ],
            [
             0.5555555555555556,
             "#d8576b"
            ],
            [
             0.6666666666666666,
             "#ed7953"
            ],
            [
             0.7777777777777778,
             "#fb9f3a"
            ],
            [
             0.8888888888888888,
             "#fdca26"
            ],
            [
             1,
             "#f0f921"
            ]
           ],
           "sequentialminus": [
            [
             0,
             "#0d0887"
            ],
            [
             0.1111111111111111,
             "#46039f"
            ],
            [
             0.2222222222222222,
             "#7201a8"
            ],
            [
             0.3333333333333333,
             "#9c179e"
            ],
            [
             0.4444444444444444,
             "#bd3786"
            ],
            [
             0.5555555555555556,
             "#d8576b"
            ],
            [
             0.6666666666666666,
             "#ed7953"
            ],
            [
             0.7777777777777778,
             "#fb9f3a"
            ],
            [
             0.8888888888888888,
             "#fdca26"
            ],
            [
             1,
             "#f0f921"
            ]
           ]
          },
          "colorway": [
           "#636efa",
           "#EF553B",
           "#00cc96",
           "#ab63fa",
           "#FFA15A",
           "#19d3f3",
           "#FF6692",
           "#B6E880",
           "#FF97FF",
           "#FECB52"
          ],
          "font": {
           "color": "#2a3f5f"
          },
          "geo": {
           "bgcolor": "white",
           "lakecolor": "white",
           "landcolor": "#E5ECF6",
           "showlakes": true,
           "showland": true,
           "subunitcolor": "white"
          },
          "hoverlabel": {
           "align": "left"
          },
          "hovermode": "closest",
          "mapbox": {
           "style": "light"
          },
          "paper_bgcolor": "white",
          "plot_bgcolor": "#E5ECF6",
          "polar": {
           "angularaxis": {
            "gridcolor": "white",
            "linecolor": "white",
            "ticks": ""
           },
           "bgcolor": "#E5ECF6",
           "radialaxis": {
            "gridcolor": "white",
            "linecolor": "white",
            "ticks": ""
           }
          },
          "scene": {
           "xaxis": {
            "backgroundcolor": "#E5ECF6",
            "gridcolor": "white",
            "gridwidth": 2,
            "linecolor": "white",
            "showbackground": true,
            "ticks": "",
            "zerolinecolor": "white"
           },
           "yaxis": {
            "backgroundcolor": "#E5ECF6",
            "gridcolor": "white",
            "gridwidth": 2,
            "linecolor": "white",
            "showbackground": true,
            "ticks": "",
            "zerolinecolor": "white"
           },
           "zaxis": {
            "backgroundcolor": "#E5ECF6",
            "gridcolor": "white",
            "gridwidth": 2,
            "linecolor": "white",
            "showbackground": true,
            "ticks": "",
            "zerolinecolor": "white"
           }
          },
          "shapedefaults": {
           "line": {
            "color": "#2a3f5f"
           }
          },
          "ternary": {
           "aaxis": {
            "gridcolor": "white",
            "linecolor": "white",
            "ticks": ""
           },
           "baxis": {
            "gridcolor": "white",
            "linecolor": "white",
            "ticks": ""
           },
           "bgcolor": "#E5ECF6",
           "caxis": {
            "gridcolor": "white",
            "linecolor": "white",
            "ticks": ""
           }
          },
          "title": {
           "x": 0.05
          },
          "xaxis": {
           "automargin": true,
           "gridcolor": "white",
           "linecolor": "white",
           "ticks": "",
           "title": {
            "standoff": 15
           },
           "zerolinecolor": "white",
           "zerolinewidth": 2
          },
          "yaxis": {
           "automargin": true,
           "gridcolor": "white",
           "linecolor": "white",
           "ticks": "",
           "title": {
            "standoff": 15
           },
           "zerolinecolor": "white",
           "zerolinewidth": 2
          }
         }
        },
        "title": {
         "text": "Innings Wise Score"
        },
        "width": 1700,
        "xaxis": {
         "title": {
          "text": "Batsman"
         }
        },
        "yaxis": {
         "title": {
          "text": "Runs"
         }
        }
       }
      }
     },
     "metadata": {},
     "output_type": "display_data"
    }
   ],
   "source": [
    "# Nested\n",
    "\n",
    "trace1 = go.Bar(\n",
    "    x=final['batsman'],\n",
    "    y=final['1st Innings'],\n",
    "    name='1st Innings',\n",
    "    marker={'color':'#00a65a'}\n",
    ")\n",
    "\n",
    "trace2 = go.Bar(\n",
    "    x=final['batsman'],\n",
    "    y=final['2nd Innings'],\n",
    "    name='2nd Innings',\n",
    "    marker={'color':'#a6a65a'}\n",
    ")\n",
    "\n",
    "data=[trace1, trace2]\n",
    "\n",
    "layout = go.Layout(\n",
    "            title= 'Innings Wise Score',\n",
    "            xaxis={\n",
    "                'title': 'Batsman'\n",
    "            },\n",
    "            yaxis={\n",
    "                'title': 'Runs'\n",
    "            },\n",
    "    )\n",
    "    \n",
    "fig = go.Figure(data, layout).update_layout(\n",
    "        autosize=False,  \n",
    "        width=1700,      \n",
    "        height=900,      \n",
    "    )\n",
    "\n",
    "fig.show()"
   ]
  },
  {
   "cell_type": "markdown",
   "id": "fcb9b025",
   "metadata": {},
   "source": [
    "## Bubble Plot"
   ]
  },
  {
   "cell_type": "code",
   "execution_count": 142,
   "id": "f1709976",
   "metadata": {},
   "outputs": [
    {
     "data": {
      "application/vnd.plotly.v1+json": {
       "config": {
        "plotlyServerURL": "https://plot.ly"
       },
       "data": [
        {
         "marker": {
          "size": {
           "bdata": "ngBcADsAPABPAHwAKwAKAU4AoAAwADwAKAB1ACYAOgBSACwATgCUABsARwAaAFkANABBACcAnABPACMAHAA5AK0AfQAcAEcAKgBOAK4ALQAdAHoALQA5ABgAoABqADkAlQCNAA==",
           "dtype": "i2"
          }
         },
         "mode": "markers",
         "type": "scatter",
         "x": {
          "bdata": "dmIndmInQ0CU11BeQzk7QCuChpO6LztAv/RLv/TLQECykpWsZCU7QKfg5RS8HDxAq6qqqqqqQEBwgQtc4IJEQN7d3d3dXUFAUrgehesRREDylCBPCfI2QD801ofG+jpAAAAAAABAPEBJkiRJkmQ8QEfcEXfEHT5Ah2nugr+KP0AFL6fg5RQ5QI6NjY2NjTxArkfhehTuQ0C1K1G7ErU8QEMv9EIv9DlA/tzP/dzPOEBDFrKQhSw5QOiWOPV7bjpA4uHh4eFhQ0AAAAAAAIA8QNu2bdu2bT1AtFHf2ajvQkDJZ91givw0QL1T13JwszVAYO+YGtg7PEDkOI7jOA44QDTmjDljTkBAAAAAAACEPUC/s1Hf2ag+QFydkYq5VUBA1QTjrexzOUAQBEEQBMFDQNIDlbNb+EBATm9605ueQkDf9KY3velAQOvq6urq6j5AsAVbsAVbPEBu27Zt23Y5QPQFfUFf0DpAWxE0nNS9QkDkOI7jOI47QNLmfYpLhjlANNaHxvrQPUCGb0SBSac5QA==",
          "dtype": "f8"
         },
         "y": {
          "bdata": "xg+WQCEkYkDxfVHLv6FgQGUymUwmk19AeTidnSNfXUCRPpiU6cBeQM7Ur25dlF9ASTUQNwhbXkAeHXjPNwZiQIGaXS+yNmFAvmGCVzBKYUC0JW1JW5JeQK/BO3umBF5AyOeHzKCyXUD5eITx8YhgQNQxlwhPCl9A5O8X5x0XXkAhDdIgDbJjQLJ68uLre1pAm4MctR5+XkDbpCFq4ZNhQAIXuMAFnl1AqPvy2IrAXkBmL9Q+nClfQKibhufVAV5ANd3Bfqv9XUCKXgqfDzxdQJ3SP7YniFxAoXJ2C7+aYECyHH4jy6FcQMfQdAf7LVxATuFMIDlWXEBSb/tUvrJdQCTsEnvpD2BAinzWDaboX0AJuPXZjO9cQHIUUOQooF1AtALvswJvWUBlo1NHg0NgQGOPuYbb32BA2MnxYToQYEDAgAEDBoxcQIp/ef/T2mBAqXmQu362XECOzqTa0ZleQBBLu07yh1tAu30C9ailX0DTcWlFd5piQLy/5b6R7l9AcQSR1guYYUAZnI/B+ZhfQA==",
          "dtype": "f8"
         }
        }
       ],
       "layout": {
        "autosize": false,
        "height": 900,
        "template": {
         "data": {
          "bar": [
           {
            "error_x": {
             "color": "#2a3f5f"
            },
            "error_y": {
             "color": "#2a3f5f"
            },
            "marker": {
             "line": {
              "color": "#E5ECF6",
              "width": 0.5
             },
             "pattern": {
              "fillmode": "overlay",
              "size": 10,
              "solidity": 0.2
             }
            },
            "type": "bar"
           }
          ],
          "barpolar": [
           {
            "marker": {
             "line": {
              "color": "#E5ECF6",
              "width": 0.5
             },
             "pattern": {
              "fillmode": "overlay",
              "size": 10,
              "solidity": 0.2
             }
            },
            "type": "barpolar"
           }
          ],
          "carpet": [
           {
            "aaxis": {
             "endlinecolor": "#2a3f5f",
             "gridcolor": "white",
             "linecolor": "white",
             "minorgridcolor": "white",
             "startlinecolor": "#2a3f5f"
            },
            "baxis": {
             "endlinecolor": "#2a3f5f",
             "gridcolor": "white",
             "linecolor": "white",
             "minorgridcolor": "white",
             "startlinecolor": "#2a3f5f"
            },
            "type": "carpet"
           }
          ],
          "choropleth": [
           {
            "colorbar": {
             "outlinewidth": 0,
             "ticks": ""
            },
            "type": "choropleth"
           }
          ],
          "contour": [
           {
            "colorbar": {
             "outlinewidth": 0,
             "ticks": ""
            },
            "colorscale": [
             [
              0,
              "#0d0887"
             ],
             [
              0.1111111111111111,
              "#46039f"
             ],
             [
              0.2222222222222222,
              "#7201a8"
             ],
             [
              0.3333333333333333,
              "#9c179e"
             ],
             [
              0.4444444444444444,
              "#bd3786"
             ],
             [
              0.5555555555555556,
              "#d8576b"
             ],
             [
              0.6666666666666666,
              "#ed7953"
             ],
             [
              0.7777777777777778,
              "#fb9f3a"
             ],
             [
              0.8888888888888888,
              "#fdca26"
             ],
             [
              1,
              "#f0f921"
             ]
            ],
            "type": "contour"
           }
          ],
          "contourcarpet": [
           {
            "colorbar": {
             "outlinewidth": 0,
             "ticks": ""
            },
            "type": "contourcarpet"
           }
          ],
          "heatmap": [
           {
            "colorbar": {
             "outlinewidth": 0,
             "ticks": ""
            },
            "colorscale": [
             [
              0,
              "#0d0887"
             ],
             [
              0.1111111111111111,
              "#46039f"
             ],
             [
              0.2222222222222222,
              "#7201a8"
             ],
             [
              0.3333333333333333,
              "#9c179e"
             ],
             [
              0.4444444444444444,
              "#bd3786"
             ],
             [
              0.5555555555555556,
              "#d8576b"
             ],
             [
              0.6666666666666666,
              "#ed7953"
             ],
             [
              0.7777777777777778,
              "#fb9f3a"
             ],
             [
              0.8888888888888888,
              "#fdca26"
             ],
             [
              1,
              "#f0f921"
             ]
            ],
            "type": "heatmap"
           }
          ],
          "histogram": [
           {
            "marker": {
             "pattern": {
              "fillmode": "overlay",
              "size": 10,
              "solidity": 0.2
             }
            },
            "type": "histogram"
           }
          ],
          "histogram2d": [
           {
            "colorbar": {
             "outlinewidth": 0,
             "ticks": ""
            },
            "colorscale": [
             [
              0,
              "#0d0887"
             ],
             [
              0.1111111111111111,
              "#46039f"
             ],
             [
              0.2222222222222222,
              "#7201a8"
             ],
             [
              0.3333333333333333,
              "#9c179e"
             ],
             [
              0.4444444444444444,
              "#bd3786"
             ],
             [
              0.5555555555555556,
              "#d8576b"
             ],
             [
              0.6666666666666666,
              "#ed7953"
             ],
             [
              0.7777777777777778,
              "#fb9f3a"
             ],
             [
              0.8888888888888888,
              "#fdca26"
             ],
             [
              1,
              "#f0f921"
             ]
            ],
            "type": "histogram2d"
           }
          ],
          "histogram2dcontour": [
           {
            "colorbar": {
             "outlinewidth": 0,
             "ticks": ""
            },
            "colorscale": [
             [
              0,
              "#0d0887"
             ],
             [
              0.1111111111111111,
              "#46039f"
             ],
             [
              0.2222222222222222,
              "#7201a8"
             ],
             [
              0.3333333333333333,
              "#9c179e"
             ],
             [
              0.4444444444444444,
              "#bd3786"
             ],
             [
              0.5555555555555556,
              "#d8576b"
             ],
             [
              0.6666666666666666,
              "#ed7953"
             ],
             [
              0.7777777777777778,
              "#fb9f3a"
             ],
             [
              0.8888888888888888,
              "#fdca26"
             ],
             [
              1,
              "#f0f921"
             ]
            ],
            "type": "histogram2dcontour"
           }
          ],
          "mesh3d": [
           {
            "colorbar": {
             "outlinewidth": 0,
             "ticks": ""
            },
            "type": "mesh3d"
           }
          ],
          "parcoords": [
           {
            "line": {
             "colorbar": {
              "outlinewidth": 0,
              "ticks": ""
             }
            },
            "type": "parcoords"
           }
          ],
          "pie": [
           {
            "automargin": true,
            "type": "pie"
           }
          ],
          "scatter": [
           {
            "fillpattern": {
             "fillmode": "overlay",
             "size": 10,
             "solidity": 0.2
            },
            "type": "scatter"
           }
          ],
          "scatter3d": [
           {
            "line": {
             "colorbar": {
              "outlinewidth": 0,
              "ticks": ""
             }
            },
            "marker": {
             "colorbar": {
              "outlinewidth": 0,
              "ticks": ""
             }
            },
            "type": "scatter3d"
           }
          ],
          "scattercarpet": [
           {
            "marker": {
             "colorbar": {
              "outlinewidth": 0,
              "ticks": ""
             }
            },
            "type": "scattercarpet"
           }
          ],
          "scattergeo": [
           {
            "marker": {
             "colorbar": {
              "outlinewidth": 0,
              "ticks": ""
             }
            },
            "type": "scattergeo"
           }
          ],
          "scattergl": [
           {
            "marker": {
             "colorbar": {
              "outlinewidth": 0,
              "ticks": ""
             }
            },
            "type": "scattergl"
           }
          ],
          "scattermap": [
           {
            "marker": {
             "colorbar": {
              "outlinewidth": 0,
              "ticks": ""
             }
            },
            "type": "scattermap"
           }
          ],
          "scattermapbox": [
           {
            "marker": {
             "colorbar": {
              "outlinewidth": 0,
              "ticks": ""
             }
            },
            "type": "scattermapbox"
           }
          ],
          "scatterpolar": [
           {
            "marker": {
             "colorbar": {
              "outlinewidth": 0,
              "ticks": ""
             }
            },
            "type": "scatterpolar"
           }
          ],
          "scatterpolargl": [
           {
            "marker": {
             "colorbar": {
              "outlinewidth": 0,
              "ticks": ""
             }
            },
            "type": "scatterpolargl"
           }
          ],
          "scatterternary": [
           {
            "marker": {
             "colorbar": {
              "outlinewidth": 0,
              "ticks": ""
             }
            },
            "type": "scatterternary"
           }
          ],
          "surface": [
           {
            "colorbar": {
             "outlinewidth": 0,
             "ticks": ""
            },
            "colorscale": [
             [
              0,
              "#0d0887"
             ],
             [
              0.1111111111111111,
              "#46039f"
             ],
             [
              0.2222222222222222,
              "#7201a8"
             ],
             [
              0.3333333333333333,
              "#9c179e"
             ],
             [
              0.4444444444444444,
              "#bd3786"
             ],
             [
              0.5555555555555556,
              "#d8576b"
             ],
             [
              0.6666666666666666,
              "#ed7953"
             ],
             [
              0.7777777777777778,
              "#fb9f3a"
             ],
             [
              0.8888888888888888,
              "#fdca26"
             ],
             [
              1,
              "#f0f921"
             ]
            ],
            "type": "surface"
           }
          ],
          "table": [
           {
            "cells": {
             "fill": {
              "color": "#EBF0F8"
             },
             "line": {
              "color": "white"
             }
            },
            "header": {
             "fill": {
              "color": "#C8D4E3"
             },
             "line": {
              "color": "white"
             }
            },
            "type": "table"
           }
          ]
         },
         "layout": {
          "annotationdefaults": {
           "arrowcolor": "#2a3f5f",
           "arrowhead": 0,
           "arrowwidth": 1
          },
          "autotypenumbers": "strict",
          "coloraxis": {
           "colorbar": {
            "outlinewidth": 0,
            "ticks": ""
           }
          },
          "colorscale": {
           "diverging": [
            [
             0,
             "#8e0152"
            ],
            [
             0.1,
             "#c51b7d"
            ],
            [
             0.2,
             "#de77ae"
            ],
            [
             0.3,
             "#f1b6da"
            ],
            [
             0.4,
             "#fde0ef"
            ],
            [
             0.5,
             "#f7f7f7"
            ],
            [
             0.6,
             "#e6f5d0"
            ],
            [
             0.7,
             "#b8e186"
            ],
            [
             0.8,
             "#7fbc41"
            ],
            [
             0.9,
             "#4d9221"
            ],
            [
             1,
             "#276419"
            ]
           ],
           "sequential": [
            [
             0,
             "#0d0887"
            ],
            [
             0.1111111111111111,
             "#46039f"
            ],
            [
             0.2222222222222222,
             "#7201a8"
            ],
            [
             0.3333333333333333,
             "#9c179e"
            ],
            [
             0.4444444444444444,
             "#bd3786"
            ],
            [
             0.5555555555555556,
             "#d8576b"
            ],
            [
             0.6666666666666666,
             "#ed7953"
            ],
            [
             0.7777777777777778,
             "#fb9f3a"
            ],
            [
             0.8888888888888888,
             "#fdca26"
            ],
            [
             1,
             "#f0f921"
            ]
           ],
           "sequentialminus": [
            [
             0,
             "#0d0887"
            ],
            [
             0.1111111111111111,
             "#46039f"
            ],
            [
             0.2222222222222222,
             "#7201a8"
            ],
            [
             0.3333333333333333,
             "#9c179e"
            ],
            [
             0.4444444444444444,
             "#bd3786"
            ],
            [
             0.5555555555555556,
             "#d8576b"
            ],
            [
             0.6666666666666666,
             "#ed7953"
            ],
            [
             0.7777777777777778,
             "#fb9f3a"
            ],
            [
             0.8888888888888888,
             "#fdca26"
            ],
            [
             1,
             "#f0f921"
            ]
           ]
          },
          "colorway": [
           "#636efa",
           "#EF553B",
           "#00cc96",
           "#ab63fa",
           "#FFA15A",
           "#19d3f3",
           "#FF6692",
           "#B6E880",
           "#FF97FF",
           "#FECB52"
          ],
          "font": {
           "color": "#2a3f5f"
          },
          "geo": {
           "bgcolor": "white",
           "lakecolor": "white",
           "landcolor": "#E5ECF6",
           "showlakes": true,
           "showland": true,
           "subunitcolor": "white"
          },
          "hoverlabel": {
           "align": "left"
          },
          "hovermode": "closest",
          "mapbox": {
           "style": "light"
          },
          "paper_bgcolor": "white",
          "plot_bgcolor": "#E5ECF6",
          "polar": {
           "angularaxis": {
            "gridcolor": "white",
            "linecolor": "white",
            "ticks": ""
           },
           "bgcolor": "#E5ECF6",
           "radialaxis": {
            "gridcolor": "white",
            "linecolor": "white",
            "ticks": ""
           }
          },
          "scene": {
           "xaxis": {
            "backgroundcolor": "#E5ECF6",
            "gridcolor": "white",
            "gridwidth": 2,
            "linecolor": "white",
            "showbackground": true,
            "ticks": "",
            "zerolinecolor": "white"
           },
           "yaxis": {
            "backgroundcolor": "#E5ECF6",
            "gridcolor": "white",
            "gridwidth": 2,
            "linecolor": "white",
            "showbackground": true,
            "ticks": "",
            "zerolinecolor": "white"
           },
           "zaxis": {
            "backgroundcolor": "#E5ECF6",
            "gridcolor": "white",
            "gridwidth": 2,
            "linecolor": "white",
            "showbackground": true,
            "ticks": "",
            "zerolinecolor": "white"
           }
          },
          "shapedefaults": {
           "line": {
            "color": "#2a3f5f"
           }
          },
          "ternary": {
           "aaxis": {
            "gridcolor": "white",
            "linecolor": "white",
            "ticks": ""
           },
           "baxis": {
            "gridcolor": "white",
            "linecolor": "white",
            "ticks": ""
           },
           "bgcolor": "#E5ECF6",
           "caxis": {
            "gridcolor": "white",
            "linecolor": "white",
            "ticks": ""
           }
          },
          "title": {
           "x": 0.05
          },
          "xaxis": {
           "automargin": true,
           "gridcolor": "white",
           "linecolor": "white",
           "ticks": "",
           "title": {
            "standoff": 15
           },
           "zerolinecolor": "white",
           "zerolinewidth": 2
          },
          "yaxis": {
           "automargin": true,
           "gridcolor": "white",
           "linecolor": "white",
           "ticks": "",
           "title": {
            "standoff": 15
           },
           "zerolinecolor": "white",
           "zerolinewidth": 2
          }
         }
        },
        "title": {
         "text": "Bubble Chart"
        },
        "width": 1700,
        "xaxis": {
         "title": {
          "text": "Average"
         }
        },
        "yaxis": {
         "title": {
          "text": "Strike Rate"
         }
        }
       }
      }
     },
     "metadata": {},
     "output_type": "display_data"
    }
   ],
   "source": [
    "new_ipl = new_ipl[new_ipl['batsman_runs'] == 6]\n",
    "\n",
    "six = new_ipl.groupby('batsman')['batsman_runs'].count().reset_index()\n",
    "\n",
    "x = avg.merge(six, on='batsman')\n",
    "\n",
    "trace = go.Scatter(\n",
    "    x=x['avg'],\n",
    "    y=x['batsman_runs_x'],\n",
    "    mode='markers',\n",
    "    # name=x['batsman'],\n",
    "    marker={\n",
    "        'size':x['batsman_runs_y']\n",
    "    }\n",
    ")\n",
    "\n",
    "data=[trace]\n",
    "\n",
    "layout = go.Layout(\n",
    "            title= 'Bubble Chart',\n",
    "            xaxis={\n",
    "                'title': 'Average'\n",
    "            },\n",
    "            yaxis={\n",
    "                'title': 'Strike Rate'\n",
    "            },\n",
    "    )\n",
    "    \n",
    "fig = go.Figure(data, layout).update_layout(\n",
    "        autosize=False,  \n",
    "        width=1700,      \n",
    "        height=900,      \n",
    "    )\n",
    "\n",
    "fig.show()"
   ]
  },
  {
   "cell_type": "markdown",
   "id": "66745418",
   "metadata": {},
   "source": [
    "## Boxplot"
   ]
  },
  {
   "cell_type": "code",
   "execution_count": 143,
   "id": "bfff2022",
   "metadata": {},
   "outputs": [
    {
     "data": {
      "text/html": [
       "<div>\n",
       "<style scoped>\n",
       "    .dataframe tbody tr th:only-of-type {\n",
       "        vertical-align: middle;\n",
       "    }\n",
       "\n",
       "    .dataframe tbody tr th {\n",
       "        vertical-align: top;\n",
       "    }\n",
       "\n",
       "    .dataframe thead th {\n",
       "        text-align: right;\n",
       "    }\n",
       "</style>\n",
       "<table border=\"1\" class=\"dataframe\">\n",
       "  <thead>\n",
       "    <tr style=\"text-align: right;\">\n",
       "      <th></th>\n",
       "      <th>match_id</th>\n",
       "      <th>total_runs</th>\n",
       "      <th>season</th>\n",
       "    </tr>\n",
       "  </thead>\n",
       "  <tbody>\n",
       "    <tr>\n",
       "      <th>0</th>\n",
       "      <td>1</td>\n",
       "      <td>379</td>\n",
       "      <td>2017</td>\n",
       "    </tr>\n",
       "    <tr>\n",
       "      <th>1</th>\n",
       "      <td>2</td>\n",
       "      <td>371</td>\n",
       "      <td>2017</td>\n",
       "    </tr>\n",
       "    <tr>\n",
       "      <th>2</th>\n",
       "      <td>3</td>\n",
       "      <td>367</td>\n",
       "      <td>2017</td>\n",
       "    </tr>\n",
       "    <tr>\n",
       "      <th>3</th>\n",
       "      <td>4</td>\n",
       "      <td>327</td>\n",
       "      <td>2017</td>\n",
       "    </tr>\n",
       "    <tr>\n",
       "      <th>4</th>\n",
       "      <td>5</td>\n",
       "      <td>299</td>\n",
       "      <td>2017</td>\n",
       "    </tr>\n",
       "    <tr>\n",
       "      <th>...</th>\n",
       "      <td>...</td>\n",
       "      <td>...</td>\n",
       "      <td>...</td>\n",
       "    </tr>\n",
       "    <tr>\n",
       "      <th>631</th>\n",
       "      <td>632</td>\n",
       "      <td>277</td>\n",
       "      <td>2016</td>\n",
       "    </tr>\n",
       "    <tr>\n",
       "      <th>632</th>\n",
       "      <td>633</td>\n",
       "      <td>317</td>\n",
       "      <td>2016</td>\n",
       "    </tr>\n",
       "    <tr>\n",
       "      <th>633</th>\n",
       "      <td>634</td>\n",
       "      <td>302</td>\n",
       "      <td>2016</td>\n",
       "    </tr>\n",
       "    <tr>\n",
       "      <th>634</th>\n",
       "      <td>635</td>\n",
       "      <td>325</td>\n",
       "      <td>2016</td>\n",
       "    </tr>\n",
       "    <tr>\n",
       "      <th>635</th>\n",
       "      <td>636</td>\n",
       "      <td>408</td>\n",
       "      <td>2016</td>\n",
       "    </tr>\n",
       "  </tbody>\n",
       "</table>\n",
       "<p>636 rows × 3 columns</p>\n",
       "</div>"
      ],
      "text/plain": [
       "     match_id  total_runs  season\n",
       "0           1         379    2017\n",
       "1           2         371    2017\n",
       "2           3         367    2017\n",
       "3           4         327    2017\n",
       "4           5         299    2017\n",
       "..        ...         ...     ...\n",
       "631       632         277    2016\n",
       "632       633         317    2016\n",
       "633       634         302    2016\n",
       "634       635         325    2016\n",
       "635       636         408    2016\n",
       "\n",
       "[636 rows x 3 columns]"
      ]
     },
     "execution_count": 143,
     "metadata": {},
     "output_type": "execute_result"
    }
   ],
   "source": [
    "match_agg = delivery.groupby(['match_id'])['total_runs'].sum().reset_index()\n",
    "season_wise = match_agg.merge(match, left_on='match_id', right_on='id')[['match_id', 'total_runs', 'season']]\n",
    "season_wise"
   ]
  },
  {
   "cell_type": "code",
   "execution_count": 144,
   "id": "5786365a",
   "metadata": {},
   "outputs": [
    {
     "data": {
      "application/vnd.plotly.v1+json": {
       "config": {
        "plotlyServerURL": "https://plot.ly"
       },
       "data": [
        {
         "marker": {
          "color": "#00a65a"
         },
         "name": "All Seasons",
         "type": "box",
         "x": {
          "bdata": "ewFzAW8BRwErARMBZgEqATkBPQFVAR8BVwFHAUUBYQEnAVEBOQGVAW8BjQF3AQ4BYwFeAbQAPQFuAQ0BQQGEAf0AQwGHAHIBRwFIAXYBOQGmAQEBHAEWAT0BfQEWAUABiAHFAUkBOAFRAZcAOAEwAbAA2gABATABvwEFAUsB3gBOAR0BmgGvASoBEQErATUBQAFXARMBdAFLAVsBVQFQAVsBJwHbAP0AJAHPAHcB/QAZAfgAWAGBATsBHwHzADoBkQF4AYcA1ABJAUsBzAA4ASkBeQHuAGEBYwGcATUBXQEjAScBFwHkAEcBNwG/AKIAzQAKAe0AWAFxAU0BVQFEASsB+wBOARoBIgEaAesAKgEiAR8BGgEbATQBMwErARYBWAE3AQ8B1ABnAeoAUQEZASoB+AAXAV0B8QBOAQUBIAHzACoBRgELAR4BeQENAcsA0ABLAUgBMwEnARgBNwGkASABDwFdARsBlwERAVIBuQB3AU4BLgEyAUwBIwE3ATIBTwFpASsBRwFdAVEBLwE6AUcBQwE1AVIBbQHVASUBlAFLATwBMgE2AVwBcgE4ARUBQgHfADcBIQFHARoBBgHhAGABRQEJAYMBFwEMAU0B9gCoADoBMAEWAUMBwgDhAD0BLwEbAX0BKwE9AT8BbgFZAUsBeQGmAAoBQAHyAAIBVgFAAVoBsQEzAdwAAwFBAR4BywAXAb0AUAEUAe8AHwE3AScBGQE+ASgBKwEnAWIBRQGvAEQB/QDvAEkBEQH6ACkBTgFnAcIABAE3AcMAEgFhASUB7QALAToBOAABAWEBYAEnAUcBYAHjAMUA5gBfASYBOAEyATYBGAEgAd0AbwGdAecADAE/ATcBCgFLAbkAiQFwAfsAfAE7AUkBJQFsAUcB/QBMASYBUwFQAXkBMQFNAS8ByQAXAWcBHQFBAe8ANgElATcBWwFuATMB+wA7ARsB/QA3AVEB5QAnAYABWAE+ARQB+ADzAJkB/gAeAe4A/wBFATIBUAFmAX4BAQE2AeYARQEfAccAJwENAXYBFQE4ASUB5QBFAUsBOAH6ACYBNgFKAeMADwH8APoA8wDwAEYBcwFzAYwBTwFBAT8BKwEiAUoBggE5AVgBWAEjAQMBEQFlAWUBCQGhAF4B2gBoAUMBNQETAXEBJAECAWoB5AAOAecAHQHxAGoBTQEvAT4BgAH5ADwBMgG8AAYBUAELAU4BEQEdASMBmwEMAecATQGAAQUBOgERASoBbAEbAY0A8QD7ACMB+wBGAUkBBgFSATQBOQFKAWcBYwFBAaIB7ABsAbsAPQErAX0BPQEpAWQBoAEbAVQBGAEgAUsBSQFBATYBOwFoAXYBSwFWAToBQQHqAIABKgFdAawBjwFSASsBKgF1AWQBcgFQAVIBSQFOAU4BAgF0AUoBOgE5AZABJQGTARUBTwFXAQgBJgEfAcIAGAFJAcgACgHtAG4B4gBqAUEBbAEQASsBMQE6AYsBPQFvAUABrwEuAW0B7wC+AFEB2gAIAYUBvQDjAF0BIQEXAWsB9wDFAEMBmQF3AUcB4AAgASIBMQF/AR8BFwFVARABZQE+ASEBagFCAWEB1ABXAWABhwFZAXUBHQFAAXYBKwFBAUgB/wCCAWEBDQFCAV0BDgEwASgB+wBgAakAZwFMAXEBxQBLAfkAPwFZAVkBQAEVAT0BLgFFAZgB",
          "dtype": "i2"
         }
        }
       ],
       "layout": {
        "autosize": false,
        "height": 900,
        "template": {
         "data": {
          "bar": [
           {
            "error_x": {
             "color": "#2a3f5f"
            },
            "error_y": {
             "color": "#2a3f5f"
            },
            "marker": {
             "line": {
              "color": "#E5ECF6",
              "width": 0.5
             },
             "pattern": {
              "fillmode": "overlay",
              "size": 10,
              "solidity": 0.2
             }
            },
            "type": "bar"
           }
          ],
          "barpolar": [
           {
            "marker": {
             "line": {
              "color": "#E5ECF6",
              "width": 0.5
             },
             "pattern": {
              "fillmode": "overlay",
              "size": 10,
              "solidity": 0.2
             }
            },
            "type": "barpolar"
           }
          ],
          "carpet": [
           {
            "aaxis": {
             "endlinecolor": "#2a3f5f",
             "gridcolor": "white",
             "linecolor": "white",
             "minorgridcolor": "white",
             "startlinecolor": "#2a3f5f"
            },
            "baxis": {
             "endlinecolor": "#2a3f5f",
             "gridcolor": "white",
             "linecolor": "white",
             "minorgridcolor": "white",
             "startlinecolor": "#2a3f5f"
            },
            "type": "carpet"
           }
          ],
          "choropleth": [
           {
            "colorbar": {
             "outlinewidth": 0,
             "ticks": ""
            },
            "type": "choropleth"
           }
          ],
          "contour": [
           {
            "colorbar": {
             "outlinewidth": 0,
             "ticks": ""
            },
            "colorscale": [
             [
              0,
              "#0d0887"
             ],
             [
              0.1111111111111111,
              "#46039f"
             ],
             [
              0.2222222222222222,
              "#7201a8"
             ],
             [
              0.3333333333333333,
              "#9c179e"
             ],
             [
              0.4444444444444444,
              "#bd3786"
             ],
             [
              0.5555555555555556,
              "#d8576b"
             ],
             [
              0.6666666666666666,
              "#ed7953"
             ],
             [
              0.7777777777777778,
              "#fb9f3a"
             ],
             [
              0.8888888888888888,
              "#fdca26"
             ],
             [
              1,
              "#f0f921"
             ]
            ],
            "type": "contour"
           }
          ],
          "contourcarpet": [
           {
            "colorbar": {
             "outlinewidth": 0,
             "ticks": ""
            },
            "type": "contourcarpet"
           }
          ],
          "heatmap": [
           {
            "colorbar": {
             "outlinewidth": 0,
             "ticks": ""
            },
            "colorscale": [
             [
              0,
              "#0d0887"
             ],
             [
              0.1111111111111111,
              "#46039f"
             ],
             [
              0.2222222222222222,
              "#7201a8"
             ],
             [
              0.3333333333333333,
              "#9c179e"
             ],
             [
              0.4444444444444444,
              "#bd3786"
             ],
             [
              0.5555555555555556,
              "#d8576b"
             ],
             [
              0.6666666666666666,
              "#ed7953"
             ],
             [
              0.7777777777777778,
              "#fb9f3a"
             ],
             [
              0.8888888888888888,
              "#fdca26"
             ],
             [
              1,
              "#f0f921"
             ]
            ],
            "type": "heatmap"
           }
          ],
          "histogram": [
           {
            "marker": {
             "pattern": {
              "fillmode": "overlay",
              "size": 10,
              "solidity": 0.2
             }
            },
            "type": "histogram"
           }
          ],
          "histogram2d": [
           {
            "colorbar": {
             "outlinewidth": 0,
             "ticks": ""
            },
            "colorscale": [
             [
              0,
              "#0d0887"
             ],
             [
              0.1111111111111111,
              "#46039f"
             ],
             [
              0.2222222222222222,
              "#7201a8"
             ],
             [
              0.3333333333333333,
              "#9c179e"
             ],
             [
              0.4444444444444444,
              "#bd3786"
             ],
             [
              0.5555555555555556,
              "#d8576b"
             ],
             [
              0.6666666666666666,
              "#ed7953"
             ],
             [
              0.7777777777777778,
              "#fb9f3a"
             ],
             [
              0.8888888888888888,
              "#fdca26"
             ],
             [
              1,
              "#f0f921"
             ]
            ],
            "type": "histogram2d"
           }
          ],
          "histogram2dcontour": [
           {
            "colorbar": {
             "outlinewidth": 0,
             "ticks": ""
            },
            "colorscale": [
             [
              0,
              "#0d0887"
             ],
             [
              0.1111111111111111,
              "#46039f"
             ],
             [
              0.2222222222222222,
              "#7201a8"
             ],
             [
              0.3333333333333333,
              "#9c179e"
             ],
             [
              0.4444444444444444,
              "#bd3786"
             ],
             [
              0.5555555555555556,
              "#d8576b"
             ],
             [
              0.6666666666666666,
              "#ed7953"
             ],
             [
              0.7777777777777778,
              "#fb9f3a"
             ],
             [
              0.8888888888888888,
              "#fdca26"
             ],
             [
              1,
              "#f0f921"
             ]
            ],
            "type": "histogram2dcontour"
           }
          ],
          "mesh3d": [
           {
            "colorbar": {
             "outlinewidth": 0,
             "ticks": ""
            },
            "type": "mesh3d"
           }
          ],
          "parcoords": [
           {
            "line": {
             "colorbar": {
              "outlinewidth": 0,
              "ticks": ""
             }
            },
            "type": "parcoords"
           }
          ],
          "pie": [
           {
            "automargin": true,
            "type": "pie"
           }
          ],
          "scatter": [
           {
            "fillpattern": {
             "fillmode": "overlay",
             "size": 10,
             "solidity": 0.2
            },
            "type": "scatter"
           }
          ],
          "scatter3d": [
           {
            "line": {
             "colorbar": {
              "outlinewidth": 0,
              "ticks": ""
             }
            },
            "marker": {
             "colorbar": {
              "outlinewidth": 0,
              "ticks": ""
             }
            },
            "type": "scatter3d"
           }
          ],
          "scattercarpet": [
           {
            "marker": {
             "colorbar": {
              "outlinewidth": 0,
              "ticks": ""
             }
            },
            "type": "scattercarpet"
           }
          ],
          "scattergeo": [
           {
            "marker": {
             "colorbar": {
              "outlinewidth": 0,
              "ticks": ""
             }
            },
            "type": "scattergeo"
           }
          ],
          "scattergl": [
           {
            "marker": {
             "colorbar": {
              "outlinewidth": 0,
              "ticks": ""
             }
            },
            "type": "scattergl"
           }
          ],
          "scattermap": [
           {
            "marker": {
             "colorbar": {
              "outlinewidth": 0,
              "ticks": ""
             }
            },
            "type": "scattermap"
           }
          ],
          "scattermapbox": [
           {
            "marker": {
             "colorbar": {
              "outlinewidth": 0,
              "ticks": ""
             }
            },
            "type": "scattermapbox"
           }
          ],
          "scatterpolar": [
           {
            "marker": {
             "colorbar": {
              "outlinewidth": 0,
              "ticks": ""
             }
            },
            "type": "scatterpolar"
           }
          ],
          "scatterpolargl": [
           {
            "marker": {
             "colorbar": {
              "outlinewidth": 0,
              "ticks": ""
             }
            },
            "type": "scatterpolargl"
           }
          ],
          "scatterternary": [
           {
            "marker": {
             "colorbar": {
              "outlinewidth": 0,
              "ticks": ""
             }
            },
            "type": "scatterternary"
           }
          ],
          "surface": [
           {
            "colorbar": {
             "outlinewidth": 0,
             "ticks": ""
            },
            "colorscale": [
             [
              0,
              "#0d0887"
             ],
             [
              0.1111111111111111,
              "#46039f"
             ],
             [
              0.2222222222222222,
              "#7201a8"
             ],
             [
              0.3333333333333333,
              "#9c179e"
             ],
             [
              0.4444444444444444,
              "#bd3786"
             ],
             [
              0.5555555555555556,
              "#d8576b"
             ],
             [
              0.6666666666666666,
              "#ed7953"
             ],
             [
              0.7777777777777778,
              "#fb9f3a"
             ],
             [
              0.8888888888888888,
              "#fdca26"
             ],
             [
              1,
              "#f0f921"
             ]
            ],
            "type": "surface"
           }
          ],
          "table": [
           {
            "cells": {
             "fill": {
              "color": "#EBF0F8"
             },
             "line": {
              "color": "white"
             }
            },
            "header": {
             "fill": {
              "color": "#C8D4E3"
             },
             "line": {
              "color": "white"
             }
            },
            "type": "table"
           }
          ]
         },
         "layout": {
          "annotationdefaults": {
           "arrowcolor": "#2a3f5f",
           "arrowhead": 0,
           "arrowwidth": 1
          },
          "autotypenumbers": "strict",
          "coloraxis": {
           "colorbar": {
            "outlinewidth": 0,
            "ticks": ""
           }
          },
          "colorscale": {
           "diverging": [
            [
             0,
             "#8e0152"
            ],
            [
             0.1,
             "#c51b7d"
            ],
            [
             0.2,
             "#de77ae"
            ],
            [
             0.3,
             "#f1b6da"
            ],
            [
             0.4,
             "#fde0ef"
            ],
            [
             0.5,
             "#f7f7f7"
            ],
            [
             0.6,
             "#e6f5d0"
            ],
            [
             0.7,
             "#b8e186"
            ],
            [
             0.8,
             "#7fbc41"
            ],
            [
             0.9,
             "#4d9221"
            ],
            [
             1,
             "#276419"
            ]
           ],
           "sequential": [
            [
             0,
             "#0d0887"
            ],
            [
             0.1111111111111111,
             "#46039f"
            ],
            [
             0.2222222222222222,
             "#7201a8"
            ],
            [
             0.3333333333333333,
             "#9c179e"
            ],
            [
             0.4444444444444444,
             "#bd3786"
            ],
            [
             0.5555555555555556,
             "#d8576b"
            ],
            [
             0.6666666666666666,
             "#ed7953"
            ],
            [
             0.7777777777777778,
             "#fb9f3a"
            ],
            [
             0.8888888888888888,
             "#fdca26"
            ],
            [
             1,
             "#f0f921"
            ]
           ],
           "sequentialminus": [
            [
             0,
             "#0d0887"
            ],
            [
             0.1111111111111111,
             "#46039f"
            ],
            [
             0.2222222222222222,
             "#7201a8"
            ],
            [
             0.3333333333333333,
             "#9c179e"
            ],
            [
             0.4444444444444444,
             "#bd3786"
            ],
            [
             0.5555555555555556,
             "#d8576b"
            ],
            [
             0.6666666666666666,
             "#ed7953"
            ],
            [
             0.7777777777777778,
             "#fb9f3a"
            ],
            [
             0.8888888888888888,
             "#fdca26"
            ],
            [
             1,
             "#f0f921"
            ]
           ]
          },
          "colorway": [
           "#636efa",
           "#EF553B",
           "#00cc96",
           "#ab63fa",
           "#FFA15A",
           "#19d3f3",
           "#FF6692",
           "#B6E880",
           "#FF97FF",
           "#FECB52"
          ],
          "font": {
           "color": "#2a3f5f"
          },
          "geo": {
           "bgcolor": "white",
           "lakecolor": "white",
           "landcolor": "#E5ECF6",
           "showlakes": true,
           "showland": true,
           "subunitcolor": "white"
          },
          "hoverlabel": {
           "align": "left"
          },
          "hovermode": "closest",
          "mapbox": {
           "style": "light"
          },
          "paper_bgcolor": "white",
          "plot_bgcolor": "#E5ECF6",
          "polar": {
           "angularaxis": {
            "gridcolor": "white",
            "linecolor": "white",
            "ticks": ""
           },
           "bgcolor": "#E5ECF6",
           "radialaxis": {
            "gridcolor": "white",
            "linecolor": "white",
            "ticks": ""
           }
          },
          "scene": {
           "xaxis": {
            "backgroundcolor": "#E5ECF6",
            "gridcolor": "white",
            "gridwidth": 2,
            "linecolor": "white",
            "showbackground": true,
            "ticks": "",
            "zerolinecolor": "white"
           },
           "yaxis": {
            "backgroundcolor": "#E5ECF6",
            "gridcolor": "white",
            "gridwidth": 2,
            "linecolor": "white",
            "showbackground": true,
            "ticks": "",
            "zerolinecolor": "white"
           },
           "zaxis": {
            "backgroundcolor": "#E5ECF6",
            "gridcolor": "white",
            "gridwidth": 2,
            "linecolor": "white",
            "showbackground": true,
            "ticks": "",
            "zerolinecolor": "white"
           }
          },
          "shapedefaults": {
           "line": {
            "color": "#2a3f5f"
           }
          },
          "ternary": {
           "aaxis": {
            "gridcolor": "white",
            "linecolor": "white",
            "ticks": ""
           },
           "baxis": {
            "gridcolor": "white",
            "linecolor": "white",
            "ticks": ""
           },
           "bgcolor": "#E5ECF6",
           "caxis": {
            "gridcolor": "white",
            "linecolor": "white",
            "ticks": ""
           }
          },
          "title": {
           "x": 0.05
          },
          "xaxis": {
           "automargin": true,
           "gridcolor": "white",
           "linecolor": "white",
           "ticks": "",
           "title": {
            "standoff": 15
           },
           "zerolinecolor": "white",
           "zerolinewidth": 2
          },
          "yaxis": {
           "automargin": true,
           "gridcolor": "white",
           "linecolor": "white",
           "ticks": "",
           "title": {
            "standoff": 15
           },
           "zerolinecolor": "white",
           "zerolinewidth": 2
          }
         }
        },
        "title": {
         "text": "Total Score Analysis"
        },
        "width": 1700,
        "xaxis": {
         "title": {
          "text": "Total Score"
         }
        }
       }
      }
     },
     "metadata": {},
     "output_type": "display_data"
    }
   ],
   "source": [
    "trace=go.Box(\n",
    "    x=season_wise['total_runs'],\n",
    "    name='All Seasons',\n",
    "    marker={\n",
    "        'color':'#00a65a'\n",
    "    }\n",
    ")\n",
    "\n",
    "data=[trace]\n",
    "\n",
    "layout = go.Layout(\n",
    "            title= 'Total Score Analysis',\n",
    "            xaxis={\n",
    "                'title': 'Total Score'\n",
    "            },\n",
    "            \n",
    "    )\n",
    "    \n",
    "fig = go.Figure(data, layout).update_layout(\n",
    "        autosize=False,  \n",
    "        width=1700,      \n",
    "        height=900,      \n",
    "    )\n",
    "\n",
    "fig.show()"
   ]
  },
  {
   "cell_type": "code",
   "execution_count": 145,
   "id": "c5907210",
   "metadata": {},
   "outputs": [
    {
     "data": {
      "application/vnd.plotly.v1+json": {
       "config": {
        "plotlyServerURL": "https://plot.ly"
       },
       "data": [
        {
         "marker": {
          "color": "#00a65a"
         },
         "name": "2017",
         "type": "box",
         "x": {
          "bdata": "ewFzAW8BRwErARMBZgEqATkBPQFVAR8BVwFHAUUBYQEnAVEBOQGVAW8BjQF3AQ4BYwFeAbQAPQFuAQ0BQQGEAf0AQwGHAHIBRwFIAXYBOQGmAQEBHAEWAT0BfQEWAUABiAHFAUkBOAFRAZcAOAEwAbAA2gABAQ==",
          "dtype": "i2"
         }
        },
        {
         "name": "2008",
         "type": "box",
         "x": {
          "bdata": "MAG/AQUBSwHeAE4BHQGaAa8BKgERASsBNQFAAVcBEwF0AUsBWwFVAVABWwEnAdsA/QAkAc8AdwH9ABkB+ABYAYEBOwEfAfMAOgGRAXgBhwDUAEkBSwHMADgBKQF5Ae4AYQFjAZwBNQFdASMBJwEXAeQARwE=",
          "dtype": "i2"
         }
        }
       ],
       "layout": {
        "autosize": false,
        "height": 900,
        "template": {
         "data": {
          "bar": [
           {
            "error_x": {
             "color": "#2a3f5f"
            },
            "error_y": {
             "color": "#2a3f5f"
            },
            "marker": {
             "line": {
              "color": "#E5ECF6",
              "width": 0.5
             },
             "pattern": {
              "fillmode": "overlay",
              "size": 10,
              "solidity": 0.2
             }
            },
            "type": "bar"
           }
          ],
          "barpolar": [
           {
            "marker": {
             "line": {
              "color": "#E5ECF6",
              "width": 0.5
             },
             "pattern": {
              "fillmode": "overlay",
              "size": 10,
              "solidity": 0.2
             }
            },
            "type": "barpolar"
           }
          ],
          "carpet": [
           {
            "aaxis": {
             "endlinecolor": "#2a3f5f",
             "gridcolor": "white",
             "linecolor": "white",
             "minorgridcolor": "white",
             "startlinecolor": "#2a3f5f"
            },
            "baxis": {
             "endlinecolor": "#2a3f5f",
             "gridcolor": "white",
             "linecolor": "white",
             "minorgridcolor": "white",
             "startlinecolor": "#2a3f5f"
            },
            "type": "carpet"
           }
          ],
          "choropleth": [
           {
            "colorbar": {
             "outlinewidth": 0,
             "ticks": ""
            },
            "type": "choropleth"
           }
          ],
          "contour": [
           {
            "colorbar": {
             "outlinewidth": 0,
             "ticks": ""
            },
            "colorscale": [
             [
              0,
              "#0d0887"
             ],
             [
              0.1111111111111111,
              "#46039f"
             ],
             [
              0.2222222222222222,
              "#7201a8"
             ],
             [
              0.3333333333333333,
              "#9c179e"
             ],
             [
              0.4444444444444444,
              "#bd3786"
             ],
             [
              0.5555555555555556,
              "#d8576b"
             ],
             [
              0.6666666666666666,
              "#ed7953"
             ],
             [
              0.7777777777777778,
              "#fb9f3a"
             ],
             [
              0.8888888888888888,
              "#fdca26"
             ],
             [
              1,
              "#f0f921"
             ]
            ],
            "type": "contour"
           }
          ],
          "contourcarpet": [
           {
            "colorbar": {
             "outlinewidth": 0,
             "ticks": ""
            },
            "type": "contourcarpet"
           }
          ],
          "heatmap": [
           {
            "colorbar": {
             "outlinewidth": 0,
             "ticks": ""
            },
            "colorscale": [
             [
              0,
              "#0d0887"
             ],
             [
              0.1111111111111111,
              "#46039f"
             ],
             [
              0.2222222222222222,
              "#7201a8"
             ],
             [
              0.3333333333333333,
              "#9c179e"
             ],
             [
              0.4444444444444444,
              "#bd3786"
             ],
             [
              0.5555555555555556,
              "#d8576b"
             ],
             [
              0.6666666666666666,
              "#ed7953"
             ],
             [
              0.7777777777777778,
              "#fb9f3a"
             ],
             [
              0.8888888888888888,
              "#fdca26"
             ],
             [
              1,
              "#f0f921"
             ]
            ],
            "type": "heatmap"
           }
          ],
          "histogram": [
           {
            "marker": {
             "pattern": {
              "fillmode": "overlay",
              "size": 10,
              "solidity": 0.2
             }
            },
            "type": "histogram"
           }
          ],
          "histogram2d": [
           {
            "colorbar": {
             "outlinewidth": 0,
             "ticks": ""
            },
            "colorscale": [
             [
              0,
              "#0d0887"
             ],
             [
              0.1111111111111111,
              "#46039f"
             ],
             [
              0.2222222222222222,
              "#7201a8"
             ],
             [
              0.3333333333333333,
              "#9c179e"
             ],
             [
              0.4444444444444444,
              "#bd3786"
             ],
             [
              0.5555555555555556,
              "#d8576b"
             ],
             [
              0.6666666666666666,
              "#ed7953"
             ],
             [
              0.7777777777777778,
              "#fb9f3a"
             ],
             [
              0.8888888888888888,
              "#fdca26"
             ],
             [
              1,
              "#f0f921"
             ]
            ],
            "type": "histogram2d"
           }
          ],
          "histogram2dcontour": [
           {
            "colorbar": {
             "outlinewidth": 0,
             "ticks": ""
            },
            "colorscale": [
             [
              0,
              "#0d0887"
             ],
             [
              0.1111111111111111,
              "#46039f"
             ],
             [
              0.2222222222222222,
              "#7201a8"
             ],
             [
              0.3333333333333333,
              "#9c179e"
             ],
             [
              0.4444444444444444,
              "#bd3786"
             ],
             [
              0.5555555555555556,
              "#d8576b"
             ],
             [
              0.6666666666666666,
              "#ed7953"
             ],
             [
              0.7777777777777778,
              "#fb9f3a"
             ],
             [
              0.8888888888888888,
              "#fdca26"
             ],
             [
              1,
              "#f0f921"
             ]
            ],
            "type": "histogram2dcontour"
           }
          ],
          "mesh3d": [
           {
            "colorbar": {
             "outlinewidth": 0,
             "ticks": ""
            },
            "type": "mesh3d"
           }
          ],
          "parcoords": [
           {
            "line": {
             "colorbar": {
              "outlinewidth": 0,
              "ticks": ""
             }
            },
            "type": "parcoords"
           }
          ],
          "pie": [
           {
            "automargin": true,
            "type": "pie"
           }
          ],
          "scatter": [
           {
            "fillpattern": {
             "fillmode": "overlay",
             "size": 10,
             "solidity": 0.2
            },
            "type": "scatter"
           }
          ],
          "scatter3d": [
           {
            "line": {
             "colorbar": {
              "outlinewidth": 0,
              "ticks": ""
             }
            },
            "marker": {
             "colorbar": {
              "outlinewidth": 0,
              "ticks": ""
             }
            },
            "type": "scatter3d"
           }
          ],
          "scattercarpet": [
           {
            "marker": {
             "colorbar": {
              "outlinewidth": 0,
              "ticks": ""
             }
            },
            "type": "scattercarpet"
           }
          ],
          "scattergeo": [
           {
            "marker": {
             "colorbar": {
              "outlinewidth": 0,
              "ticks": ""
             }
            },
            "type": "scattergeo"
           }
          ],
          "scattergl": [
           {
            "marker": {
             "colorbar": {
              "outlinewidth": 0,
              "ticks": ""
             }
            },
            "type": "scattergl"
           }
          ],
          "scattermap": [
           {
            "marker": {
             "colorbar": {
              "outlinewidth": 0,
              "ticks": ""
             }
            },
            "type": "scattermap"
           }
          ],
          "scattermapbox": [
           {
            "marker": {
             "colorbar": {
              "outlinewidth": 0,
              "ticks": ""
             }
            },
            "type": "scattermapbox"
           }
          ],
          "scatterpolar": [
           {
            "marker": {
             "colorbar": {
              "outlinewidth": 0,
              "ticks": ""
             }
            },
            "type": "scatterpolar"
           }
          ],
          "scatterpolargl": [
           {
            "marker": {
             "colorbar": {
              "outlinewidth": 0,
              "ticks": ""
             }
            },
            "type": "scatterpolargl"
           }
          ],
          "scatterternary": [
           {
            "marker": {
             "colorbar": {
              "outlinewidth": 0,
              "ticks": ""
             }
            },
            "type": "scatterternary"
           }
          ],
          "surface": [
           {
            "colorbar": {
             "outlinewidth": 0,
             "ticks": ""
            },
            "colorscale": [
             [
              0,
              "#0d0887"
             ],
             [
              0.1111111111111111,
              "#46039f"
             ],
             [
              0.2222222222222222,
              "#7201a8"
             ],
             [
              0.3333333333333333,
              "#9c179e"
             ],
             [
              0.4444444444444444,
              "#bd3786"
             ],
             [
              0.5555555555555556,
              "#d8576b"
             ],
             [
              0.6666666666666666,
              "#ed7953"
             ],
             [
              0.7777777777777778,
              "#fb9f3a"
             ],
             [
              0.8888888888888888,
              "#fdca26"
             ],
             [
              1,
              "#f0f921"
             ]
            ],
            "type": "surface"
           }
          ],
          "table": [
           {
            "cells": {
             "fill": {
              "color": "#EBF0F8"
             },
             "line": {
              "color": "white"
             }
            },
            "header": {
             "fill": {
              "color": "#C8D4E3"
             },
             "line": {
              "color": "white"
             }
            },
            "type": "table"
           }
          ]
         },
         "layout": {
          "annotationdefaults": {
           "arrowcolor": "#2a3f5f",
           "arrowhead": 0,
           "arrowwidth": 1
          },
          "autotypenumbers": "strict",
          "coloraxis": {
           "colorbar": {
            "outlinewidth": 0,
            "ticks": ""
           }
          },
          "colorscale": {
           "diverging": [
            [
             0,
             "#8e0152"
            ],
            [
             0.1,
             "#c51b7d"
            ],
            [
             0.2,
             "#de77ae"
            ],
            [
             0.3,
             "#f1b6da"
            ],
            [
             0.4,
             "#fde0ef"
            ],
            [
             0.5,
             "#f7f7f7"
            ],
            [
             0.6,
             "#e6f5d0"
            ],
            [
             0.7,
             "#b8e186"
            ],
            [
             0.8,
             "#7fbc41"
            ],
            [
             0.9,
             "#4d9221"
            ],
            [
             1,
             "#276419"
            ]
           ],
           "sequential": [
            [
             0,
             "#0d0887"
            ],
            [
             0.1111111111111111,
             "#46039f"
            ],
            [
             0.2222222222222222,
             "#7201a8"
            ],
            [
             0.3333333333333333,
             "#9c179e"
            ],
            [
             0.4444444444444444,
             "#bd3786"
            ],
            [
             0.5555555555555556,
             "#d8576b"
            ],
            [
             0.6666666666666666,
             "#ed7953"
            ],
            [
             0.7777777777777778,
             "#fb9f3a"
            ],
            [
             0.8888888888888888,
             "#fdca26"
            ],
            [
             1,
             "#f0f921"
            ]
           ],
           "sequentialminus": [
            [
             0,
             "#0d0887"
            ],
            [
             0.1111111111111111,
             "#46039f"
            ],
            [
             0.2222222222222222,
             "#7201a8"
            ],
            [
             0.3333333333333333,
             "#9c179e"
            ],
            [
             0.4444444444444444,
             "#bd3786"
            ],
            [
             0.5555555555555556,
             "#d8576b"
            ],
            [
             0.6666666666666666,
             "#ed7953"
            ],
            [
             0.7777777777777778,
             "#fb9f3a"
            ],
            [
             0.8888888888888888,
             "#fdca26"
            ],
            [
             1,
             "#f0f921"
            ]
           ]
          },
          "colorway": [
           "#636efa",
           "#EF553B",
           "#00cc96",
           "#ab63fa",
           "#FFA15A",
           "#19d3f3",
           "#FF6692",
           "#B6E880",
           "#FF97FF",
           "#FECB52"
          ],
          "font": {
           "color": "#2a3f5f"
          },
          "geo": {
           "bgcolor": "white",
           "lakecolor": "white",
           "landcolor": "#E5ECF6",
           "showlakes": true,
           "showland": true,
           "subunitcolor": "white"
          },
          "hoverlabel": {
           "align": "left"
          },
          "hovermode": "closest",
          "mapbox": {
           "style": "light"
          },
          "paper_bgcolor": "white",
          "plot_bgcolor": "#E5ECF6",
          "polar": {
           "angularaxis": {
            "gridcolor": "white",
            "linecolor": "white",
            "ticks": ""
           },
           "bgcolor": "#E5ECF6",
           "radialaxis": {
            "gridcolor": "white",
            "linecolor": "white",
            "ticks": ""
           }
          },
          "scene": {
           "xaxis": {
            "backgroundcolor": "#E5ECF6",
            "gridcolor": "white",
            "gridwidth": 2,
            "linecolor": "white",
            "showbackground": true,
            "ticks": "",
            "zerolinecolor": "white"
           },
           "yaxis": {
            "backgroundcolor": "#E5ECF6",
            "gridcolor": "white",
            "gridwidth": 2,
            "linecolor": "white",
            "showbackground": true,
            "ticks": "",
            "zerolinecolor": "white"
           },
           "zaxis": {
            "backgroundcolor": "#E5ECF6",
            "gridcolor": "white",
            "gridwidth": 2,
            "linecolor": "white",
            "showbackground": true,
            "ticks": "",
            "zerolinecolor": "white"
           }
          },
          "shapedefaults": {
           "line": {
            "color": "#2a3f5f"
           }
          },
          "ternary": {
           "aaxis": {
            "gridcolor": "white",
            "linecolor": "white",
            "ticks": ""
           },
           "baxis": {
            "gridcolor": "white",
            "linecolor": "white",
            "ticks": ""
           },
           "bgcolor": "#E5ECF6",
           "caxis": {
            "gridcolor": "white",
            "linecolor": "white",
            "ticks": ""
           }
          },
          "title": {
           "x": 0.05
          },
          "xaxis": {
           "automargin": true,
           "gridcolor": "white",
           "linecolor": "white",
           "ticks": "",
           "title": {
            "standoff": 15
           },
           "zerolinecolor": "white",
           "zerolinewidth": 2
          },
          "yaxis": {
           "automargin": true,
           "gridcolor": "white",
           "linecolor": "white",
           "ticks": "",
           "title": {
            "standoff": 15
           },
           "zerolinecolor": "white",
           "zerolinewidth": 2
          }
         }
        },
        "title": {
         "text": "Total Score Analysis"
        },
        "width": 1700,
        "xaxis": {
         "title": {
          "text": "Total Score"
         }
        }
       }
      }
     },
     "metadata": {},
     "output_type": "display_data"
    }
   ],
   "source": [
    "trace1=go.Box(\n",
    "    x=season_wise[season_wise['season'] == 2017]['total_runs'],\n",
    "    name='2017',\n",
    "    marker={\n",
    "        'color':'#00a65a'\n",
    "    }\n",
    ")\n",
    "\n",
    "trace2=go.Box(\n",
    "    x=season_wise[season_wise['season'] == 2008]['total_runs'],\n",
    "    name='2008',\n",
    "    \n",
    ")\n",
    "\n",
    "data=[trace1, trace2]\n",
    "\n",
    "layout = go.Layout(\n",
    "            title= 'Total Score Analysis',\n",
    "            xaxis={\n",
    "                'title': 'Total Score'\n",
    "            },\n",
    "            \n",
    "    )\n",
    "    \n",
    "fig = go.Figure(data, layout).update_layout(\n",
    "        autosize=False,  \n",
    "        width=1700,      \n",
    "        height=900,      \n",
    "    )\n",
    "\n",
    "fig.show()"
   ]
  },
  {
   "cell_type": "markdown",
   "id": "a571ce6d",
   "metadata": {},
   "source": [
    "## Distplot"
   ]
  },
  {
   "cell_type": "code",
   "execution_count": 152,
   "id": "0ccbd416",
   "metadata": {},
   "outputs": [
    {
     "data": {
      "application/vnd.plotly.v1+json": {
       "config": {
        "plotlyServerURL": "https://plot.ly"
       },
       "data": [
        {
         "autobinx": false,
         "histnorm": "probability density",
         "legendgroup": "Average",
         "marker": {
          "color": "rgb(31, 119, 180)"
         },
         "name": "Average",
         "opacity": 0.7,
         "type": "histogram",
         "x": {
          "bdata": "dmIndmInQ0CU11BeQzk7QCuChpO6LztAv/RLv/TLQECykpWsZCU7QKfg5RS8HDxAq6qqqqqqQEBwgQtc4IJEQN7d3d3dXUFAUrgehesRREDylCBPCfI2QD801ofG+jpAAAAAAABAPEBJkiRJkmQ8QEfcEXfEHT5Ah2nugr+KP0AFL6fg5RQ5QI6NjY2NjTxArkfhehTuQ0C1K1G7ErU8QEMv9EIv9DlA/tzP/dzPOEBDFrKQhSw5QOiWOPV7bjpA4uHh4eFhQ0AAAAAAAIA8QNu2bdu2bT1AtFHf2ajvQkDJZ91givw0QL1T13JwszVAYO+YGtg7PEDkOI7jOA44QDTmjDljTkBAAAAAAACEPUC/s1Hf2ag+QFydkYq5VUBA1QTjrexzOUAQBEEQBMFDQNIDlbNb+EBATm9605ueQkDf9KY3velAQOvq6urq6j5AsAVbsAVbPEBu27Zt23Y5QPQFfUFf0DpAWxE0nNS9QkDkOI7jOI47QNLmfYpLhjlANNaHxvrQPUCGb0SBSac5QA==",
          "dtype": "f8"
         },
         "xaxis": "x",
         "xbins": {
          "end": 41.02247191011236,
          "size": 3,
          "start": 20.986486486486488
         },
         "yaxis": "y"
        },
        {
         "autobinx": false,
         "histnorm": "probability density",
         "legendgroup": "Strike Rate",
         "marker": {
          "color": "rgb(255, 127, 14)"
         },
         "name": "Strike Rate",
         "opacity": 0.7,
         "type": "histogram",
         "x": {
          "bdata": "xg+WQCEkYkDxfVHLv6FgQGUymUwmk19AeTidnSNfXUCRPpiU6cBeQM7Ur25dlF9ASTUQNwhbXkAeHXjPNwZiQIGaXS+yNmFAvmGCVzBKYUC0JW1JW5JeQK/BO3umBF5AyOeHzKCyXUD5eITx8YhgQNQxlwhPCl9A5O8X5x0XXkAhDdIgDbJjQLJ68uLre1pAm4MctR5+XkDbpCFq4ZNhQAIXuMAFnl1AqPvy2IrAXkBmL9Q+nClfQKibhufVAV5ANd3Bfqv9XUCKXgqfDzxdQJ3SP7YniFxAoXJ2C7+aYECyHH4jy6FcQMfQdAf7LVxATuFMIDlWXEBSb/tUvrJdQCTsEnvpD2BAinzWDaboX0AJuPXZjO9cQHIUUOQooF1AtALvswJvWUBlo1NHg0NgQGOPuYbb32BA2MnxYToQYEDAgAEDBoxcQIp/ef/T2mBAqXmQu362XECOzqTa0ZleQBBLu07yh1tAu30C9ailX0DTcWlFd5piQLy/5b6R7l9AcQSR1guYYUAZnI/B+ZhfQA==",
          "dtype": "f8"
         },
         "xaxis": "x",
         "xbins": {
          "end": 157.56410256410257,
          "size": 5,
          "start": 101.73453996983409
         },
         "yaxis": "y"
        },
        {
         "legendgroup": "Average",
         "marker": {
          "color": "rgb(31, 119, 180)"
         },
         "mode": "lines",
         "name": "Average",
         "showlegend": false,
         "type": "scatter",
         "x": [
          20.986486486486488,
          21.02655845733374,
          21.066630428180993,
          21.106702399028244,
          21.146774369875494,
          21.186846340722745,
          21.22691831157,
          21.26699028241725,
          21.3070622532645,
          21.347134224111752,
          21.387206194959006,
          21.427278165806257,
          21.467350136653508,
          21.507422107500762,
          21.547494078348013,
          21.587566049195264,
          21.627638020042514,
          21.66770999088977,
          21.70778196173702,
          21.74785393258427,
          21.78792590343152,
          21.827997874278775,
          21.868069845126026,
          21.908141815973277,
          21.948213786820528,
          21.988285757667782,
          22.028357728515033,
          22.068429699362284,
          22.108501670209538,
          22.14857364105679,
          22.18864561190404,
          22.22871758275129,
          22.268789553598545,
          22.308861524445796,
          22.348933495293046,
          22.389005466140297,
          22.42907743698755,
          22.469149407834802,
          22.509221378682053,
          22.549293349529307,
          22.589365320376558,
          22.62943729122381,
          22.66950926207106,
          22.709581232918314,
          22.749653203765565,
          22.789725174612816,
          22.829797145460066,
          22.86986911630732,
          22.90994108715457,
          22.950013058001822,
          22.990085028849073,
          23.030156999696327,
          23.070228970543578,
          23.11030094139083,
          23.150372912238083,
          23.190444883085334,
          23.230516853932585,
          23.270588824779836,
          23.31066079562709,
          23.35073276647434,
          23.39080473732159,
          23.430876708168846,
          23.470948679016097,
          23.511020649863347,
          23.551092620710598,
          23.59116459155785,
          23.631236562405103,
          23.671308533252354,
          23.711380504099605,
          23.75145247494686,
          23.79152444579411,
          23.83159641664136,
          23.87166838748861,
          23.911740358335866,
          23.951812329183117,
          23.991884300030367,
          24.03195627087762,
          24.072028241724873,
          24.112100212572123,
          24.152172183419374,
          24.19224415426663,
          24.23231612511388,
          24.27238809596113,
          24.31246006680838,
          24.352532037655635,
          24.392604008502886,
          24.432675979350137,
          24.472747950197387,
          24.512819921044642,
          24.552891891891893,
          24.592963862739143,
          24.633035833586398,
          24.67310780443365,
          24.7131797752809,
          24.75325174612815,
          24.793323716975404,
          24.833395687822655,
          24.873467658669906,
          24.913539629517157,
          24.95361160036441,
          24.993683571211662,
          25.033755542058913,
          25.073827512906163,
          25.113899483753418,
          25.15397145460067,
          25.194043425447923,
          25.234115396295174,
          25.274187367142424,
          25.314259337989675,
          25.354331308836926,
          25.39440327968418,
          25.43447525053143,
          25.474547221378682,
          25.514619192225936,
          25.554691163073187,
          25.594763133920438,
          25.63483510476769,
          25.67490707561494,
          25.714979046462194,
          25.755051017309444,
          25.7951229881567,
          25.83519495900395,
          25.8752669298512,
          25.91533890069845,
          25.955410871545702,
          25.995482842392956,
          26.035554813240207,
          26.075626784087458,
          26.115698754934712,
          26.155770725781963,
          26.195842696629214,
          26.235914667476465,
          26.27598663832372,
          26.31605860917097,
          26.35613058001822,
          26.396202550865475,
          26.436274521712726,
          26.476346492559976,
          26.516418463407227,
          26.556490434254478,
          26.596562405101732,
          26.636634375948983,
          26.676706346796237,
          26.716778317643488,
          26.75685028849074,
          26.79692225933799,
          26.83699423018524,
          26.87706620103249,
          26.917138171879746,
          26.957210142726996,
          26.99728211357425,
          27.0373540844215,
          27.077426055268752,
          27.117498026116003,
          27.157569996963257,
          27.197641967810508,
          27.23771393865776,
          27.27778590950501,
          27.317857880352264,
          27.357929851199515,
          27.398001822046766,
          27.438073792894016,
          27.47814576374127,
          27.51821773458852,
          27.558289705435772,
          27.598361676283027,
          27.638433647130277,
          27.678505617977528,
          27.71857758882478,
          27.75864955967203,
          27.798721530519284,
          27.838793501366535,
          27.87886547221379,
          27.91893744306104,
          27.95900941390829,
          27.99908138475554,
          28.039153355602792,
          28.079225326450047,
          28.119297297297297,
          28.159369268144548,
          28.199441238991803,
          28.239513209839053,
          28.279585180686304,
          28.319657151533555,
          28.35972912238081,
          28.39980109322806,
          28.43987306407531,
          28.479945034922565,
          28.520017005769816,
          28.560088976617067,
          28.600160947464317,
          28.64023291831157,
          28.680304889158823,
          28.720376860006073,
          28.760448830853328,
          28.80052080170058,
          28.84059277254783,
          28.88066474339508,
          28.92073671424233,
          28.960808685089585,
          29.000880655936836,
          29.040952626784087,
          29.08102459763134,
          29.121096568478592,
          29.161168539325843,
          29.201240510173093,
          29.241312481020348,
          29.2813844518676,
          29.321456422714853,
          29.361528393562104,
          29.401600364409354,
          29.441672335256605,
          29.481744306103856,
          29.521816276951107,
          29.561888247798358,
          29.601960218645612,
          29.642032189492863,
          29.682104160340117,
          29.722176131187368,
          29.76224810203462,
          29.80232007288187,
          29.84239204372912,
          29.882464014576374,
          29.922535985423625,
          29.96260795627088,
          30.00267992711813,
          30.04275189796538,
          30.082823868812632,
          30.122895839659883,
          30.162967810507137,
          30.20303978135439,
          30.243111752201642,
          30.283183723048893,
          30.323255693896144,
          30.363327664743395,
          30.403399635590645,
          30.443471606437896,
          30.48354357728515,
          30.5236155481324,
          30.563687518979656,
          30.603759489826906,
          30.643831460674157,
          30.683903431521408,
          30.72397540236866,
          30.764047373215913,
          30.804119344063164,
          30.844191314910418,
          30.88426328575767,
          30.92433525660492,
          30.96440722745217,
          31.00447919829942,
          31.044551169146676,
          31.084623139993926,
          31.12469511084118,
          31.16476708168843,
          31.204839052535682,
          31.244911023382933,
          31.284982994230184,
          31.325054965077435,
          31.36512693592469,
          31.40519890677194,
          31.44527087761919,
          31.485342848466445,
          31.525414819313696,
          31.565486790160946,
          31.605558761008197,
          31.64563073185545,
          31.685702702702702,
          31.725774673549957,
          31.765846644397207,
          31.805918615244458,
          31.84599058609171,
          31.88606255693896,
          31.926134527786214,
          31.966206498633465,
          32.00627846948072,
          32.04635044032797,
          32.08642241117522,
          32.12649438202247,
          32.16656635286972,
          32.20663832371697,
          32.246710294564224,
          32.286782265411475,
          32.326854236258725,
          32.36692620710598,
          32.406998177953234,
          32.447070148800485,
          32.487142119647736,
          32.527214090494994,
          32.567286061342244,
          32.607358032189495,
          32.647430003036746,
          32.687501973884,
          32.72757394473125,
          32.7676459155785,
          32.80771788642575,
          32.847789857273,
          32.88786182812026,
          32.92793379896751,
          32.96800576981476,
          33.00807774066201,
          33.04814971150926,
          33.08822168235651,
          33.12829365320376,
          33.16836562405102,
          33.20843759489827,
          33.24850956574552,
          33.28858153659277,
          33.32865350744002,
          33.368725478287274,
          33.408797449134525,
          33.448869419981776,
          33.48894139082903,
          33.529013361676284,
          33.569085332523535,
          33.609157303370786,
          33.64922927421804,
          33.68930124506529,
          33.729373215912545,
          33.769445186759796,
          33.80951715760705,
          33.8495891284543,
          33.88966109930155,
          33.9297330701488,
          33.96980504099605,
          34.0098770118433,
          34.04994898269055,
          34.0900209535378,
          34.13009292438506,
          34.17016489523231,
          34.21023686607956,
          34.25030883692681,
          34.29038080777406,
          34.33045277862132,
          34.37052474946857,
          34.41059672031582,
          34.450668691163074,
          34.490740662010325,
          34.530812632857575,
          34.570884603704826,
          34.61095657455208,
          34.651028545399335,
          34.691100516246586,
          34.731172487093836,
          34.77124445794109,
          34.81131642878834,
          34.85138839963559,
          34.89146037048284,
          34.9315323413301,
          34.97160431217735,
          35.0116762830246,
          35.05174825387185,
          35.0918202247191,
          35.13189219556635,
          35.1719641664136,
          35.21203613726085,
          35.252108108108104,
          35.29218007895536,
          35.33225204980261,
          35.37232402064986,
          35.412395991497114,
          35.452467962344365,
          35.49253993319162,
          35.53261190403887,
          35.572683874886124,
          35.612755845733375,
          35.652827816580626,
          35.692899787427876,
          35.73297175827513,
          35.77304372912238,
          35.81311569996963,
          35.85318767081688,
          35.89325964166413,
          35.93333161251139,
          35.97340358335864,
          36.01347555420589,
          36.05354752505314,
          36.0936194959004,
          36.13369146674765,
          36.1737634375949,
          36.21383540844215,
          36.2539073792894,
          36.29397935013665,
          36.3340513209839,
          36.374123291831154,
          36.414195262678405,
          36.45426723352566,
          36.49433920437291,
          36.534411175220164,
          36.574483146067415,
          36.614555116914666,
          36.65462708776192,
          36.69469905860917,
          36.734771029456425,
          36.774843000303676,
          36.81491497115093,
          36.85498694199818,
          36.89505891284543,
          36.93513088369268,
          36.97520285453993,
          37.01527482538718,
          37.05534679623443,
          37.09541876708168,
          37.13549073792894,
          37.17556270877619,
          37.21563467962344,
          37.25570665047069,
          37.29577862131795,
          37.3358505921652,
          37.37592256301245,
          37.4159945338597,
          37.45606650470695,
          37.496138475554204,
          37.536210446401455,
          37.576282417248706,
          37.61635438809596,
          37.656426358943214,
          37.69649832979046,
          37.736570300637716,
          37.77664227148497,
          37.816714242332225,
          37.85678621317947,
          37.896858184026726,
          37.93693015487398,
          37.97700212572123,
          38.01707409656848,
          38.05714606741573,
          38.09721803826298,
          38.13729000911023,
          38.17736197995748,
          38.21743395080473,
          38.25750592165199,
          38.297577892499234,
          38.33764986334649,
          38.37772183419374,
          38.41779380504099,
          38.45786577588825,
          38.4979377467355,
          38.53800971758275,
          38.578081688430004,
          38.618153659277255,
          38.658225630124505,
          38.698297600971756,
          38.73836957181901,
          38.77844154266626,
          38.81851351351351,
          38.85858548436076,
          38.89865745520802,
          38.93872942605527,
          38.978801396902526,
          39.01887336774977,
          39.05894533859703,
          39.09901730944428,
          39.13908928029153,
          39.17916125113878,
          39.21923322198603,
          39.25930519283328,
          39.29937716368053,
          39.33944913452778,
          39.379521105375034,
          39.41959307622229,
          39.459665047069535,
          39.49973701791679,
          39.539808988764044,
          39.579880959611295,
          39.619952930458545,
          39.6600249013058,
          39.700096872153054,
          39.740168843000305,
          39.780240813847556,
          39.820312784694806,
          39.86038475554206,
          39.90045672638931,
          39.94052869723656,
          39.98060066808381,
          40.02067263893106,
          40.06074460977831,
          40.10081658062557,
          40.14088855147282,
          40.18096052232007,
          40.22103249316733,
          40.26110446401458,
          40.30117643486183,
          40.34124840570908,
          40.38132037655633,
          40.42139234740358,
          40.46146431825083,
          40.501536289098084,
          40.541608259945335,
          40.581680230792585,
          40.621752201639836,
          40.661824172487094,
          40.701896143334345,
          40.741968114181596,
          40.78204008502885,
          40.822112055876104,
          40.862184026723355,
          40.902255997570606,
          40.94232796841786,
          40.98239993926511
         ],
         "xaxis": "x",
         "y": {
          "bdata": "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",
          "dtype": "f8"
         },
         "yaxis": "y"
        },
        {
         "legendgroup": "Strike Rate",
         "marker": {
          "color": "rgb(255, 127, 14)"
         },
         "mode": "lines",
         "name": "Strike Rate",
         "showlegend": false,
         "type": "scatter",
         "x": [
          101.73453996983409,
          101.84619909502263,
          101.95785822021116,
          102.0695173453997,
          102.18117647058824,
          102.29283559577678,
          102.4044947209653,
          102.51615384615384,
          102.62781297134238,
          102.73947209653092,
          102.85113122171946,
          102.962790346908,
          103.07444947209653,
          103.18610859728507,
          103.29776772247361,
          103.40942684766215,
          103.52108597285068,
          103.63274509803922,
          103.74440422322775,
          103.85606334841628,
          103.96772247360482,
          104.07938159879336,
          104.1910407239819,
          104.30269984917044,
          104.41435897435898,
          104.52601809954751,
          104.63767722473605,
          104.74933634992459,
          104.86099547511313,
          104.97265460030167,
          105.08431372549019,
          105.19597285067873,
          105.30763197586727,
          105.4192911010558,
          105.53095022624434,
          105.64260935143288,
          105.75426847662142,
          105.86592760180996,
          105.9775867269985,
          106.08924585218703,
          106.20090497737557,
          106.31256410256411,
          106.42422322775263,
          106.53588235294117,
          106.64754147812971,
          106.75920060331825,
          106.87085972850679,
          106.98251885369532,
          107.09417797888386,
          107.2058371040724,
          107.31749622926094,
          107.42915535444948,
          107.54081447963802,
          107.65247360482655,
          107.76413273001509,
          107.87579185520362,
          107.98745098039215,
          108.09911010558069,
          108.21076923076923,
          108.32242835595777,
          108.4340874811463,
          108.54574660633484,
          108.65740573152338,
          108.76906485671192,
          108.88072398190046,
          108.99238310708898,
          109.10404223227752,
          109.21570135746606,
          109.3273604826546,
          109.43901960784314,
          109.55067873303167,
          109.66233785822021,
          109.77399698340875,
          109.88565610859729,
          109.99731523378583,
          110.10897435897436,
          110.2206334841629,
          110.33229260935144,
          110.44395173453998,
          110.5556108597285,
          110.66726998491704,
          110.77892911010558,
          110.89058823529412,
          111.00224736048266,
          111.1139064856712,
          111.22556561085973,
          111.33722473604827,
          111.44888386123681,
          111.56054298642535,
          111.67220211161387,
          111.78386123680241,
          111.89552036199095,
          112.00717948717949,
          112.11883861236802,
          112.23049773755656,
          112.3421568627451,
          112.45381598793364,
          112.56547511312218,
          112.67713423831071,
          112.78879336349925,
          112.90045248868779,
          113.01211161387633,
          113.12377073906485,
          113.23542986425339,
          113.34708898944193,
          113.45874811463047,
          113.570407239819,
          113.68206636500754,
          113.79372549019608,
          113.90538461538462,
          114.01704374057316,
          114.1287028657617,
          114.24036199095022,
          114.35202111613876,
          114.4636802413273,
          114.57533936651583,
          114.68699849170437,
          114.79865761689291,
          114.91031674208145,
          115.02197586726999,
          115.13363499245852,
          115.24529411764706,
          115.3569532428356,
          115.46861236802414,
          115.58027149321268,
          115.69193061840122,
          115.80358974358975,
          115.91524886877828,
          116.02690799396682,
          116.13856711915535,
          116.25022624434389,
          116.36188536953243,
          116.47354449472097,
          116.5852036199095,
          116.69686274509804,
          116.80852187028658,
          116.92018099547512,
          117.03184012066365,
          117.14349924585218,
          117.25515837104072,
          117.36681749622926,
          117.4784766214178,
          117.59013574660634,
          117.70179487179487,
          117.81345399698341,
          117.92511312217195,
          118.03677224736049,
          118.14843137254903,
          118.26009049773756,
          118.3717496229261,
          118.48340874811463,
          118.59506787330318,
          118.7067269984917,
          118.81838612368024,
          118.93004524886878,
          119.04170437405732,
          119.15336349924586,
          119.2650226244344,
          119.37668174962293,
          119.48834087481146,
          119.60000000000001,
          119.71165912518853,
          119.82331825037707,
          119.93497737556561,
          120.04663650075415,
          120.15829562594269,
          120.26995475113122,
          120.38161387631976,
          120.4932730015083,
          120.60493212669684,
          120.71659125188538,
          120.82825037707391,
          120.93990950226245,
          121.05156862745099,
          121.16322775263953,
          121.27488687782805,
          121.38654600301659,
          121.49820512820513,
          121.60986425339367,
          121.7215233785822,
          121.83318250377074,
          121.94484162895928,
          122.05650075414782,
          122.16815987933634,
          122.27981900452488,
          122.39147812971342,
          122.50313725490196,
          122.6147963800905,
          122.72645550527903,
          122.83811463046757,
          122.94977375565611,
          123.06143288084465,
          123.17309200603319,
          123.28475113122173,
          123.39641025641026,
          123.5080693815988,
          123.61972850678734,
          123.73138763197588,
          123.84304675716442,
          123.95470588235294,
          124.06636500754148,
          124.17802413273002,
          124.28968325791855,
          124.40134238310709,
          124.51300150829563,
          124.62466063348417,
          124.7363197586727,
          124.84797888386124,
          124.95963800904977,
          125.0712971342383,
          125.18295625942685,
          125.29461538461538,
          125.40627450980392,
          125.51793363499246,
          125.629592760181,
          125.74125188536954,
          125.85291101055807,
          125.96457013574661,
          126.07622926093515,
          126.18788838612369,
          126.29954751131223,
          126.41120663650076,
          126.52286576168929,
          126.63452488687783,
          126.74618401206637,
          126.8578431372549,
          126.96950226244344,
          127.08116138763198,
          127.19282051282052,
          127.30447963800906,
          127.4161387631976,
          127.52779788838612,
          127.63945701357466,
          127.7511161387632,
          127.86277526395173,
          127.97443438914027,
          128.0860935143288,
          128.19775263951735,
          128.30941176470589,
          128.42107088989442,
          128.53273001508296,
          128.6443891402715,
          128.75604826546004,
          128.86770739064858,
          128.9793665158371,
          129.09102564102565,
          129.2026847662142,
          129.31434389140273,
          129.42600301659127,
          129.53766214177978,
          129.64932126696834,
          129.76098039215685,
          129.87263951734542,
          129.98429864253393,
          130.09595776772247,
          130.207616892911,
          130.31927601809954,
          130.43093514328808,
          130.54259426847662,
          130.65425339366516,
          130.7659125188537,
          130.87757164404223,
          130.98923076923077,
          131.1008898944193,
          131.21254901960785,
          131.3242081447964,
          131.43586726998493,
          131.54752639517346,
          131.659185520362,
          131.77084464555054,
          131.88250377073908,
          131.99416289592762,
          132.10582202111615,
          132.2174811463047,
          132.3291402714932,
          132.44079939668177,
          132.55245852187028,
          132.66411764705882,
          132.77577677224735,
          132.8874358974359,
          132.99909502262443,
          133.11075414781297,
          133.2224132730015,
          133.33407239819005,
          133.44573152337858,
          133.55739064856712,
          133.66904977375566,
          133.7807088989442,
          133.89236802413274,
          134.00402714932127,
          134.1156862745098,
          134.22734539969835,
          134.3390045248869,
          134.45066365007543,
          134.56232277526397,
          134.6739819004525,
          134.78564102564104,
          134.89730015082955,
          135.00895927601812,
          135.12061840120663,
          135.23227752639517,
          135.3439366515837,
          135.45559577677227,
          135.56725490196078,
          135.67891402714932,
          135.79057315233786,
          135.9022322775264,
          136.01389140271493,
          136.12555052790347,
          136.237209653092,
          136.34886877828055,
          136.46052790346909,
          136.57218702865762,
          136.68384615384616,
          136.7955052790347,
          136.90716440422324,
          137.01882352941178,
          137.1304826546003,
          137.24214177978882,
          137.3538009049774,
          137.46546003016593,
          137.57711915535447,
          137.68877828054298,
          137.80043740573154,
          137.91209653092005,
          138.0237556561086,
          138.13541478129713,
          138.24707390648567,
          138.3587330316742,
          138.47039215686274,
          138.58205128205128,
          138.69371040723982,
          138.80536953242836,
          138.9170286576169,
          139.02868778280543,
          139.14034690799397,
          139.2520060331825,
          139.36366515837105,
          139.4753242835596,
          139.58698340874813,
          139.69864253393666,
          139.8103016591252,
          139.92196078431374,
          140.03361990950225,
          140.14527903469082,
          140.25693815987933,
          140.3685972850679,
          140.4802564102564,
          140.59191553544497,
          140.70357466063348,
          140.81523378582202,
          140.92689291101055,
          141.0385520361991,
          141.15021116138763,
          141.26187028657617,
          141.3735294117647,
          141.48518853695325,
          141.59684766214178,
          141.70850678733032,
          141.82016591251886,
          141.9318250377074,
          142.04348416289594,
          142.15514328808447,
          142.266802413273,
          142.37846153846155,
          142.4901206636501,
          142.6017797888386,
          142.71343891402717,
          142.82509803921567,
          142.93675716440424,
          143.04841628959275,
          143.16007541478132,
          143.27173453996983,
          143.38339366515837,
          143.4950527903469,
          143.60671191553544,
          143.71837104072398,
          143.83003016591252,
          143.94168929110106,
          144.0533484162896,
          144.16500754147813,
          144.27666666666667,
          144.3883257918552,
          144.49998491704375,
          144.61164404223229,
          144.72330316742082,
          144.83496229260936,
          144.9466214177979,
          145.05828054298644,
          145.16993966817498,
          145.28159879336351,
          145.39325791855202,
          145.5049170437406,
          145.6165761689291,
          145.72823529411767,
          145.83989441930618,
          145.95155354449474,
          146.06321266968325,
          146.1748717948718,
          146.28653092006033,
          146.39819004524887,
          146.5098491704374,
          146.62150829562594,
          146.73316742081448,
          146.84482654600302,
          146.95648567119156,
          147.0681447963801,
          147.17980392156863,
          147.29146304675717,
          147.4031221719457,
          147.51478129713425,
          147.6264404223228,
          147.73809954751133,
          147.84975867269986,
          147.9614177978884,
          148.07307692307694,
          148.18473604826545,
          148.29639517345402,
          148.40805429864253,
          148.51971342383106,
          148.6313725490196,
          148.74303167420817,
          148.85469079939668,
          148.96634992458522,
          149.07800904977375,
          149.1896681749623,
          149.30132730015083,
          149.41298642533937,
          149.5246455505279,
          149.63630467571645,
          149.74796380090498,
          149.85962292609352,
          149.97128205128206,
          150.0829411764706,
          150.19460030165914,
          150.30625942684767,
          150.4179185520362,
          150.52957767722472,
          150.6412368024133,
          150.75289592760183,
          150.86455505279037,
          150.97621417797887,
          151.08787330316744,
          151.19953242835595,
          151.3111915535445,
          151.42285067873303,
          151.53450980392157,
          151.6461689291101,
          151.75782805429864,
          151.86948717948718,
          151.98114630467572,
          152.09280542986426,
          152.2044645550528,
          152.31612368024133,
          152.42778280542987,
          152.5394419306184,
          152.65110105580695,
          152.76276018099549,
          152.87441930618402,
          152.98607843137256,
          153.0977375565611,
          153.20939668174964,
          153.32105580693815,
          153.43271493212671,
          153.54437405731522,
          153.6560331825038,
          153.7676923076923,
          153.87935143288087,
          153.99101055806938,
          154.10266968325791,
          154.21432880844645,
          154.325987933635,
          154.43764705882353,
          154.54930618401207,
          154.6609653092006,
          154.77262443438914,
          154.88428355957768,
          154.99594268476622,
          155.10760180995476,
          155.2192609351433,
          155.33092006033183,
          155.44257918552037,
          155.5542383107089,
          155.66589743589745,
          155.777556561086,
          155.8892156862745,
          156.00087481146306,
          156.11253393665157,
          156.22419306184014,
          156.33585218702865,
          156.44751131221722,
          156.55917043740573,
          156.67082956259426,
          156.7824886877828,
          156.89414781297134,
          157.00580693815988,
          157.11746606334842,
          157.22912518853695,
          157.3407843137255,
          157.45244343891403
         ],
         "xaxis": "x",
         "y": {
          "bdata": "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",
          "dtype": "f8"
         },
         "yaxis": "y"
        },
        {
         "legendgroup": "Average",
         "marker": {
          "color": "rgb(31, 119, 180)",
          "symbol": "line-ns-open"
         },
         "mode": "markers",
         "name": "Average",
         "showlegend": false,
         "type": "scatter",
         "x": {
          "bdata": "dmIndmInQ0CU11BeQzk7QCuChpO6LztAv/RLv/TLQECykpWsZCU7QKfg5RS8HDxAq6qqqqqqQEBwgQtc4IJEQN7d3d3dXUFAUrgehesRREDylCBPCfI2QD801ofG+jpAAAAAAABAPEBJkiRJkmQ8QEfcEXfEHT5Ah2nugr+KP0AFL6fg5RQ5QI6NjY2NjTxArkfhehTuQ0C1K1G7ErU8QEMv9EIv9DlA/tzP/dzPOEBDFrKQhSw5QOiWOPV7bjpA4uHh4eFhQ0AAAAAAAIA8QNu2bdu2bT1AtFHf2ajvQkDJZ91givw0QL1T13JwszVAYO+YGtg7PEDkOI7jOA44QDTmjDljTkBAAAAAAACEPUC/s1Hf2ag+QFydkYq5VUBA1QTjrexzOUAQBEEQBMFDQNIDlbNb+EBATm9605ueQkDf9KY3velAQOvq6urq6j5AsAVbsAVbPEBu27Zt23Y5QPQFfUFf0DpAWxE0nNS9QkDkOI7jOI47QNLmfYpLhjlANNaHxvrQPUCGb0SBSac5QA==",
          "dtype": "f8"
         },
         "xaxis": "x",
         "y": [
          "Average",
          "Average",
          "Average",
          "Average",
          "Average",
          "Average",
          "Average",
          "Average",
          "Average",
          "Average",
          "Average",
          "Average",
          "Average",
          "Average",
          "Average",
          "Average",
          "Average",
          "Average",
          "Average",
          "Average",
          "Average",
          "Average",
          "Average",
          "Average",
          "Average",
          "Average",
          "Average",
          "Average",
          "Average",
          "Average",
          "Average",
          "Average",
          "Average",
          "Average",
          "Average",
          "Average",
          "Average",
          "Average",
          "Average",
          "Average",
          "Average",
          "Average",
          "Average",
          "Average",
          "Average",
          "Average",
          "Average",
          "Average",
          "Average",
          "Average"
         ],
         "yaxis": "y2"
        },
        {
         "legendgroup": "Strike Rate",
         "marker": {
          "color": "rgb(255, 127, 14)",
          "symbol": "line-ns-open"
         },
         "mode": "markers",
         "name": "Strike Rate",
         "showlegend": false,
         "type": "scatter",
         "x": {
          "bdata": "xg+WQCEkYkDxfVHLv6FgQGUymUwmk19AeTidnSNfXUCRPpiU6cBeQM7Ur25dlF9ASTUQNwhbXkAeHXjPNwZiQIGaXS+yNmFAvmGCVzBKYUC0JW1JW5JeQK/BO3umBF5AyOeHzKCyXUD5eITx8YhgQNQxlwhPCl9A5O8X5x0XXkAhDdIgDbJjQLJ68uLre1pAm4MctR5+XkDbpCFq4ZNhQAIXuMAFnl1AqPvy2IrAXkBmL9Q+nClfQKibhufVAV5ANd3Bfqv9XUCKXgqfDzxdQJ3SP7YniFxAoXJ2C7+aYECyHH4jy6FcQMfQdAf7LVxATuFMIDlWXEBSb/tUvrJdQCTsEnvpD2BAinzWDaboX0AJuPXZjO9cQHIUUOQooF1AtALvswJvWUBlo1NHg0NgQGOPuYbb32BA2MnxYToQYEDAgAEDBoxcQIp/ef/T2mBAqXmQu362XECOzqTa0ZleQBBLu07yh1tAu30C9ailX0DTcWlFd5piQLy/5b6R7l9AcQSR1guYYUAZnI/B+ZhfQA==",
          "dtype": "f8"
         },
         "xaxis": "x",
         "y": [
          "Strike Rate",
          "Strike Rate",
          "Strike Rate",
          "Strike Rate",
          "Strike Rate",
          "Strike Rate",
          "Strike Rate",
          "Strike Rate",
          "Strike Rate",
          "Strike Rate",
          "Strike Rate",
          "Strike Rate",
          "Strike Rate",
          "Strike Rate",
          "Strike Rate",
          "Strike Rate",
          "Strike Rate",
          "Strike Rate",
          "Strike Rate",
          "Strike Rate",
          "Strike Rate",
          "Strike Rate",
          "Strike Rate",
          "Strike Rate",
          "Strike Rate",
          "Strike Rate",
          "Strike Rate",
          "Strike Rate",
          "Strike Rate",
          "Strike Rate",
          "Strike Rate",
          "Strike Rate",
          "Strike Rate",
          "Strike Rate",
          "Strike Rate",
          "Strike Rate",
          "Strike Rate",
          "Strike Rate",
          "Strike Rate",
          "Strike Rate",
          "Strike Rate",
          "Strike Rate",
          "Strike Rate",
          "Strike Rate",
          "Strike Rate",
          "Strike Rate",
          "Strike Rate",
          "Strike Rate",
          "Strike Rate",
          "Strike Rate"
         ],
         "yaxis": "y2"
        }
       ],
       "layout": {
        "autosize": false,
        "barmode": "overlay",
        "height": 900,
        "hovermode": "closest",
        "legend": {
         "traceorder": "reversed"
        },
        "template": {
         "data": {
          "bar": [
           {
            "error_x": {
             "color": "#2a3f5f"
            },
            "error_y": {
             "color": "#2a3f5f"
            },
            "marker": {
             "line": {
              "color": "#E5ECF6",
              "width": 0.5
             },
             "pattern": {
              "fillmode": "overlay",
              "size": 10,
              "solidity": 0.2
             }
            },
            "type": "bar"
           }
          ],
          "barpolar": [
           {
            "marker": {
             "line": {
              "color": "#E5ECF6",
              "width": 0.5
             },
             "pattern": {
              "fillmode": "overlay",
              "size": 10,
              "solidity": 0.2
             }
            },
            "type": "barpolar"
           }
          ],
          "carpet": [
           {
            "aaxis": {
             "endlinecolor": "#2a3f5f",
             "gridcolor": "white",
             "linecolor": "white",
             "minorgridcolor": "white",
             "startlinecolor": "#2a3f5f"
            },
            "baxis": {
             "endlinecolor": "#2a3f5f",
             "gridcolor": "white",
             "linecolor": "white",
             "minorgridcolor": "white",
             "startlinecolor": "#2a3f5f"
            },
            "type": "carpet"
           }
          ],
          "choropleth": [
           {
            "colorbar": {
             "outlinewidth": 0,
             "ticks": ""
            },
            "type": "choropleth"
           }
          ],
          "contour": [
           {
            "colorbar": {
             "outlinewidth": 0,
             "ticks": ""
            },
            "colorscale": [
             [
              0,
              "#0d0887"
             ],
             [
              0.1111111111111111,
              "#46039f"
             ],
             [
              0.2222222222222222,
              "#7201a8"
             ],
             [
              0.3333333333333333,
              "#9c179e"
             ],
             [
              0.4444444444444444,
              "#bd3786"
             ],
             [
              0.5555555555555556,
              "#d8576b"
             ],
             [
              0.6666666666666666,
              "#ed7953"
             ],
             [
              0.7777777777777778,
              "#fb9f3a"
             ],
             [
              0.8888888888888888,
              "#fdca26"
             ],
             [
              1,
              "#f0f921"
             ]
            ],
            "type": "contour"
           }
          ],
          "contourcarpet": [
           {
            "colorbar": {
             "outlinewidth": 0,
             "ticks": ""
            },
            "type": "contourcarpet"
           }
          ],
          "heatmap": [
           {
            "colorbar": {
             "outlinewidth": 0,
             "ticks": ""
            },
            "colorscale": [
             [
              0,
              "#0d0887"
             ],
             [
              0.1111111111111111,
              "#46039f"
             ],
             [
              0.2222222222222222,
              "#7201a8"
             ],
             [
              0.3333333333333333,
              "#9c179e"
             ],
             [
              0.4444444444444444,
              "#bd3786"
             ],
             [
              0.5555555555555556,
              "#d8576b"
             ],
             [
              0.6666666666666666,
              "#ed7953"
             ],
             [
              0.7777777777777778,
              "#fb9f3a"
             ],
             [
              0.8888888888888888,
              "#fdca26"
             ],
             [
              1,
              "#f0f921"
             ]
            ],
            "type": "heatmap"
           }
          ],
          "histogram": [
           {
            "marker": {
             "pattern": {
              "fillmode": "overlay",
              "size": 10,
              "solidity": 0.2
             }
            },
            "type": "histogram"
           }
          ],
          "histogram2d": [
           {
            "colorbar": {
             "outlinewidth": 0,
             "ticks": ""
            },
            "colorscale": [
             [
              0,
              "#0d0887"
             ],
             [
              0.1111111111111111,
              "#46039f"
             ],
             [
              0.2222222222222222,
              "#7201a8"
             ],
             [
              0.3333333333333333,
              "#9c179e"
             ],
             [
              0.4444444444444444,
              "#bd3786"
             ],
             [
              0.5555555555555556,
              "#d8576b"
             ],
             [
              0.6666666666666666,
              "#ed7953"
             ],
             [
              0.7777777777777778,
              "#fb9f3a"
             ],
             [
              0.8888888888888888,
              "#fdca26"
             ],
             [
              1,
              "#f0f921"
             ]
            ],
            "type": "histogram2d"
           }
          ],
          "histogram2dcontour": [
           {
            "colorbar": {
             "outlinewidth": 0,
             "ticks": ""
            },
            "colorscale": [
             [
              0,
              "#0d0887"
             ],
             [
              0.1111111111111111,
              "#46039f"
             ],
             [
              0.2222222222222222,
              "#7201a8"
             ],
             [
              0.3333333333333333,
              "#9c179e"
             ],
             [
              0.4444444444444444,
              "#bd3786"
             ],
             [
              0.5555555555555556,
              "#d8576b"
             ],
             [
              0.6666666666666666,
              "#ed7953"
             ],
             [
              0.7777777777777778,
              "#fb9f3a"
             ],
             [
              0.8888888888888888,
              "#fdca26"
             ],
             [
              1,
              "#f0f921"
             ]
            ],
            "type": "histogram2dcontour"
           }
          ],
          "mesh3d": [
           {
            "colorbar": {
             "outlinewidth": 0,
             "ticks": ""
            },
            "type": "mesh3d"
           }
          ],
          "parcoords": [
           {
            "line": {
             "colorbar": {
              "outlinewidth": 0,
              "ticks": ""
             }
            },
            "type": "parcoords"
           }
          ],
          "pie": [
           {
            "automargin": true,
            "type": "pie"
           }
          ],
          "scatter": [
           {
            "fillpattern": {
             "fillmode": "overlay",
             "size": 10,
             "solidity": 0.2
            },
            "type": "scatter"
           }
          ],
          "scatter3d": [
           {
            "line": {
             "colorbar": {
              "outlinewidth": 0,
              "ticks": ""
             }
            },
            "marker": {
             "colorbar": {
              "outlinewidth": 0,
              "ticks": ""
             }
            },
            "type": "scatter3d"
           }
          ],
          "scattercarpet": [
           {
            "marker": {
             "colorbar": {
              "outlinewidth": 0,
              "ticks": ""
             }
            },
            "type": "scattercarpet"
           }
          ],
          "scattergeo": [
           {
            "marker": {
             "colorbar": {
              "outlinewidth": 0,
              "ticks": ""
             }
            },
            "type": "scattergeo"
           }
          ],
          "scattergl": [
           {
            "marker": {
             "colorbar": {
              "outlinewidth": 0,
              "ticks": ""
             }
            },
            "type": "scattergl"
           }
          ],
          "scattermap": [
           {
            "marker": {
             "colorbar": {
              "outlinewidth": 0,
              "ticks": ""
             }
            },
            "type": "scattermap"
           }
          ],
          "scattermapbox": [
           {
            "marker": {
             "colorbar": {
              "outlinewidth": 0,
              "ticks": ""
             }
            },
            "type": "scattermapbox"
           }
          ],
          "scatterpolar": [
           {
            "marker": {
             "colorbar": {
              "outlinewidth": 0,
              "ticks": ""
             }
            },
            "type": "scatterpolar"
           }
          ],
          "scatterpolargl": [
           {
            "marker": {
             "colorbar": {
              "outlinewidth": 0,
              "ticks": ""
             }
            },
            "type": "scatterpolargl"
           }
          ],
          "scatterternary": [
           {
            "marker": {
             "colorbar": {
              "outlinewidth": 0,
              "ticks": ""
             }
            },
            "type": "scatterternary"
           }
          ],
          "surface": [
           {
            "colorbar": {
             "outlinewidth": 0,
             "ticks": ""
            },
            "colorscale": [
             [
              0,
              "#0d0887"
             ],
             [
              0.1111111111111111,
              "#46039f"
             ],
             [
              0.2222222222222222,
              "#7201a8"
             ],
             [
              0.3333333333333333,
              "#9c179e"
             ],
             [
              0.4444444444444444,
              "#bd3786"
             ],
             [
              0.5555555555555556,
              "#d8576b"
             ],
             [
              0.6666666666666666,
              "#ed7953"
             ],
             [
              0.7777777777777778,
              "#fb9f3a"
             ],
             [
              0.8888888888888888,
              "#fdca26"
             ],
             [
              1,
              "#f0f921"
             ]
            ],
            "type": "surface"
           }
          ],
          "table": [
           {
            "cells": {
             "fill": {
              "color": "#EBF0F8"
             },
             "line": {
              "color": "white"
             }
            },
            "header": {
             "fill": {
              "color": "#C8D4E3"
             },
             "line": {
              "color": "white"
             }
            },
            "type": "table"
           }
          ]
         },
         "layout": {
          "annotationdefaults": {
           "arrowcolor": "#2a3f5f",
           "arrowhead": 0,
           "arrowwidth": 1
          },
          "autotypenumbers": "strict",
          "coloraxis": {
           "colorbar": {
            "outlinewidth": 0,
            "ticks": ""
           }
          },
          "colorscale": {
           "diverging": [
            [
             0,
             "#8e0152"
            ],
            [
             0.1,
             "#c51b7d"
            ],
            [
             0.2,
             "#de77ae"
            ],
            [
             0.3,
             "#f1b6da"
            ],
            [
             0.4,
             "#fde0ef"
            ],
            [
             0.5,
             "#f7f7f7"
            ],
            [
             0.6,
             "#e6f5d0"
            ],
            [
             0.7,
             "#b8e186"
            ],
            [
             0.8,
             "#7fbc41"
            ],
            [
             0.9,
             "#4d9221"
            ],
            [
             1,
             "#276419"
            ]
           ],
           "sequential": [
            [
             0,
             "#0d0887"
            ],
            [
             0.1111111111111111,
             "#46039f"
            ],
            [
             0.2222222222222222,
             "#7201a8"
            ],
            [
             0.3333333333333333,
             "#9c179e"
            ],
            [
             0.4444444444444444,
             "#bd3786"
            ],
            [
             0.5555555555555556,
             "#d8576b"
            ],
            [
             0.6666666666666666,
             "#ed7953"
            ],
            [
             0.7777777777777778,
             "#fb9f3a"
            ],
            [
             0.8888888888888888,
             "#fdca26"
            ],
            [
             1,
             "#f0f921"
            ]
           ],
           "sequentialminus": [
            [
             0,
             "#0d0887"
            ],
            [
             0.1111111111111111,
             "#46039f"
            ],
            [
             0.2222222222222222,
             "#7201a8"
            ],
            [
             0.3333333333333333,
             "#9c179e"
            ],
            [
             0.4444444444444444,
             "#bd3786"
            ],
            [
             0.5555555555555556,
             "#d8576b"
            ],
            [
             0.6666666666666666,
             "#ed7953"
            ],
            [
             0.7777777777777778,
             "#fb9f3a"
            ],
            [
             0.8888888888888888,
             "#fdca26"
            ],
            [
             1,
             "#f0f921"
            ]
           ]
          },
          "colorway": [
           "#636efa",
           "#EF553B",
           "#00cc96",
           "#ab63fa",
           "#FFA15A",
           "#19d3f3",
           "#FF6692",
           "#B6E880",
           "#FF97FF",
           "#FECB52"
          ],
          "font": {
           "color": "#2a3f5f"
          },
          "geo": {
           "bgcolor": "white",
           "lakecolor": "white",
           "landcolor": "#E5ECF6",
           "showlakes": true,
           "showland": true,
           "subunitcolor": "white"
          },
          "hoverlabel": {
           "align": "left"
          },
          "hovermode": "closest",
          "mapbox": {
           "style": "light"
          },
          "paper_bgcolor": "white",
          "plot_bgcolor": "#E5ECF6",
          "polar": {
           "angularaxis": {
            "gridcolor": "white",
            "linecolor": "white",
            "ticks": ""
           },
           "bgcolor": "#E5ECF6",
           "radialaxis": {
            "gridcolor": "white",
            "linecolor": "white",
            "ticks": ""
           }
          },
          "scene": {
           "xaxis": {
            "backgroundcolor": "#E5ECF6",
            "gridcolor": "white",
            "gridwidth": 2,
            "linecolor": "white",
            "showbackground": true,
            "ticks": "",
            "zerolinecolor": "white"
           },
           "yaxis": {
            "backgroundcolor": "#E5ECF6",
            "gridcolor": "white",
            "gridwidth": 2,
            "linecolor": "white",
            "showbackground": true,
            "ticks": "",
            "zerolinecolor": "white"
           },
           "zaxis": {
            "backgroundcolor": "#E5ECF6",
            "gridcolor": "white",
            "gridwidth": 2,
            "linecolor": "white",
            "showbackground": true,
            "ticks": "",
            "zerolinecolor": "white"
           }
          },
          "shapedefaults": {
           "line": {
            "color": "#2a3f5f"
           }
          },
          "ternary": {
           "aaxis": {
            "gridcolor": "white",
            "linecolor": "white",
            "ticks": ""
           },
           "baxis": {
            "gridcolor": "white",
            "linecolor": "white",
            "ticks": ""
           },
           "bgcolor": "#E5ECF6",
           "caxis": {
            "gridcolor": "white",
            "linecolor": "white",
            "ticks": ""
           }
          },
          "title": {
           "x": 0.05
          },
          "xaxis": {
           "automargin": true,
           "gridcolor": "white",
           "linecolor": "white",
           "ticks": "",
           "title": {
            "standoff": 15
           },
           "zerolinecolor": "white",
           "zerolinewidth": 2
          },
          "yaxis": {
           "automargin": true,
           "gridcolor": "white",
           "linecolor": "white",
           "ticks": "",
           "title": {
            "standoff": 15
           },
           "zerolinecolor": "white",
           "zerolinewidth": 2
          }
         }
        },
        "width": 1700,
        "xaxis": {
         "anchor": "y2",
         "domain": [
          0,
          1
         ],
         "zeroline": false
        },
        "yaxis": {
         "anchor": "free",
         "domain": [
          0.35,
          1
         ],
         "position": 0
        },
        "yaxis2": {
         "anchor": "x",
         "domain": [
          0,
          0.25
         ],
         "dtick": 1,
         "showticklabels": false
        }
       }
      }
     },
     "metadata": {},
     "output_type": "display_data"
    }
   ],
   "source": [
    "hist_data = [avg['avg'], avg['batsman_runs']]\n",
    "\n",
    "group_labels = ['Average', 'Strike Rate']\n",
    "\n",
    "fig = ff.create_distplot(hist_data, group_labels, bin_size=[3,5]).update_layout(\n",
    "        autosize=False,  \n",
    "        width=1700,      \n",
    "        height=900,      \n",
    "    )\n",
    "\n",
    "fig.show()"
   ]
  },
  {
   "cell_type": "markdown",
   "id": "a7db4af4",
   "metadata": {},
   "source": [
    "## Histogram"
   ]
  },
  {
   "cell_type": "code",
   "execution_count": 154,
   "id": "add6db70",
   "metadata": {},
   "outputs": [
    {
     "data": {
      "text/html": [
       "<div>\n",
       "<style scoped>\n",
       "    .dataframe tbody tr th:only-of-type {\n",
       "        vertical-align: middle;\n",
       "    }\n",
       "\n",
       "    .dataframe tbody tr th {\n",
       "        vertical-align: top;\n",
       "    }\n",
       "\n",
       "    .dataframe thead th {\n",
       "        text-align: right;\n",
       "    }\n",
       "</style>\n",
       "<table border=\"1\" class=\"dataframe\">\n",
       "  <thead>\n",
       "    <tr style=\"text-align: right;\">\n",
       "      <th></th>\n",
       "      <th>batsman</th>\n",
       "      <th>batsman_runs</th>\n",
       "    </tr>\n",
       "  </thead>\n",
       "  <tbody>\n",
       "    <tr>\n",
       "      <th>0</th>\n",
       "      <td>A Ashish Reddy</td>\n",
       "      <td>142.857143</td>\n",
       "    </tr>\n",
       "    <tr>\n",
       "      <th>1</th>\n",
       "      <td>A Mishra</td>\n",
       "      <td>89.005236</td>\n",
       "    </tr>\n",
       "    <tr>\n",
       "      <th>2</th>\n",
       "      <td>A Symonds</td>\n",
       "      <td>124.711908</td>\n",
       "    </tr>\n",
       "    <tr>\n",
       "      <th>3</th>\n",
       "      <td>AA Jhunjhunwala</td>\n",
       "      <td>99.541284</td>\n",
       "    </tr>\n",
       "    <tr>\n",
       "      <th>4</th>\n",
       "      <td>AB Agarkar</td>\n",
       "      <td>111.875000</td>\n",
       "    </tr>\n",
       "    <tr>\n",
       "      <th>...</th>\n",
       "      <td>...</td>\n",
       "      <td>...</td>\n",
       "    </tr>\n",
       "    <tr>\n",
       "      <th>157</th>\n",
       "      <td>Y Nagar</td>\n",
       "      <td>105.166052</td>\n",
       "    </tr>\n",
       "    <tr>\n",
       "      <th>158</th>\n",
       "      <td>Y Venugopal Rao</td>\n",
       "      <td>113.872832</td>\n",
       "    </tr>\n",
       "    <tr>\n",
       "      <th>159</th>\n",
       "      <td>YK Pathan</td>\n",
       "      <td>140.751445</td>\n",
       "    </tr>\n",
       "    <tr>\n",
       "      <th>160</th>\n",
       "      <td>YV Takawale</td>\n",
       "      <td>104.918033</td>\n",
       "    </tr>\n",
       "    <tr>\n",
       "      <th>161</th>\n",
       "      <td>Yuvraj Singh</td>\n",
       "      <td>126.390244</td>\n",
       "    </tr>\n",
       "  </tbody>\n",
       "</table>\n",
       "<p>162 rows × 2 columns</p>\n",
       "</div>"
      ],
      "text/plain": [
       "             batsman  batsman_runs\n",
       "0     A Ashish Reddy    142.857143\n",
       "1           A Mishra     89.005236\n",
       "2          A Symonds    124.711908\n",
       "3    AA Jhunjhunwala     99.541284\n",
       "4         AB Agarkar    111.875000\n",
       "..               ...           ...\n",
       "157          Y Nagar    105.166052\n",
       "158  Y Venugopal Rao    113.872832\n",
       "159        YK Pathan    140.751445\n",
       "160      YV Takawale    104.918033\n",
       "161     Yuvraj Singh    126.390244\n",
       "\n",
       "[162 rows x 2 columns]"
      ]
     },
     "execution_count": 154,
     "metadata": {},
     "output_type": "execute_result"
    }
   ],
   "source": [
    "x = delivery.groupby('batsman')['batsman_runs'].count() > 150\n",
    "x = x[x].index.tolist()\n",
    "\n",
    "new = delivery[delivery['batsman'].isin(x)]\n",
    "\n",
    "runs = new.groupby('batsman')['batsman_runs'].sum()\n",
    "balls = new.groupby('batsman')['batsman_runs'].count()\n",
    "\n",
    "sr = (runs/balls)*100\n",
    "\n",
    "sr = sr.reset_index()\n",
    "sr"
   ]
  },
  {
   "cell_type": "code",
   "execution_count": 160,
   "id": "bc82d7be",
   "metadata": {},
   "outputs": [
    {
     "data": {
      "application/vnd.plotly.v1+json": {
       "config": {
        "plotlyServerURL": "https://plot.ly"
       },
       "data": [
        {
         "type": "histogram",
         "x": {
          "bdata": "t23btm3bYUBC8bTHVUBWQCf3xuWPLV9AKuZWZ6TiWED///////dbQMYPlkAhJGJA8X1Ry7+hYEDpIAUsjzdeQAAAAAAAgGRAZTKZTCaTX0Dv9kJg6lBbQCRJkiRJklxAeTidnSNfXUDKayivobxdQLDa+xsDq15ArSlrypoyXECRPpiU6cBeQL+o5d+QMF9AAAAAAABYW0AAAAAAALBYQBmOFiSgZmFAztSvbl2UX0BJNRA3CFteQGMndmIndmJAMsYYY4wxWEAeHXjPNwZiQHXRRRdd9GNAKsItNRt2X0C4eRjJ8FxfQHsGotKRvVpAgZpdL7I2YUC+YYJXMEphQMeQ2zHkdlxAiZ3YiZ3YXEC0JW1JW5JeQK/3JHgG1WBAr8E7e6YEXkA5C8+P6WFdQMjnh8ygsl1A+XiE8fGIYECiHuqhHupdQGHj0fzBxllAJCz3NMJyXUDUMZcITwpfQBxkXkoEj1lA5O8X5x0XXkDKtIi1krxaQISeaNT8q1VAetOb3vQGXkAhDdIgDbJjQJMkSZIkiV5AWoXc46t2WkBrwBVrwJVgQIjBwpE5QWFA9CNDCzrmYEAlh7jKFDBdQEZGRkZGRl9AczVXczUXXEADF7jABR5hQJmZmZmZmWFAHp1JtaMzYEBhv9XG0HRaQLJ68uLre1pAm4MctR5+XkBmLRTQsTlgQGKUqXiumWBAQ17YKqjNVkDbpCFq4ZNhQAIXuMAFnl1AqPvy2IrAXkB33nAmWStjQGYv1D6cKV9A3WCKfNadXkAdx3Ecx1FgQBO5aobbgWBA2Ymd2ImdX0DpLKazmM5bQAHN9f1lFF5AfwqC5yW5XkAojOo0OUhcQMWdKp2IBF5A5ow5Y84YWUAoPmdquXBaQKibhufVAV5AZ2ZmZmbmX0ATH/fdUmhdQH2JY9V/gF9AJVphcyDRW0A13cF+q/1dQIElvfxpC1hAtzMk5u2MYUCKXgqfDzxdQJ3SP7YniFxAfM/oUyt+YEBtHfrN1iFXQOiBytkt/FtAO9Q9DrcRW0ChcnYLv5pgQNdGrEuP+V5AHJxa8jSjXUDJ+O1ST8ZeQFLEoZP2QWBAshx+I8uhXEBrflikDDxfQA3lNZTXUFpAXurJ+O0SX0DH0HQH+y1cQDXbJ6oHjVhAl9BeQns5XUA95u+1EetfQG2eRdvQkVtAaWTD+JcIYED5GJyPwXlXQGC5pxGWe11ATuFMIDlWXEBtalOb2lRWQLsvj60ImlxAq6qqqqqqWkBSb/tUvrJdQEYXXXTRxWFAJOwSe+kPYEB7MZ96MR9hQCAQCAQCgWJA2Imd2IldXECKfNYNpuhfQAm49dmM71xAchRQ5CigXUBO59GH/ZRdQKOLLrroCl5A4GKZP5e7X0C0Au+zAm9ZQGWjU0eDQ2BAY4+5htvfYECkSZMmTZpWQLkKCIZki19AegrrKaynXEDFTuzETixXQIqYzaVDjWFA2MnxYToQYEDAgAEDBoxcQIp/ef/T2mBAVcfe2jDNXkCpeZC7frZcQMXTHlcBwWBAtK0U6t7vXkCOzqTa0ZleQEuhP8lYVGBAU9aUNWUNXEC44KDEDCxfQMB1lpVbylxAEEu7TvKHW0B84b3wXvhgQGxWh1Gm4ldAu30C9ailX0DTcWlFd5piQIM7L1LHA1pAvL/lvpHuX0Bh1ySXoEpaQK7yTHzcd1xAcQSR1guYYUD8FJcMwTpaQBmcj8H5mF9A",
          "dtype": "f8"
         },
         "xbins": {
          "end": 100,
          "size": 2,
          "start": 50
         }
        }
       ],
       "layout": {
        "autosize": false,
        "height": 900,
        "template": {
         "data": {
          "bar": [
           {
            "error_x": {
             "color": "#2a3f5f"
            },
            "error_y": {
             "color": "#2a3f5f"
            },
            "marker": {
             "line": {
              "color": "#E5ECF6",
              "width": 0.5
             },
             "pattern": {
              "fillmode": "overlay",
              "size": 10,
              "solidity": 0.2
             }
            },
            "type": "bar"
           }
          ],
          "barpolar": [
           {
            "marker": {
             "line": {
              "color": "#E5ECF6",
              "width": 0.5
             },
             "pattern": {
              "fillmode": "overlay",
              "size": 10,
              "solidity": 0.2
             }
            },
            "type": "barpolar"
           }
          ],
          "carpet": [
           {
            "aaxis": {
             "endlinecolor": "#2a3f5f",
             "gridcolor": "white",
             "linecolor": "white",
             "minorgridcolor": "white",
             "startlinecolor": "#2a3f5f"
            },
            "baxis": {
             "endlinecolor": "#2a3f5f",
             "gridcolor": "white",
             "linecolor": "white",
             "minorgridcolor": "white",
             "startlinecolor": "#2a3f5f"
            },
            "type": "carpet"
           }
          ],
          "choropleth": [
           {
            "colorbar": {
             "outlinewidth": 0,
             "ticks": ""
            },
            "type": "choropleth"
           }
          ],
          "contour": [
           {
            "colorbar": {
             "outlinewidth": 0,
             "ticks": ""
            },
            "colorscale": [
             [
              0,
              "#0d0887"
             ],
             [
              0.1111111111111111,
              "#46039f"
             ],
             [
              0.2222222222222222,
              "#7201a8"
             ],
             [
              0.3333333333333333,
              "#9c179e"
             ],
             [
              0.4444444444444444,
              "#bd3786"
             ],
             [
              0.5555555555555556,
              "#d8576b"
             ],
             [
              0.6666666666666666,
              "#ed7953"
             ],
             [
              0.7777777777777778,
              "#fb9f3a"
             ],
             [
              0.8888888888888888,
              "#fdca26"
             ],
             [
              1,
              "#f0f921"
             ]
            ],
            "type": "contour"
           }
          ],
          "contourcarpet": [
           {
            "colorbar": {
             "outlinewidth": 0,
             "ticks": ""
            },
            "type": "contourcarpet"
           }
          ],
          "heatmap": [
           {
            "colorbar": {
             "outlinewidth": 0,
             "ticks": ""
            },
            "colorscale": [
             [
              0,
              "#0d0887"
             ],
             [
              0.1111111111111111,
              "#46039f"
             ],
             [
              0.2222222222222222,
              "#7201a8"
             ],
             [
              0.3333333333333333,
              "#9c179e"
             ],
             [
              0.4444444444444444,
              "#bd3786"
             ],
             [
              0.5555555555555556,
              "#d8576b"
             ],
             [
              0.6666666666666666,
              "#ed7953"
             ],
             [
              0.7777777777777778,
              "#fb9f3a"
             ],
             [
              0.8888888888888888,
              "#fdca26"
             ],
             [
              1,
              "#f0f921"
             ]
            ],
            "type": "heatmap"
           }
          ],
          "histogram": [
           {
            "marker": {
             "pattern": {
              "fillmode": "overlay",
              "size": 10,
              "solidity": 0.2
             }
            },
            "type": "histogram"
           }
          ],
          "histogram2d": [
           {
            "colorbar": {
             "outlinewidth": 0,
             "ticks": ""
            },
            "colorscale": [
             [
              0,
              "#0d0887"
             ],
             [
              0.1111111111111111,
              "#46039f"
             ],
             [
              0.2222222222222222,
              "#7201a8"
             ],
             [
              0.3333333333333333,
              "#9c179e"
             ],
             [
              0.4444444444444444,
              "#bd3786"
             ],
             [
              0.5555555555555556,
              "#d8576b"
             ],
             [
              0.6666666666666666,
              "#ed7953"
             ],
             [
              0.7777777777777778,
              "#fb9f3a"
             ],
             [
              0.8888888888888888,
              "#fdca26"
             ],
             [
              1,
              "#f0f921"
             ]
            ],
            "type": "histogram2d"
           }
          ],
          "histogram2dcontour": [
           {
            "colorbar": {
             "outlinewidth": 0,
             "ticks": ""
            },
            "colorscale": [
             [
              0,
              "#0d0887"
             ],
             [
              0.1111111111111111,
              "#46039f"
             ],
             [
              0.2222222222222222,
              "#7201a8"
             ],
             [
              0.3333333333333333,
              "#9c179e"
             ],
             [
              0.4444444444444444,
              "#bd3786"
             ],
             [
              0.5555555555555556,
              "#d8576b"
             ],
             [
              0.6666666666666666,
              "#ed7953"
             ],
             [
              0.7777777777777778,
              "#fb9f3a"
             ],
             [
              0.8888888888888888,
              "#fdca26"
             ],
             [
              1,
              "#f0f921"
             ]
            ],
            "type": "histogram2dcontour"
           }
          ],
          "mesh3d": [
           {
            "colorbar": {
             "outlinewidth": 0,
             "ticks": ""
            },
            "type": "mesh3d"
           }
          ],
          "parcoords": [
           {
            "line": {
             "colorbar": {
              "outlinewidth": 0,
              "ticks": ""
             }
            },
            "type": "parcoords"
           }
          ],
          "pie": [
           {
            "automargin": true,
            "type": "pie"
           }
          ],
          "scatter": [
           {
            "fillpattern": {
             "fillmode": "overlay",
             "size": 10,
             "solidity": 0.2
            },
            "type": "scatter"
           }
          ],
          "scatter3d": [
           {
            "line": {
             "colorbar": {
              "outlinewidth": 0,
              "ticks": ""
             }
            },
            "marker": {
             "colorbar": {
              "outlinewidth": 0,
              "ticks": ""
             }
            },
            "type": "scatter3d"
           }
          ],
          "scattercarpet": [
           {
            "marker": {
             "colorbar": {
              "outlinewidth": 0,
              "ticks": ""
             }
            },
            "type": "scattercarpet"
           }
          ],
          "scattergeo": [
           {
            "marker": {
             "colorbar": {
              "outlinewidth": 0,
              "ticks": ""
             }
            },
            "type": "scattergeo"
           }
          ],
          "scattergl": [
           {
            "marker": {
             "colorbar": {
              "outlinewidth": 0,
              "ticks": ""
             }
            },
            "type": "scattergl"
           }
          ],
          "scattermap": [
           {
            "marker": {
             "colorbar": {
              "outlinewidth": 0,
              "ticks": ""
             }
            },
            "type": "scattermap"
           }
          ],
          "scattermapbox": [
           {
            "marker": {
             "colorbar": {
              "outlinewidth": 0,
              "ticks": ""
             }
            },
            "type": "scattermapbox"
           }
          ],
          "scatterpolar": [
           {
            "marker": {
             "colorbar": {
              "outlinewidth": 0,
              "ticks": ""
             }
            },
            "type": "scatterpolar"
           }
          ],
          "scatterpolargl": [
           {
            "marker": {
             "colorbar": {
              "outlinewidth": 0,
              "ticks": ""
             }
            },
            "type": "scatterpolargl"
           }
          ],
          "scatterternary": [
           {
            "marker": {
             "colorbar": {
              "outlinewidth": 0,
              "ticks": ""
             }
            },
            "type": "scatterternary"
           }
          ],
          "surface": [
           {
            "colorbar": {
             "outlinewidth": 0,
             "ticks": ""
            },
            "colorscale": [
             [
              0,
              "#0d0887"
             ],
             [
              0.1111111111111111,
              "#46039f"
             ],
             [
              0.2222222222222222,
              "#7201a8"
             ],
             [
              0.3333333333333333,
              "#9c179e"
             ],
             [
              0.4444444444444444,
              "#bd3786"
             ],
             [
              0.5555555555555556,
              "#d8576b"
             ],
             [
              0.6666666666666666,
              "#ed7953"
             ],
             [
              0.7777777777777778,
              "#fb9f3a"
             ],
             [
              0.8888888888888888,
              "#fdca26"
             ],
             [
              1,
              "#f0f921"
             ]
            ],
            "type": "surface"
           }
          ],
          "table": [
           {
            "cells": {
             "fill": {
              "color": "#EBF0F8"
             },
             "line": {
              "color": "white"
             }
            },
            "header": {
             "fill": {
              "color": "#C8D4E3"
             },
             "line": {
              "color": "white"
             }
            },
            "type": "table"
           }
          ]
         },
         "layout": {
          "annotationdefaults": {
           "arrowcolor": "#2a3f5f",
           "arrowhead": 0,
           "arrowwidth": 1
          },
          "autotypenumbers": "strict",
          "coloraxis": {
           "colorbar": {
            "outlinewidth": 0,
            "ticks": ""
           }
          },
          "colorscale": {
           "diverging": [
            [
             0,
             "#8e0152"
            ],
            [
             0.1,
             "#c51b7d"
            ],
            [
             0.2,
             "#de77ae"
            ],
            [
             0.3,
             "#f1b6da"
            ],
            [
             0.4,
             "#fde0ef"
            ],
            [
             0.5,
             "#f7f7f7"
            ],
            [
             0.6,
             "#e6f5d0"
            ],
            [
             0.7,
             "#b8e186"
            ],
            [
             0.8,
             "#7fbc41"
            ],
            [
             0.9,
             "#4d9221"
            ],
            [
             1,
             "#276419"
            ]
           ],
           "sequential": [
            [
             0,
             "#0d0887"
            ],
            [
             0.1111111111111111,
             "#46039f"
            ],
            [
             0.2222222222222222,
             "#7201a8"
            ],
            [
             0.3333333333333333,
             "#9c179e"
            ],
            [
             0.4444444444444444,
             "#bd3786"
            ],
            [
             0.5555555555555556,
             "#d8576b"
            ],
            [
             0.6666666666666666,
             "#ed7953"
            ],
            [
             0.7777777777777778,
             "#fb9f3a"
            ],
            [
             0.8888888888888888,
             "#fdca26"
            ],
            [
             1,
             "#f0f921"
            ]
           ],
           "sequentialminus": [
            [
             0,
             "#0d0887"
            ],
            [
             0.1111111111111111,
             "#46039f"
            ],
            [
             0.2222222222222222,
             "#7201a8"
            ],
            [
             0.3333333333333333,
             "#9c179e"
            ],
            [
             0.4444444444444444,
             "#bd3786"
            ],
            [
             0.5555555555555556,
             "#d8576b"
            ],
            [
             0.6666666666666666,
             "#ed7953"
            ],
            [
             0.7777777777777778,
             "#fb9f3a"
            ],
            [
             0.8888888888888888,
             "#fdca26"
            ],
            [
             1,
             "#f0f921"
            ]
           ]
          },
          "colorway": [
           "#636efa",
           "#EF553B",
           "#00cc96",
           "#ab63fa",
           "#FFA15A",
           "#19d3f3",
           "#FF6692",
           "#B6E880",
           "#FF97FF",
           "#FECB52"
          ],
          "font": {
           "color": "#2a3f5f"
          },
          "geo": {
           "bgcolor": "white",
           "lakecolor": "white",
           "landcolor": "#E5ECF6",
           "showlakes": true,
           "showland": true,
           "subunitcolor": "white"
          },
          "hoverlabel": {
           "align": "left"
          },
          "hovermode": "closest",
          "mapbox": {
           "style": "light"
          },
          "paper_bgcolor": "white",
          "plot_bgcolor": "#E5ECF6",
          "polar": {
           "angularaxis": {
            "gridcolor": "white",
            "linecolor": "white",
            "ticks": ""
           },
           "bgcolor": "#E5ECF6",
           "radialaxis": {
            "gridcolor": "white",
            "linecolor": "white",
            "ticks": ""
           }
          },
          "scene": {
           "xaxis": {
            "backgroundcolor": "#E5ECF6",
            "gridcolor": "white",
            "gridwidth": 2,
            "linecolor": "white",
            "showbackground": true,
            "ticks": "",
            "zerolinecolor": "white"
           },
           "yaxis": {
            "backgroundcolor": "#E5ECF6",
            "gridcolor": "white",
            "gridwidth": 2,
            "linecolor": "white",
            "showbackground": true,
            "ticks": "",
            "zerolinecolor": "white"
           },
           "zaxis": {
            "backgroundcolor": "#E5ECF6",
            "gridcolor": "white",
            "gridwidth": 2,
            "linecolor": "white",
            "showbackground": true,
            "ticks": "",
            "zerolinecolor": "white"
           }
          },
          "shapedefaults": {
           "line": {
            "color": "#2a3f5f"
           }
          },
          "ternary": {
           "aaxis": {
            "gridcolor": "white",
            "linecolor": "white",
            "ticks": ""
           },
           "baxis": {
            "gridcolor": "white",
            "linecolor": "white",
            "ticks": ""
           },
           "bgcolor": "#E5ECF6",
           "caxis": {
            "gridcolor": "white",
            "linecolor": "white",
            "ticks": ""
           }
          },
          "title": {
           "x": 0.05
          },
          "xaxis": {
           "automargin": true,
           "gridcolor": "white",
           "linecolor": "white",
           "ticks": "",
           "title": {
            "standoff": 15
           },
           "zerolinecolor": "white",
           "zerolinewidth": 2
          },
          "yaxis": {
           "automargin": true,
           "gridcolor": "white",
           "linecolor": "white",
           "ticks": "",
           "title": {
            "standoff": 15
           },
           "zerolinecolor": "white",
           "zerolinewidth": 2
          }
         }
        },
        "title": {
         "text": "Strike Rate Analysis"
        },
        "width": 1700,
        "xaxis": {
         "title": {
          "text": "Strike Rates"
         }
        }
       }
      }
     },
     "metadata": {},
     "output_type": "display_data"
    }
   ],
   "source": [
    "# Plot Histogram\n",
    "\n",
    "trace=go.Histogram(\n",
    "    x=sr['batsman_runs'],\n",
    "    xbins={'size': 2, 'start':50, 'end':100}\n",
    ")\n",
    "\n",
    "data=[trace]\n",
    "\n",
    "layout = go.Layout(\n",
    "            title= 'Strike Rate Analysis',\n",
    "            xaxis={\n",
    "                'title': 'Strike Rates'\n",
    "            },\n",
    "    )\n",
    "    \n",
    "fig = go.Figure(data, layout).update_layout(\n",
    "        autosize=False,  \n",
    "        width=1700,      \n",
    "        height=900,      \n",
    "    )\n",
    "\n",
    "fig.show()"
   ]
  },
  {
   "cell_type": "markdown",
   "id": "4f3d72aa",
   "metadata": {},
   "source": [
    "## HeatMaps"
   ]
  },
  {
   "cell_type": "code",
   "execution_count": 161,
   "id": "4454f946",
   "metadata": {},
   "outputs": [
    {
     "data": {
      "text/html": [
       "<div>\n",
       "<style scoped>\n",
       "    .dataframe tbody tr th:only-of-type {\n",
       "        vertical-align: middle;\n",
       "    }\n",
       "\n",
       "    .dataframe tbody tr th {\n",
       "        vertical-align: top;\n",
       "    }\n",
       "\n",
       "    .dataframe thead th {\n",
       "        text-align: right;\n",
       "    }\n",
       "</style>\n",
       "<table border=\"1\" class=\"dataframe\">\n",
       "  <thead>\n",
       "    <tr style=\"text-align: right;\">\n",
       "      <th></th>\n",
       "      <th>batting_team</th>\n",
       "      <th>over</th>\n",
       "      <th>batsman_runs</th>\n",
       "    </tr>\n",
       "  </thead>\n",
       "  <tbody>\n",
       "    <tr>\n",
       "      <th>0</th>\n",
       "      <td>Chennai Super Kings</td>\n",
       "      <td>1</td>\n",
       "      <td>5</td>\n",
       "    </tr>\n",
       "    <tr>\n",
       "      <th>1</th>\n",
       "      <td>Chennai Super Kings</td>\n",
       "      <td>2</td>\n",
       "      <td>17</td>\n",
       "    </tr>\n",
       "    <tr>\n",
       "      <th>2</th>\n",
       "      <td>Chennai Super Kings</td>\n",
       "      <td>3</td>\n",
       "      <td>37</td>\n",
       "    </tr>\n",
       "    <tr>\n",
       "      <th>3</th>\n",
       "      <td>Chennai Super Kings</td>\n",
       "      <td>4</td>\n",
       "      <td>34</td>\n",
       "    </tr>\n",
       "    <tr>\n",
       "      <th>4</th>\n",
       "      <td>Chennai Super Kings</td>\n",
       "      <td>5</td>\n",
       "      <td>41</td>\n",
       "    </tr>\n",
       "    <tr>\n",
       "      <th>...</th>\n",
       "      <td>...</td>\n",
       "      <td>...</td>\n",
       "      <td>...</td>\n",
       "    </tr>\n",
       "    <tr>\n",
       "      <th>271</th>\n",
       "      <td>Sunrisers Hyderabad</td>\n",
       "      <td>16</td>\n",
       "      <td>22</td>\n",
       "    </tr>\n",
       "    <tr>\n",
       "      <th>272</th>\n",
       "      <td>Sunrisers Hyderabad</td>\n",
       "      <td>17</td>\n",
       "      <td>18</td>\n",
       "    </tr>\n",
       "    <tr>\n",
       "      <th>273</th>\n",
       "      <td>Sunrisers Hyderabad</td>\n",
       "      <td>18</td>\n",
       "      <td>37</td>\n",
       "    </tr>\n",
       "    <tr>\n",
       "      <th>274</th>\n",
       "      <td>Sunrisers Hyderabad</td>\n",
       "      <td>19</td>\n",
       "      <td>42</td>\n",
       "    </tr>\n",
       "    <tr>\n",
       "      <th>275</th>\n",
       "      <td>Sunrisers Hyderabad</td>\n",
       "      <td>20</td>\n",
       "      <td>28</td>\n",
       "    </tr>\n",
       "  </tbody>\n",
       "</table>\n",
       "<p>276 rows × 3 columns</p>\n",
       "</div>"
      ],
      "text/plain": [
       "            batting_team  over  batsman_runs\n",
       "0    Chennai Super Kings     1             5\n",
       "1    Chennai Super Kings     2            17\n",
       "2    Chennai Super Kings     3            37\n",
       "3    Chennai Super Kings     4            34\n",
       "4    Chennai Super Kings     5            41\n",
       "..                   ...   ...           ...\n",
       "271  Sunrisers Hyderabad    16            22\n",
       "272  Sunrisers Hyderabad    17            18\n",
       "273  Sunrisers Hyderabad    18            37\n",
       "274  Sunrisers Hyderabad    19            42\n",
       "275  Sunrisers Hyderabad    20            28\n",
       "\n",
       "[276 rows x 3 columns]"
      ]
     },
     "execution_count": 161,
     "metadata": {},
     "output_type": "execute_result"
    }
   ],
   "source": [
    "six = delivery[delivery['batsman_runs'] == 6]\n",
    "six = six.groupby(['batting_team','over'])['batsman_runs'].count().reset_index()\n",
    "\n",
    "six"
   ]
  },
  {
   "cell_type": "code",
   "execution_count": 162,
   "id": "0509e039",
   "metadata": {},
   "outputs": [
    {
     "data": {
      "application/vnd.plotly.v1+json": {
       "config": {
        "plotlyServerURL": "https://plot.ly"
       },
       "data": [
        {
         "type": "heatmap",
         "x": [
          "Chennai Super Kings",
          "Chennai Super Kings",
          "Chennai Super Kings",
          "Chennai Super Kings",
          "Chennai Super Kings",
          "Chennai Super Kings",
          "Chennai Super Kings",
          "Chennai Super Kings",
          "Chennai Super Kings",
          "Chennai Super Kings",
          "Chennai Super Kings",
          "Chennai Super Kings",
          "Chennai Super Kings",
          "Chennai Super Kings",
          "Chennai Super Kings",
          "Chennai Super Kings",
          "Chennai Super Kings",
          "Chennai Super Kings",
          "Chennai Super Kings",
          "Chennai Super Kings",
          "Deccan Chargers",
          "Deccan Chargers",
          "Deccan Chargers",
          "Deccan Chargers",
          "Deccan Chargers",
          "Deccan Chargers",
          "Deccan Chargers",
          "Deccan Chargers",
          "Deccan Chargers",
          "Deccan Chargers",
          "Deccan Chargers",
          "Deccan Chargers",
          "Deccan Chargers",
          "Deccan Chargers",
          "Deccan Chargers",
          "Deccan Chargers",
          "Deccan Chargers",
          "Deccan Chargers",
          "Deccan Chargers",
          "Deccan Chargers",
          "Delhi Daredevils",
          "Delhi Daredevils",
          "Delhi Daredevils",
          "Delhi Daredevils",
          "Delhi Daredevils",
          "Delhi Daredevils",
          "Delhi Daredevils",
          "Delhi Daredevils",
          "Delhi Daredevils",
          "Delhi Daredevils",
          "Delhi Daredevils",
          "Delhi Daredevils",
          "Delhi Daredevils",
          "Delhi Daredevils",
          "Delhi Daredevils",
          "Delhi Daredevils",
          "Delhi Daredevils",
          "Delhi Daredevils",
          "Delhi Daredevils",
          "Delhi Daredevils",
          "Gujarat Lions",
          "Gujarat Lions",
          "Gujarat Lions",
          "Gujarat Lions",
          "Gujarat Lions",
          "Gujarat Lions",
          "Gujarat Lions",
          "Gujarat Lions",
          "Gujarat Lions",
          "Gujarat Lions",
          "Gujarat Lions",
          "Gujarat Lions",
          "Gujarat Lions",
          "Gujarat Lions",
          "Gujarat Lions",
          "Gujarat Lions",
          "Gujarat Lions",
          "Gujarat Lions",
          "Gujarat Lions",
          "Gujarat Lions",
          "Kings XI Punjab",
          "Kings XI Punjab",
          "Kings XI Punjab",
          "Kings XI Punjab",
          "Kings XI Punjab",
          "Kings XI Punjab",
          "Kings XI Punjab",
          "Kings XI Punjab",
          "Kings XI Punjab",
          "Kings XI Punjab",
          "Kings XI Punjab",
          "Kings XI Punjab",
          "Kings XI Punjab",
          "Kings XI Punjab",
          "Kings XI Punjab",
          "Kings XI Punjab",
          "Kings XI Punjab",
          "Kings XI Punjab",
          "Kings XI Punjab",
          "Kings XI Punjab",
          "Kochi Tuskers Kerala",
          "Kochi Tuskers Kerala",
          "Kochi Tuskers Kerala",
          "Kochi Tuskers Kerala",
          "Kochi Tuskers Kerala",
          "Kochi Tuskers Kerala",
          "Kochi Tuskers Kerala",
          "Kochi Tuskers Kerala",
          "Kochi Tuskers Kerala",
          "Kochi Tuskers Kerala",
          "Kochi Tuskers Kerala",
          "Kochi Tuskers Kerala",
          "Kochi Tuskers Kerala",
          "Kochi Tuskers Kerala",
          "Kochi Tuskers Kerala",
          "Kochi Tuskers Kerala",
          "Kochi Tuskers Kerala",
          "Kochi Tuskers Kerala",
          "Kochi Tuskers Kerala",
          "Kolkata Knight Riders",
          "Kolkata Knight Riders",
          "Kolkata Knight Riders",
          "Kolkata Knight Riders",
          "Kolkata Knight Riders",
          "Kolkata Knight Riders",
          "Kolkata Knight Riders",
          "Kolkata Knight Riders",
          "Kolkata Knight Riders",
          "Kolkata Knight Riders",
          "Kolkata Knight Riders",
          "Kolkata Knight Riders",
          "Kolkata Knight Riders",
          "Kolkata Knight Riders",
          "Kolkata Knight Riders",
          "Kolkata Knight Riders",
          "Kolkata Knight Riders",
          "Kolkata Knight Riders",
          "Kolkata Knight Riders",
          "Kolkata Knight Riders",
          "Mumbai Indians",
          "Mumbai Indians",
          "Mumbai Indians",
          "Mumbai Indians",
          "Mumbai Indians",
          "Mumbai Indians",
          "Mumbai Indians",
          "Mumbai Indians",
          "Mumbai Indians",
          "Mumbai Indians",
          "Mumbai Indians",
          "Mumbai Indians",
          "Mumbai Indians",
          "Mumbai Indians",
          "Mumbai Indians",
          "Mumbai Indians",
          "Mumbai Indians",
          "Mumbai Indians",
          "Mumbai Indians",
          "Mumbai Indians",
          "Pune Warriors",
          "Pune Warriors",
          "Pune Warriors",
          "Pune Warriors",
          "Pune Warriors",
          "Pune Warriors",
          "Pune Warriors",
          "Pune Warriors",
          "Pune Warriors",
          "Pune Warriors",
          "Pune Warriors",
          "Pune Warriors",
          "Pune Warriors",
          "Pune Warriors",
          "Pune Warriors",
          "Pune Warriors",
          "Pune Warriors",
          "Pune Warriors",
          "Pune Warriors",
          "Pune Warriors",
          "Rajasthan Royals",
          "Rajasthan Royals",
          "Rajasthan Royals",
          "Rajasthan Royals",
          "Rajasthan Royals",
          "Rajasthan Royals",
          "Rajasthan Royals",
          "Rajasthan Royals",
          "Rajasthan Royals",
          "Rajasthan Royals",
          "Rajasthan Royals",
          "Rajasthan Royals",
          "Rajasthan Royals",
          "Rajasthan Royals",
          "Rajasthan Royals",
          "Rajasthan Royals",
          "Rajasthan Royals",
          "Rajasthan Royals",
          "Rajasthan Royals",
          "Rajasthan Royals",
          "Rising Pune Supergiant",
          "Rising Pune Supergiant",
          "Rising Pune Supergiant",
          "Rising Pune Supergiant",
          "Rising Pune Supergiant",
          "Rising Pune Supergiant",
          "Rising Pune Supergiant",
          "Rising Pune Supergiant",
          "Rising Pune Supergiant",
          "Rising Pune Supergiant",
          "Rising Pune Supergiant",
          "Rising Pune Supergiant",
          "Rising Pune Supergiant",
          "Rising Pune Supergiant",
          "Rising Pune Supergiant",
          "Rising Pune Supergiant",
          "Rising Pune Supergiant",
          "Rising Pune Supergiant",
          "Rising Pune Supergiants",
          "Rising Pune Supergiants",
          "Rising Pune Supergiants",
          "Rising Pune Supergiants",
          "Rising Pune Supergiants",
          "Rising Pune Supergiants",
          "Rising Pune Supergiants",
          "Rising Pune Supergiants",
          "Rising Pune Supergiants",
          "Rising Pune Supergiants",
          "Rising Pune Supergiants",
          "Rising Pune Supergiants",
          "Rising Pune Supergiants",
          "Rising Pune Supergiants",
          "Rising Pune Supergiants",
          "Rising Pune Supergiants",
          "Rising Pune Supergiants",
          "Rising Pune Supergiants",
          "Rising Pune Supergiants",
          "Royal Challengers Bangalore",
          "Royal Challengers Bangalore",
          "Royal Challengers Bangalore",
          "Royal Challengers Bangalore",
          "Royal Challengers Bangalore",
          "Royal Challengers Bangalore",
          "Royal Challengers Bangalore",
          "Royal Challengers Bangalore",
          "Royal Challengers Bangalore",
          "Royal Challengers Bangalore",
          "Royal Challengers Bangalore",
          "Royal Challengers Bangalore",
          "Royal Challengers Bangalore",
          "Royal Challengers Bangalore",
          "Royal Challengers Bangalore",
          "Royal Challengers Bangalore",
          "Royal Challengers Bangalore",
          "Royal Challengers Bangalore",
          "Royal Challengers Bangalore",
          "Royal Challengers Bangalore",
          "Sunrisers Hyderabad",
          "Sunrisers Hyderabad",
          "Sunrisers Hyderabad",
          "Sunrisers Hyderabad",
          "Sunrisers Hyderabad",
          "Sunrisers Hyderabad",
          "Sunrisers Hyderabad",
          "Sunrisers Hyderabad",
          "Sunrisers Hyderabad",
          "Sunrisers Hyderabad",
          "Sunrisers Hyderabad",
          "Sunrisers Hyderabad",
          "Sunrisers Hyderabad",
          "Sunrisers Hyderabad",
          "Sunrisers Hyderabad",
          "Sunrisers Hyderabad",
          "Sunrisers Hyderabad",
          "Sunrisers Hyderabad",
          "Sunrisers Hyderabad",
          "Sunrisers Hyderabad"
         ],
         "y": {
          "bdata": "AQIDBAUGBwgJCgsMDQ4PEBESExQBAgMEBQYHCAkKCwwNDg8QERITFAECAwQFBgcICQoLDA0ODxAREhMUAQIDBAUGBwgJCgsMDQ4PEBESExQBAgMEBQYHCAkKCwwNDg8QERITFAECAwQFBgcICQoLDA0ODxESExQBAgMEBQYHCAkKCwwNDg8QERITFAECAwQFBgcICQoLDA0ODxAREhMUAQIDBAUGBwgJCgsMDQ4PEBESExQBAgMEBQYHCAkKCwwNDg8QERITFAEDBAUGBwkKCwwNDg8QERITFAIDBAUGBwgJCgsMDQ4PEBESExQBAgMEBQYHCAkKCwwNDg8QERITFAECAwQFBgcICQoLDA0ODxAREhMU",
          "dtype": "i1"
         },
         "z": {
          "bdata": "BRElIikrFhkXFyQkIy0rLjM6NkQDFQsRGxYLDREODxoXFhQVJiUXEw4THikdGxQaIBgiJiUjHCs4LDsyBAYOCQsMCgYLCAUHBQgFBQcJCQQKExskHicTIyQdJSYvKTM7Jzk1PAIEAwMDAwICAQMBAwIDBAMEBQIKDRwjGSIaGRsVIiAqHygyNzQtIgkRFhwrMhIXIxYhMTMyNUI8VkhZBQYGBwcDBQoJBg0FCg0NEA0MEhMMBw0VFxgPGBQaHiEnJiIlLSIlGgECBQgGAQMIAwIHBAUFAgIOCwIBAQUFBAMBAQICAQEHBgYJAgkUHCgrKB0SIi8kLyQzNTZHPVJKRwMMEAgRCg0TDwwLCxMSIRYSJSoc",
          "dtype": "i1"
         }
        }
       ],
       "layout": {
        "autosize": false,
        "height": 900,
        "template": {
         "data": {
          "bar": [
           {
            "error_x": {
             "color": "#2a3f5f"
            },
            "error_y": {
             "color": "#2a3f5f"
            },
            "marker": {
             "line": {
              "color": "#E5ECF6",
              "width": 0.5
             },
             "pattern": {
              "fillmode": "overlay",
              "size": 10,
              "solidity": 0.2
             }
            },
            "type": "bar"
           }
          ],
          "barpolar": [
           {
            "marker": {
             "line": {
              "color": "#E5ECF6",
              "width": 0.5
             },
             "pattern": {
              "fillmode": "overlay",
              "size": 10,
              "solidity": 0.2
             }
            },
            "type": "barpolar"
           }
          ],
          "carpet": [
           {
            "aaxis": {
             "endlinecolor": "#2a3f5f",
             "gridcolor": "white",
             "linecolor": "white",
             "minorgridcolor": "white",
             "startlinecolor": "#2a3f5f"
            },
            "baxis": {
             "endlinecolor": "#2a3f5f",
             "gridcolor": "white",
             "linecolor": "white",
             "minorgridcolor": "white",
             "startlinecolor": "#2a3f5f"
            },
            "type": "carpet"
           }
          ],
          "choropleth": [
           {
            "colorbar": {
             "outlinewidth": 0,
             "ticks": ""
            },
            "type": "choropleth"
           }
          ],
          "contour": [
           {
            "colorbar": {
             "outlinewidth": 0,
             "ticks": ""
            },
            "colorscale": [
             [
              0,
              "#0d0887"
             ],
             [
              0.1111111111111111,
              "#46039f"
             ],
             [
              0.2222222222222222,
              "#7201a8"
             ],
             [
              0.3333333333333333,
              "#9c179e"
             ],
             [
              0.4444444444444444,
              "#bd3786"
             ],
             [
              0.5555555555555556,
              "#d8576b"
             ],
             [
              0.6666666666666666,
              "#ed7953"
             ],
             [
              0.7777777777777778,
              "#fb9f3a"
             ],
             [
              0.8888888888888888,
              "#fdca26"
             ],
             [
              1,
              "#f0f921"
             ]
            ],
            "type": "contour"
           }
          ],
          "contourcarpet": [
           {
            "colorbar": {
             "outlinewidth": 0,
             "ticks": ""
            },
            "type": "contourcarpet"
           }
          ],
          "heatmap": [
           {
            "colorbar": {
             "outlinewidth": 0,
             "ticks": ""
            },
            "colorscale": [
             [
              0,
              "#0d0887"
             ],
             [
              0.1111111111111111,
              "#46039f"
             ],
             [
              0.2222222222222222,
              "#7201a8"
             ],
             [
              0.3333333333333333,
              "#9c179e"
             ],
             [
              0.4444444444444444,
              "#bd3786"
             ],
             [
              0.5555555555555556,
              "#d8576b"
             ],
             [
              0.6666666666666666,
              "#ed7953"
             ],
             [
              0.7777777777777778,
              "#fb9f3a"
             ],
             [
              0.8888888888888888,
              "#fdca26"
             ],
             [
              1,
              "#f0f921"
             ]
            ],
            "type": "heatmap"
           }
          ],
          "histogram": [
           {
            "marker": {
             "pattern": {
              "fillmode": "overlay",
              "size": 10,
              "solidity": 0.2
             }
            },
            "type": "histogram"
           }
          ],
          "histogram2d": [
           {
            "colorbar": {
             "outlinewidth": 0,
             "ticks": ""
            },
            "colorscale": [
             [
              0,
              "#0d0887"
             ],
             [
              0.1111111111111111,
              "#46039f"
             ],
             [
              0.2222222222222222,
              "#7201a8"
             ],
             [
              0.3333333333333333,
              "#9c179e"
             ],
             [
              0.4444444444444444,
              "#bd3786"
             ],
             [
              0.5555555555555556,
              "#d8576b"
             ],
             [
              0.6666666666666666,
              "#ed7953"
             ],
             [
              0.7777777777777778,
              "#fb9f3a"
             ],
             [
              0.8888888888888888,
              "#fdca26"
             ],
             [
              1,
              "#f0f921"
             ]
            ],
            "type": "histogram2d"
           }
          ],
          "histogram2dcontour": [
           {
            "colorbar": {
             "outlinewidth": 0,
             "ticks": ""
            },
            "colorscale": [
             [
              0,
              "#0d0887"
             ],
             [
              0.1111111111111111,
              "#46039f"
             ],
             [
              0.2222222222222222,
              "#7201a8"
             ],
             [
              0.3333333333333333,
              "#9c179e"
             ],
             [
              0.4444444444444444,
              "#bd3786"
             ],
             [
              0.5555555555555556,
              "#d8576b"
             ],
             [
              0.6666666666666666,
              "#ed7953"
             ],
             [
              0.7777777777777778,
              "#fb9f3a"
             ],
             [
              0.8888888888888888,
              "#fdca26"
             ],
             [
              1,
              "#f0f921"
             ]
            ],
            "type": "histogram2dcontour"
           }
          ],
          "mesh3d": [
           {
            "colorbar": {
             "outlinewidth": 0,
             "ticks": ""
            },
            "type": "mesh3d"
           }
          ],
          "parcoords": [
           {
            "line": {
             "colorbar": {
              "outlinewidth": 0,
              "ticks": ""
             }
            },
            "type": "parcoords"
           }
          ],
          "pie": [
           {
            "automargin": true,
            "type": "pie"
           }
          ],
          "scatter": [
           {
            "fillpattern": {
             "fillmode": "overlay",
             "size": 10,
             "solidity": 0.2
            },
            "type": "scatter"
           }
          ],
          "scatter3d": [
           {
            "line": {
             "colorbar": {
              "outlinewidth": 0,
              "ticks": ""
             }
            },
            "marker": {
             "colorbar": {
              "outlinewidth": 0,
              "ticks": ""
             }
            },
            "type": "scatter3d"
           }
          ],
          "scattercarpet": [
           {
            "marker": {
             "colorbar": {
              "outlinewidth": 0,
              "ticks": ""
             }
            },
            "type": "scattercarpet"
           }
          ],
          "scattergeo": [
           {
            "marker": {
             "colorbar": {
              "outlinewidth": 0,
              "ticks": ""
             }
            },
            "type": "scattergeo"
           }
          ],
          "scattergl": [
           {
            "marker": {
             "colorbar": {
              "outlinewidth": 0,
              "ticks": ""
             }
            },
            "type": "scattergl"
           }
          ],
          "scattermap": [
           {
            "marker": {
             "colorbar": {
              "outlinewidth": 0,
              "ticks": ""
             }
            },
            "type": "scattermap"
           }
          ],
          "scattermapbox": [
           {
            "marker": {
             "colorbar": {
              "outlinewidth": 0,
              "ticks": ""
             }
            },
            "type": "scattermapbox"
           }
          ],
          "scatterpolar": [
           {
            "marker": {
             "colorbar": {
              "outlinewidth": 0,
              "ticks": ""
             }
            },
            "type": "scatterpolar"
           }
          ],
          "scatterpolargl": [
           {
            "marker": {
             "colorbar": {
              "outlinewidth": 0,
              "ticks": ""
             }
            },
            "type": "scatterpolargl"
           }
          ],
          "scatterternary": [
           {
            "marker": {
             "colorbar": {
              "outlinewidth": 0,
              "ticks": ""
             }
            },
            "type": "scatterternary"
           }
          ],
          "surface": [
           {
            "colorbar": {
             "outlinewidth": 0,
             "ticks": ""
            },
            "colorscale": [
             [
              0,
              "#0d0887"
             ],
             [
              0.1111111111111111,
              "#46039f"
             ],
             [
              0.2222222222222222,
              "#7201a8"
             ],
             [
              0.3333333333333333,
              "#9c179e"
             ],
             [
              0.4444444444444444,
              "#bd3786"
             ],
             [
              0.5555555555555556,
              "#d8576b"
             ],
             [
              0.6666666666666666,
              "#ed7953"
             ],
             [
              0.7777777777777778,
              "#fb9f3a"
             ],
             [
              0.8888888888888888,
              "#fdca26"
             ],
             [
              1,
              "#f0f921"
             ]
            ],
            "type": "surface"
           }
          ],
          "table": [
           {
            "cells": {
             "fill": {
              "color": "#EBF0F8"
             },
             "line": {
              "color": "white"
             }
            },
            "header": {
             "fill": {
              "color": "#C8D4E3"
             },
             "line": {
              "color": "white"
             }
            },
            "type": "table"
           }
          ]
         },
         "layout": {
          "annotationdefaults": {
           "arrowcolor": "#2a3f5f",
           "arrowhead": 0,
           "arrowwidth": 1
          },
          "autotypenumbers": "strict",
          "coloraxis": {
           "colorbar": {
            "outlinewidth": 0,
            "ticks": ""
           }
          },
          "colorscale": {
           "diverging": [
            [
             0,
             "#8e0152"
            ],
            [
             0.1,
             "#c51b7d"
            ],
            [
             0.2,
             "#de77ae"
            ],
            [
             0.3,
             "#f1b6da"
            ],
            [
             0.4,
             "#fde0ef"
            ],
            [
             0.5,
             "#f7f7f7"
            ],
            [
             0.6,
             "#e6f5d0"
            ],
            [
             0.7,
             "#b8e186"
            ],
            [
             0.8,
             "#7fbc41"
            ],
            [
             0.9,
             "#4d9221"
            ],
            [
             1,
             "#276419"
            ]
           ],
           "sequential": [
            [
             0,
             "#0d0887"
            ],
            [
             0.1111111111111111,
             "#46039f"
            ],
            [
             0.2222222222222222,
             "#7201a8"
            ],
            [
             0.3333333333333333,
             "#9c179e"
            ],
            [
             0.4444444444444444,
             "#bd3786"
            ],
            [
             0.5555555555555556,
             "#d8576b"
            ],
            [
             0.6666666666666666,
             "#ed7953"
            ],
            [
             0.7777777777777778,
             "#fb9f3a"
            ],
            [
             0.8888888888888888,
             "#fdca26"
            ],
            [
             1,
             "#f0f921"
            ]
           ],
           "sequentialminus": [
            [
             0,
             "#0d0887"
            ],
            [
             0.1111111111111111,
             "#46039f"
            ],
            [
             0.2222222222222222,
             "#7201a8"
            ],
            [
             0.3333333333333333,
             "#9c179e"
            ],
            [
             0.4444444444444444,
             "#bd3786"
            ],
            [
             0.5555555555555556,
             "#d8576b"
            ],
            [
             0.6666666666666666,
             "#ed7953"
            ],
            [
             0.7777777777777778,
             "#fb9f3a"
            ],
            [
             0.8888888888888888,
             "#fdca26"
            ],
            [
             1,
             "#f0f921"
            ]
           ]
          },
          "colorway": [
           "#636efa",
           "#EF553B",
           "#00cc96",
           "#ab63fa",
           "#FFA15A",
           "#19d3f3",
           "#FF6692",
           "#B6E880",
           "#FF97FF",
           "#FECB52"
          ],
          "font": {
           "color": "#2a3f5f"
          },
          "geo": {
           "bgcolor": "white",
           "lakecolor": "white",
           "landcolor": "#E5ECF6",
           "showlakes": true,
           "showland": true,
           "subunitcolor": "white"
          },
          "hoverlabel": {
           "align": "left"
          },
          "hovermode": "closest",
          "mapbox": {
           "style": "light"
          },
          "paper_bgcolor": "white",
          "plot_bgcolor": "#E5ECF6",
          "polar": {
           "angularaxis": {
            "gridcolor": "white",
            "linecolor": "white",
            "ticks": ""
           },
           "bgcolor": "#E5ECF6",
           "radialaxis": {
            "gridcolor": "white",
            "linecolor": "white",
            "ticks": ""
           }
          },
          "scene": {
           "xaxis": {
            "backgroundcolor": "#E5ECF6",
            "gridcolor": "white",
            "gridwidth": 2,
            "linecolor": "white",
            "showbackground": true,
            "ticks": "",
            "zerolinecolor": "white"
           },
           "yaxis": {
            "backgroundcolor": "#E5ECF6",
            "gridcolor": "white",
            "gridwidth": 2,
            "linecolor": "white",
            "showbackground": true,
            "ticks": "",
            "zerolinecolor": "white"
           },
           "zaxis": {
            "backgroundcolor": "#E5ECF6",
            "gridcolor": "white",
            "gridwidth": 2,
            "linecolor": "white",
            "showbackground": true,
            "ticks": "",
            "zerolinecolor": "white"
           }
          },
          "shapedefaults": {
           "line": {
            "color": "#2a3f5f"
           }
          },
          "ternary": {
           "aaxis": {
            "gridcolor": "white",
            "linecolor": "white",
            "ticks": ""
           },
           "baxis": {
            "gridcolor": "white",
            "linecolor": "white",
            "ticks": ""
           },
           "bgcolor": "#E5ECF6",
           "caxis": {
            "gridcolor": "white",
            "linecolor": "white",
            "ticks": ""
           }
          },
          "title": {
           "x": 0.05
          },
          "xaxis": {
           "automargin": true,
           "gridcolor": "white",
           "linecolor": "white",
           "ticks": "",
           "title": {
            "standoff": 15
           },
           "zerolinecolor": "white",
           "zerolinewidth": 2
          },
          "yaxis": {
           "automargin": true,
           "gridcolor": "white",
           "linecolor": "white",
           "ticks": "",
           "title": {
            "standoff": 15
           },
           "zerolinecolor": "white",
           "zerolinewidth": 2
          }
         }
        },
        "title": {
         "text": "Strike Rate Analysis"
        },
        "width": 1700
       }
      }
     },
     "metadata": {},
     "output_type": "display_data"
    }
   ],
   "source": [
    "# Plot Heatmap\n",
    "\n",
    "trace = go.Heatmap(\n",
    "    x=six['batting_team'],\n",
    "    y=six['over'],\n",
    "    z=six['batsman_runs']\n",
    ")\n",
    "\n",
    "data=[trace]\n",
    "\n",
    "layout = go.Layout(\n",
    "            title= 'Strike Rate Analysis',\n",
    "            \n",
    "    )\n",
    "    \n",
    "fig = go.Figure(data, layout).update_layout(\n",
    "        autosize=False,  \n",
    "        width=1700,      \n",
    "        height=900,      \n",
    "    )\n",
    "\n",
    "fig.show()"
   ]
  },
  {
   "cell_type": "code",
   "execution_count": 163,
   "id": "adc61469",
   "metadata": {},
   "outputs": [
    {
     "data": {
      "text/html": [
       "<div>\n",
       "<style scoped>\n",
       "    .dataframe tbody tr th:only-of-type {\n",
       "        vertical-align: middle;\n",
       "    }\n",
       "\n",
       "    .dataframe tbody tr th {\n",
       "        vertical-align: top;\n",
       "    }\n",
       "\n",
       "    .dataframe thead th {\n",
       "        text-align: right;\n",
       "    }\n",
       "</style>\n",
       "<table border=\"1\" class=\"dataframe\">\n",
       "  <thead>\n",
       "    <tr style=\"text-align: right;\">\n",
       "      <th></th>\n",
       "      <th>batting_team</th>\n",
       "      <th>over</th>\n",
       "      <th>batsman_runs</th>\n",
       "    </tr>\n",
       "  </thead>\n",
       "  <tbody>\n",
       "    <tr>\n",
       "      <th>0</th>\n",
       "      <td>Chennai Super Kings</td>\n",
       "      <td>1</td>\n",
       "      <td>524</td>\n",
       "    </tr>\n",
       "    <tr>\n",
       "      <th>1</th>\n",
       "      <td>Chennai Super Kings</td>\n",
       "      <td>2</td>\n",
       "      <td>462</td>\n",
       "    </tr>\n",
       "    <tr>\n",
       "      <th>2</th>\n",
       "      <td>Chennai Super Kings</td>\n",
       "      <td>3</td>\n",
       "      <td>432</td>\n",
       "    </tr>\n",
       "    <tr>\n",
       "      <th>3</th>\n",
       "      <td>Chennai Super Kings</td>\n",
       "      <td>4</td>\n",
       "      <td>421</td>\n",
       "    </tr>\n",
       "    <tr>\n",
       "      <th>4</th>\n",
       "      <td>Chennai Super Kings</td>\n",
       "      <td>5</td>\n",
       "      <td>376</td>\n",
       "    </tr>\n",
       "    <tr>\n",
       "      <th>...</th>\n",
       "      <td>...</td>\n",
       "      <td>...</td>\n",
       "      <td>...</td>\n",
       "    </tr>\n",
       "    <tr>\n",
       "      <th>275</th>\n",
       "      <td>Sunrisers Hyderabad</td>\n",
       "      <td>16</td>\n",
       "      <td>144</td>\n",
       "    </tr>\n",
       "    <tr>\n",
       "      <th>276</th>\n",
       "      <td>Sunrisers Hyderabad</td>\n",
       "      <td>17</td>\n",
       "      <td>157</td>\n",
       "    </tr>\n",
       "    <tr>\n",
       "      <th>277</th>\n",
       "      <td>Sunrisers Hyderabad</td>\n",
       "      <td>18</td>\n",
       "      <td>128</td>\n",
       "    </tr>\n",
       "    <tr>\n",
       "      <th>278</th>\n",
       "      <td>Sunrisers Hyderabad</td>\n",
       "      <td>19</td>\n",
       "      <td>130</td>\n",
       "    </tr>\n",
       "    <tr>\n",
       "      <th>279</th>\n",
       "      <td>Sunrisers Hyderabad</td>\n",
       "      <td>20</td>\n",
       "      <td>117</td>\n",
       "    </tr>\n",
       "  </tbody>\n",
       "</table>\n",
       "<p>280 rows × 3 columns</p>\n",
       "</div>"
      ],
      "text/plain": [
       "            batting_team  over  batsman_runs\n",
       "0    Chennai Super Kings     1           524\n",
       "1    Chennai Super Kings     2           462\n",
       "2    Chennai Super Kings     3           432\n",
       "3    Chennai Super Kings     4           421\n",
       "4    Chennai Super Kings     5           376\n",
       "..                   ...   ...           ...\n",
       "275  Sunrisers Hyderabad    16           144\n",
       "276  Sunrisers Hyderabad    17           157\n",
       "277  Sunrisers Hyderabad    18           128\n",
       "278  Sunrisers Hyderabad    19           130\n",
       "279  Sunrisers Hyderabad    20           117\n",
       "\n",
       "[280 rows x 3 columns]"
      ]
     },
     "execution_count": 163,
     "metadata": {},
     "output_type": "execute_result"
    }
   ],
   "source": [
    "dots = delivery[delivery['batsman_runs'] == 0]\n",
    "dots = dots.groupby(['batting_team','over'])['batsman_runs'].count().reset_index()\n",
    "\n",
    "dots"
   ]
  },
  {
   "cell_type": "code",
   "execution_count": 167,
   "id": "488b1dbd",
   "metadata": {},
   "outputs": [
    {
     "data": {
      "application/vnd.plotly.v1+json": {
       "config": {
        "plotlyServerURL": "https://plot.ly"
       },
       "data": [
        {
         "colorscale": [
          [
           0,
           "#440154"
          ],
          [
           0.1111111111111111,
           "#482878"
          ],
          [
           0.2222222222222222,
           "#3e4989"
          ],
          [
           0.3333333333333333,
           "#31688e"
          ],
          [
           0.4444444444444444,
           "#26828e"
          ],
          [
           0.5555555555555556,
           "#1f9e89"
          ],
          [
           0.6666666666666666,
           "#35b779"
          ],
          [
           0.7777777777777778,
           "#6ece58"
          ],
          [
           0.8888888888888888,
           "#b5de2b"
          ],
          [
           1,
           "#fde725"
          ]
         ],
         "text": [
          5,
          17,
          37,
          34,
          41,
          43,
          22,
          25,
          23,
          23,
          36,
          36,
          35,
          45,
          43,
          46,
          51,
          58,
          54,
          68,
          3,
          21,
          11,
          17,
          27,
          22,
          11,
          13,
          17,
          14,
          15,
          26,
          23,
          22,
          20,
          21,
          38,
          37,
          23,
          19,
          14,
          19,
          30,
          41,
          29,
          27,
          20,
          26,
          32,
          24,
          34,
          38,
          37,
          35,
          28,
          43,
          56,
          44,
          59,
          50,
          4,
          6,
          14,
          9,
          11,
          12,
          10,
          6,
          11,
          8,
          5,
          7,
          5,
          8,
          5,
          5,
          7,
          9,
          9,
          4,
          10,
          19,
          27,
          36,
          30,
          39,
          19,
          35,
          36,
          29,
          37,
          38,
          47,
          41,
          51,
          59,
          39,
          57,
          53,
          60,
          2,
          4,
          3,
          3,
          3,
          3,
          2,
          2,
          1,
          3,
          1,
          3,
          2,
          3,
          4,
          3,
          4,
          5,
          2,
          10,
          13,
          28,
          35,
          25,
          34,
          26,
          25,
          27,
          21,
          34,
          32,
          42,
          31,
          40,
          50,
          55,
          52,
          45,
          34,
          9,
          17,
          22,
          28,
          43,
          50,
          18,
          23,
          35,
          22,
          33,
          49,
          51,
          50,
          53,
          66,
          60,
          86,
          72,
          89,
          5,
          6,
          6,
          7,
          7,
          3,
          5,
          10,
          9,
          6,
          13,
          5,
          10,
          13,
          13,
          16,
          13,
          12,
          18,
          19,
          12,
          7,
          13,
          21,
          23,
          24,
          15,
          24,
          20,
          26,
          30,
          33,
          39,
          38,
          34,
          37,
          45,
          34,
          37,
          26,
          1,
          2,
          5,
          8,
          6,
          1,
          3,
          8,
          3,
          2,
          7,
          4,
          5,
          5,
          2,
          2,
          14,
          11,
          2,
          1,
          1,
          5,
          5,
          4,
          3,
          1,
          1,
          2,
          2,
          1,
          1,
          7,
          6,
          6,
          9,
          2,
          9,
          20,
          28,
          40,
          43,
          40,
          29,
          18,
          34,
          47,
          36,
          47,
          36,
          51,
          53,
          54,
          71,
          61,
          82,
          74,
          71,
          3,
          12,
          16,
          8,
          17,
          10,
          13,
          19,
          15,
          12,
          11,
          11,
          19,
          18,
          33,
          22,
          18,
          37,
          42,
          28
         ],
         "textfont": {
          "color": "white",
          "size": 12
         },
         "texttemplate": "%{text}",
         "type": "heatmap",
         "x": [
          "Chennai Super Kings",
          "Chennai Super Kings",
          "Chennai Super Kings",
          "Chennai Super Kings",
          "Chennai Super Kings",
          "Chennai Super Kings",
          "Chennai Super Kings",
          "Chennai Super Kings",
          "Chennai Super Kings",
          "Chennai Super Kings",
          "Chennai Super Kings",
          "Chennai Super Kings",
          "Chennai Super Kings",
          "Chennai Super Kings",
          "Chennai Super Kings",
          "Chennai Super Kings",
          "Chennai Super Kings",
          "Chennai Super Kings",
          "Chennai Super Kings",
          "Chennai Super Kings",
          "Deccan Chargers",
          "Deccan Chargers",
          "Deccan Chargers",
          "Deccan Chargers",
          "Deccan Chargers",
          "Deccan Chargers",
          "Deccan Chargers",
          "Deccan Chargers",
          "Deccan Chargers",
          "Deccan Chargers",
          "Deccan Chargers",
          "Deccan Chargers",
          "Deccan Chargers",
          "Deccan Chargers",
          "Deccan Chargers",
          "Deccan Chargers",
          "Deccan Chargers",
          "Deccan Chargers",
          "Deccan Chargers",
          "Deccan Chargers",
          "Delhi Daredevils",
          "Delhi Daredevils",
          "Delhi Daredevils",
          "Delhi Daredevils",
          "Delhi Daredevils",
          "Delhi Daredevils",
          "Delhi Daredevils",
          "Delhi Daredevils",
          "Delhi Daredevils",
          "Delhi Daredevils",
          "Delhi Daredevils",
          "Delhi Daredevils",
          "Delhi Daredevils",
          "Delhi Daredevils",
          "Delhi Daredevils",
          "Delhi Daredevils",
          "Delhi Daredevils",
          "Delhi Daredevils",
          "Delhi Daredevils",
          "Delhi Daredevils",
          "Gujarat Lions",
          "Gujarat Lions",
          "Gujarat Lions",
          "Gujarat Lions",
          "Gujarat Lions",
          "Gujarat Lions",
          "Gujarat Lions",
          "Gujarat Lions",
          "Gujarat Lions",
          "Gujarat Lions",
          "Gujarat Lions",
          "Gujarat Lions",
          "Gujarat Lions",
          "Gujarat Lions",
          "Gujarat Lions",
          "Gujarat Lions",
          "Gujarat Lions",
          "Gujarat Lions",
          "Gujarat Lions",
          "Gujarat Lions",
          "Kings XI Punjab",
          "Kings XI Punjab",
          "Kings XI Punjab",
          "Kings XI Punjab",
          "Kings XI Punjab",
          "Kings XI Punjab",
          "Kings XI Punjab",
          "Kings XI Punjab",
          "Kings XI Punjab",
          "Kings XI Punjab",
          "Kings XI Punjab",
          "Kings XI Punjab",
          "Kings XI Punjab",
          "Kings XI Punjab",
          "Kings XI Punjab",
          "Kings XI Punjab",
          "Kings XI Punjab",
          "Kings XI Punjab",
          "Kings XI Punjab",
          "Kings XI Punjab",
          "Kochi Tuskers Kerala",
          "Kochi Tuskers Kerala",
          "Kochi Tuskers Kerala",
          "Kochi Tuskers Kerala",
          "Kochi Tuskers Kerala",
          "Kochi Tuskers Kerala",
          "Kochi Tuskers Kerala",
          "Kochi Tuskers Kerala",
          "Kochi Tuskers Kerala",
          "Kochi Tuskers Kerala",
          "Kochi Tuskers Kerala",
          "Kochi Tuskers Kerala",
          "Kochi Tuskers Kerala",
          "Kochi Tuskers Kerala",
          "Kochi Tuskers Kerala",
          "Kochi Tuskers Kerala",
          "Kochi Tuskers Kerala",
          "Kochi Tuskers Kerala",
          "Kochi Tuskers Kerala",
          "Kolkata Knight Riders",
          "Kolkata Knight Riders",
          "Kolkata Knight Riders",
          "Kolkata Knight Riders",
          "Kolkata Knight Riders",
          "Kolkata Knight Riders",
          "Kolkata Knight Riders",
          "Kolkata Knight Riders",
          "Kolkata Knight Riders",
          "Kolkata Knight Riders",
          "Kolkata Knight Riders",
          "Kolkata Knight Riders",
          "Kolkata Knight Riders",
          "Kolkata Knight Riders",
          "Kolkata Knight Riders",
          "Kolkata Knight Riders",
          "Kolkata Knight Riders",
          "Kolkata Knight Riders",
          "Kolkata Knight Riders",
          "Kolkata Knight Riders",
          "Mumbai Indians",
          "Mumbai Indians",
          "Mumbai Indians",
          "Mumbai Indians",
          "Mumbai Indians",
          "Mumbai Indians",
          "Mumbai Indians",
          "Mumbai Indians",
          "Mumbai Indians",
          "Mumbai Indians",
          "Mumbai Indians",
          "Mumbai Indians",
          "Mumbai Indians",
          "Mumbai Indians",
          "Mumbai Indians",
          "Mumbai Indians",
          "Mumbai Indians",
          "Mumbai Indians",
          "Mumbai Indians",
          "Mumbai Indians",
          "Pune Warriors",
          "Pune Warriors",
          "Pune Warriors",
          "Pune Warriors",
          "Pune Warriors",
          "Pune Warriors",
          "Pune Warriors",
          "Pune Warriors",
          "Pune Warriors",
          "Pune Warriors",
          "Pune Warriors",
          "Pune Warriors",
          "Pune Warriors",
          "Pune Warriors",
          "Pune Warriors",
          "Pune Warriors",
          "Pune Warriors",
          "Pune Warriors",
          "Pune Warriors",
          "Pune Warriors",
          "Rajasthan Royals",
          "Rajasthan Royals",
          "Rajasthan Royals",
          "Rajasthan Royals",
          "Rajasthan Royals",
          "Rajasthan Royals",
          "Rajasthan Royals",
          "Rajasthan Royals",
          "Rajasthan Royals",
          "Rajasthan Royals",
          "Rajasthan Royals",
          "Rajasthan Royals",
          "Rajasthan Royals",
          "Rajasthan Royals",
          "Rajasthan Royals",
          "Rajasthan Royals",
          "Rajasthan Royals",
          "Rajasthan Royals",
          "Rajasthan Royals",
          "Rajasthan Royals",
          "Rising Pune Supergiant",
          "Rising Pune Supergiant",
          "Rising Pune Supergiant",
          "Rising Pune Supergiant",
          "Rising Pune Supergiant",
          "Rising Pune Supergiant",
          "Rising Pune Supergiant",
          "Rising Pune Supergiant",
          "Rising Pune Supergiant",
          "Rising Pune Supergiant",
          "Rising Pune Supergiant",
          "Rising Pune Supergiant",
          "Rising Pune Supergiant",
          "Rising Pune Supergiant",
          "Rising Pune Supergiant",
          "Rising Pune Supergiant",
          "Rising Pune Supergiant",
          "Rising Pune Supergiant",
          "Rising Pune Supergiants",
          "Rising Pune Supergiants",
          "Rising Pune Supergiants",
          "Rising Pune Supergiants",
          "Rising Pune Supergiants",
          "Rising Pune Supergiants",
          "Rising Pune Supergiants",
          "Rising Pune Supergiants",
          "Rising Pune Supergiants",
          "Rising Pune Supergiants",
          "Rising Pune Supergiants",
          "Rising Pune Supergiants",
          "Rising Pune Supergiants",
          "Rising Pune Supergiants",
          "Rising Pune Supergiants",
          "Rising Pune Supergiants",
          "Rising Pune Supergiants",
          "Rising Pune Supergiants",
          "Rising Pune Supergiants",
          "Royal Challengers Bangalore",
          "Royal Challengers Bangalore",
          "Royal Challengers Bangalore",
          "Royal Challengers Bangalore",
          "Royal Challengers Bangalore",
          "Royal Challengers Bangalore",
          "Royal Challengers Bangalore",
          "Royal Challengers Bangalore",
          "Royal Challengers Bangalore",
          "Royal Challengers Bangalore",
          "Royal Challengers Bangalore",
          "Royal Challengers Bangalore",
          "Royal Challengers Bangalore",
          "Royal Challengers Bangalore",
          "Royal Challengers Bangalore",
          "Royal Challengers Bangalore",
          "Royal Challengers Bangalore",
          "Royal Challengers Bangalore",
          "Royal Challengers Bangalore",
          "Royal Challengers Bangalore",
          "Sunrisers Hyderabad",
          "Sunrisers Hyderabad",
          "Sunrisers Hyderabad",
          "Sunrisers Hyderabad",
          "Sunrisers Hyderabad",
          "Sunrisers Hyderabad",
          "Sunrisers Hyderabad",
          "Sunrisers Hyderabad",
          "Sunrisers Hyderabad",
          "Sunrisers Hyderabad",
          "Sunrisers Hyderabad",
          "Sunrisers Hyderabad",
          "Sunrisers Hyderabad",
          "Sunrisers Hyderabad",
          "Sunrisers Hyderabad",
          "Sunrisers Hyderabad",
          "Sunrisers Hyderabad",
          "Sunrisers Hyderabad",
          "Sunrisers Hyderabad",
          "Sunrisers Hyderabad"
         ],
         "xaxis": "x",
         "y": {
          "bdata": "AQIDBAUGBwgJCgsMDQ4PEBESExQBAgMEBQYHCAkKCwwNDg8QERITFAECAwQFBgcICQoLDA0ODxAREhMUAQIDBAUGBwgJCgsMDQ4PEBESExQBAgMEBQYHCAkKCwwNDg8QERITFAECAwQFBgcICQoLDA0ODxESExQBAgMEBQYHCAkKCwwNDg8QERITFAECAwQFBgcICQoLDA0ODxAREhMUAQIDBAUGBwgJCgsMDQ4PEBESExQBAgMEBQYHCAkKCwwNDg8QERITFAEDBAUGBwkKCwwNDg8QERITFAIDBAUGBwgJCgsMDQ4PEBESExQBAgMEBQYHCAkKCwwNDg8QERITFAECAwQFBgcICQoLDA0ODxAREhMU",
          "dtype": "i1"
         },
         "yaxis": "y",
         "z": [
          5,
          17,
          37,
          34,
          41,
          43,
          22,
          25,
          23,
          23,
          36,
          36,
          35,
          45,
          43,
          46,
          51,
          58,
          54,
          68,
          3,
          21,
          11,
          17,
          27,
          22,
          11,
          13,
          17,
          14,
          15,
          26,
          23,
          22,
          20,
          21,
          38,
          37,
          23,
          19,
          14,
          19,
          30,
          41,
          29,
          27,
          20,
          26,
          32,
          24,
          34,
          38,
          37,
          35,
          28,
          43,
          56,
          44,
          59,
          50,
          4,
          6,
          14,
          9,
          11,
          12,
          10,
          6,
          11,
          8,
          5,
          7,
          5,
          8,
          5,
          5,
          7,
          9,
          9,
          4,
          10,
          19,
          27,
          36,
          30,
          39,
          19,
          35,
          36,
          29,
          37,
          38,
          47,
          41,
          51,
          59,
          39,
          57,
          53,
          60,
          2,
          4,
          3,
          3,
          3,
          3,
          2,
          2,
          1,
          3,
          1,
          3,
          2,
          3,
          4,
          3,
          4,
          5,
          2,
          10,
          13,
          28,
          35,
          25,
          34,
          26,
          25,
          27,
          21,
          34,
          32,
          42,
          31,
          40,
          50,
          55,
          52,
          45,
          34,
          9,
          17,
          22,
          28,
          43,
          50,
          18,
          23,
          35,
          22,
          33,
          49,
          51,
          50,
          53,
          66,
          60,
          86,
          72,
          89,
          5,
          6,
          6,
          7,
          7,
          3,
          5,
          10,
          9,
          6,
          13,
          5,
          10,
          13,
          13,
          16,
          13,
          12,
          18,
          19,
          12,
          7,
          13,
          21,
          23,
          24,
          15,
          24,
          20,
          26,
          30,
          33,
          39,
          38,
          34,
          37,
          45,
          34,
          37,
          26,
          1,
          2,
          5,
          8,
          6,
          1,
          3,
          8,
          3,
          2,
          7,
          4,
          5,
          5,
          2,
          2,
          14,
          11,
          2,
          1,
          1,
          5,
          5,
          4,
          3,
          1,
          1,
          2,
          2,
          1,
          1,
          7,
          6,
          6,
          9,
          2,
          9,
          20,
          28,
          40,
          43,
          40,
          29,
          18,
          34,
          47,
          36,
          47,
          36,
          51,
          53,
          54,
          71,
          61,
          82,
          74,
          71,
          3,
          12,
          16,
          8,
          17,
          10,
          13,
          19,
          15,
          12,
          11,
          11,
          19,
          18,
          33,
          22,
          18,
          37,
          42,
          28
         ]
        },
        {
         "colorscale": [
          [
           0,
           "#0d0887"
          ],
          [
           0.1111111111111111,
           "#46039f"
          ],
          [
           0.2222222222222222,
           "#7201a8"
          ],
          [
           0.3333333333333333,
           "#9c179e"
          ],
          [
           0.4444444444444444,
           "#bd3786"
          ],
          [
           0.5555555555555556,
           "#d8576b"
          ],
          [
           0.6666666666666666,
           "#ed7953"
          ],
          [
           0.7777777777777778,
           "#fb9f3a"
          ],
          [
           0.8888888888888888,
           "#fdca26"
          ],
          [
           1,
           "#f0f921"
          ]
         ],
         "text": [
          524,
          462,
          432,
          421,
          376,
          375,
          327,
          304,
          265,
          280,
          285,
          273,
          258,
          271,
          253,
          227,
          223,
          226,
          212,
          198,
          278,
          264,
          230,
          246,
          232,
          227,
          193,
          181,
          171,
          182,
          158,
          154,
          178,
          146,
          157,
          144,
          132,
          138,
          139,
          123,
          550,
          481,
          483,
          435,
          436,
          456,
          348,
          331,
          313,
          322,
          320,
          291,
          311,
          314,
          319,
          272,
          313,
          254,
          240,
          185,
          115,
          100,
          75,
          90,
          81,
          75,
          68,
          50,
          74,
          62,
          59,
          71,
          60,
          54,
          52,
          53,
          58,
          62,
          49,
          37,
          564,
          535,
          472,
          424,
          433,
          442,
          364,
          356,
          351,
          333,
          316,
          314,
          303,
          288,
          290,
          286,
          258,
          291,
          272,
          249,
          58,
          55,
          42,
          41,
          47,
          42,
          44,
          40,
          39,
          34,
          31,
          19,
          31,
          39,
          19,
          32,
          23,
          25,
          18,
          17,
          574,
          504,
          500,
          449,
          428,
          442,
          374,
          333,
          347,
          326,
          313,
          308,
          316,
          308,
          290,
          276,
          251,
          225,
          225,
          205,
          632,
          624,
          532,
          507,
          501,
          451,
          404,
          381,
          374,
          354,
          355,
          327,
          351,
          341,
          309,
          325,
          315,
          297,
          273,
          261,
          169,
          159,
          132,
          142,
          143,
          144,
          129,
          115,
          115,
          111,
          121,
          99,
          113,
          97,
          111,
          80,
          113,
          85,
          93,
          81,
          479,
          433,
          400,
          370,
          348,
          335,
          318,
          290,
          282,
          231,
          270,
          242,
          266,
          245,
          262,
          228,
          210,
          221,
          208,
          145,
          63,
          44,
          38,
          36,
          36,
          37,
          34,
          35,
          43,
          30,
          33,
          28,
          33,
          31,
          32,
          29,
          29,
          34,
          28,
          28,
          57,
          48,
          39,
          42,
          38,
          34,
          33,
          24,
          24,
          35,
          26,
          20,
          22,
          26,
          27,
          27,
          23,
          20,
          23,
          15,
          586,
          573,
          495,
          489,
          477,
          450,
          390,
          342,
          345,
          332,
          303,
          296,
          293,
          291,
          285,
          294,
          285,
          265,
          230,
          222,
          269,
          258,
          215,
          214,
          219,
          198,
          190,
          182,
          177,
          179,
          156,
          145,
          167,
          164,
          128,
          144,
          157,
          128,
          130,
          117
         ],
         "textfont": {
          "color": "white",
          "size": 12
         },
         "texttemplate": "%{text}",
         "type": "heatmap",
         "x": [
          "Chennai Super Kings",
          "Chennai Super Kings",
          "Chennai Super Kings",
          "Chennai Super Kings",
          "Chennai Super Kings",
          "Chennai Super Kings",
          "Chennai Super Kings",
          "Chennai Super Kings",
          "Chennai Super Kings",
          "Chennai Super Kings",
          "Chennai Super Kings",
          "Chennai Super Kings",
          "Chennai Super Kings",
          "Chennai Super Kings",
          "Chennai Super Kings",
          "Chennai Super Kings",
          "Chennai Super Kings",
          "Chennai Super Kings",
          "Chennai Super Kings",
          "Chennai Super Kings",
          "Deccan Chargers",
          "Deccan Chargers",
          "Deccan Chargers",
          "Deccan Chargers",
          "Deccan Chargers",
          "Deccan Chargers",
          "Deccan Chargers",
          "Deccan Chargers",
          "Deccan Chargers",
          "Deccan Chargers",
          "Deccan Chargers",
          "Deccan Chargers",
          "Deccan Chargers",
          "Deccan Chargers",
          "Deccan Chargers",
          "Deccan Chargers",
          "Deccan Chargers",
          "Deccan Chargers",
          "Deccan Chargers",
          "Deccan Chargers",
          "Delhi Daredevils",
          "Delhi Daredevils",
          "Delhi Daredevils",
          "Delhi Daredevils",
          "Delhi Daredevils",
          "Delhi Daredevils",
          "Delhi Daredevils",
          "Delhi Daredevils",
          "Delhi Daredevils",
          "Delhi Daredevils",
          "Delhi Daredevils",
          "Delhi Daredevils",
          "Delhi Daredevils",
          "Delhi Daredevils",
          "Delhi Daredevils",
          "Delhi Daredevils",
          "Delhi Daredevils",
          "Delhi Daredevils",
          "Delhi Daredevils",
          "Delhi Daredevils",
          "Gujarat Lions",
          "Gujarat Lions",
          "Gujarat Lions",
          "Gujarat Lions",
          "Gujarat Lions",
          "Gujarat Lions",
          "Gujarat Lions",
          "Gujarat Lions",
          "Gujarat Lions",
          "Gujarat Lions",
          "Gujarat Lions",
          "Gujarat Lions",
          "Gujarat Lions",
          "Gujarat Lions",
          "Gujarat Lions",
          "Gujarat Lions",
          "Gujarat Lions",
          "Gujarat Lions",
          "Gujarat Lions",
          "Gujarat Lions",
          "Kings XI Punjab",
          "Kings XI Punjab",
          "Kings XI Punjab",
          "Kings XI Punjab",
          "Kings XI Punjab",
          "Kings XI Punjab",
          "Kings XI Punjab",
          "Kings XI Punjab",
          "Kings XI Punjab",
          "Kings XI Punjab",
          "Kings XI Punjab",
          "Kings XI Punjab",
          "Kings XI Punjab",
          "Kings XI Punjab",
          "Kings XI Punjab",
          "Kings XI Punjab",
          "Kings XI Punjab",
          "Kings XI Punjab",
          "Kings XI Punjab",
          "Kings XI Punjab",
          "Kochi Tuskers Kerala",
          "Kochi Tuskers Kerala",
          "Kochi Tuskers Kerala",
          "Kochi Tuskers Kerala",
          "Kochi Tuskers Kerala",
          "Kochi Tuskers Kerala",
          "Kochi Tuskers Kerala",
          "Kochi Tuskers Kerala",
          "Kochi Tuskers Kerala",
          "Kochi Tuskers Kerala",
          "Kochi Tuskers Kerala",
          "Kochi Tuskers Kerala",
          "Kochi Tuskers Kerala",
          "Kochi Tuskers Kerala",
          "Kochi Tuskers Kerala",
          "Kochi Tuskers Kerala",
          "Kochi Tuskers Kerala",
          "Kochi Tuskers Kerala",
          "Kochi Tuskers Kerala",
          "Kochi Tuskers Kerala",
          "Kolkata Knight Riders",
          "Kolkata Knight Riders",
          "Kolkata Knight Riders",
          "Kolkata Knight Riders",
          "Kolkata Knight Riders",
          "Kolkata Knight Riders",
          "Kolkata Knight Riders",
          "Kolkata Knight Riders",
          "Kolkata Knight Riders",
          "Kolkata Knight Riders",
          "Kolkata Knight Riders",
          "Kolkata Knight Riders",
          "Kolkata Knight Riders",
          "Kolkata Knight Riders",
          "Kolkata Knight Riders",
          "Kolkata Knight Riders",
          "Kolkata Knight Riders",
          "Kolkata Knight Riders",
          "Kolkata Knight Riders",
          "Kolkata Knight Riders",
          "Mumbai Indians",
          "Mumbai Indians",
          "Mumbai Indians",
          "Mumbai Indians",
          "Mumbai Indians",
          "Mumbai Indians",
          "Mumbai Indians",
          "Mumbai Indians",
          "Mumbai Indians",
          "Mumbai Indians",
          "Mumbai Indians",
          "Mumbai Indians",
          "Mumbai Indians",
          "Mumbai Indians",
          "Mumbai Indians",
          "Mumbai Indians",
          "Mumbai Indians",
          "Mumbai Indians",
          "Mumbai Indians",
          "Mumbai Indians",
          "Pune Warriors",
          "Pune Warriors",
          "Pune Warriors",
          "Pune Warriors",
          "Pune Warriors",
          "Pune Warriors",
          "Pune Warriors",
          "Pune Warriors",
          "Pune Warriors",
          "Pune Warriors",
          "Pune Warriors",
          "Pune Warriors",
          "Pune Warriors",
          "Pune Warriors",
          "Pune Warriors",
          "Pune Warriors",
          "Pune Warriors",
          "Pune Warriors",
          "Pune Warriors",
          "Pune Warriors",
          "Rajasthan Royals",
          "Rajasthan Royals",
          "Rajasthan Royals",
          "Rajasthan Royals",
          "Rajasthan Royals",
          "Rajasthan Royals",
          "Rajasthan Royals",
          "Rajasthan Royals",
          "Rajasthan Royals",
          "Rajasthan Royals",
          "Rajasthan Royals",
          "Rajasthan Royals",
          "Rajasthan Royals",
          "Rajasthan Royals",
          "Rajasthan Royals",
          "Rajasthan Royals",
          "Rajasthan Royals",
          "Rajasthan Royals",
          "Rajasthan Royals",
          "Rajasthan Royals",
          "Rising Pune Supergiant",
          "Rising Pune Supergiant",
          "Rising Pune Supergiant",
          "Rising Pune Supergiant",
          "Rising Pune Supergiant",
          "Rising Pune Supergiant",
          "Rising Pune Supergiant",
          "Rising Pune Supergiant",
          "Rising Pune Supergiant",
          "Rising Pune Supergiant",
          "Rising Pune Supergiant",
          "Rising Pune Supergiant",
          "Rising Pune Supergiant",
          "Rising Pune Supergiant",
          "Rising Pune Supergiant",
          "Rising Pune Supergiant",
          "Rising Pune Supergiant",
          "Rising Pune Supergiant",
          "Rising Pune Supergiant",
          "Rising Pune Supergiant",
          "Rising Pune Supergiants",
          "Rising Pune Supergiants",
          "Rising Pune Supergiants",
          "Rising Pune Supergiants",
          "Rising Pune Supergiants",
          "Rising Pune Supergiants",
          "Rising Pune Supergiants",
          "Rising Pune Supergiants",
          "Rising Pune Supergiants",
          "Rising Pune Supergiants",
          "Rising Pune Supergiants",
          "Rising Pune Supergiants",
          "Rising Pune Supergiants",
          "Rising Pune Supergiants",
          "Rising Pune Supergiants",
          "Rising Pune Supergiants",
          "Rising Pune Supergiants",
          "Rising Pune Supergiants",
          "Rising Pune Supergiants",
          "Rising Pune Supergiants",
          "Royal Challengers Bangalore",
          "Royal Challengers Bangalore",
          "Royal Challengers Bangalore",
          "Royal Challengers Bangalore",
          "Royal Challengers Bangalore",
          "Royal Challengers Bangalore",
          "Royal Challengers Bangalore",
          "Royal Challengers Bangalore",
          "Royal Challengers Bangalore",
          "Royal Challengers Bangalore",
          "Royal Challengers Bangalore",
          "Royal Challengers Bangalore",
          "Royal Challengers Bangalore",
          "Royal Challengers Bangalore",
          "Royal Challengers Bangalore",
          "Royal Challengers Bangalore",
          "Royal Challengers Bangalore",
          "Royal Challengers Bangalore",
          "Royal Challengers Bangalore",
          "Royal Challengers Bangalore",
          "Sunrisers Hyderabad",
          "Sunrisers Hyderabad",
          "Sunrisers Hyderabad",
          "Sunrisers Hyderabad",
          "Sunrisers Hyderabad",
          "Sunrisers Hyderabad",
          "Sunrisers Hyderabad",
          "Sunrisers Hyderabad",
          "Sunrisers Hyderabad",
          "Sunrisers Hyderabad",
          "Sunrisers Hyderabad",
          "Sunrisers Hyderabad",
          "Sunrisers Hyderabad",
          "Sunrisers Hyderabad",
          "Sunrisers Hyderabad",
          "Sunrisers Hyderabad",
          "Sunrisers Hyderabad",
          "Sunrisers Hyderabad",
          "Sunrisers Hyderabad",
          "Sunrisers Hyderabad"
         ],
         "xaxis": "x2",
         "y": {
          "bdata": "AQIDBAUGBwgJCgsMDQ4PEBESExQBAgMEBQYHCAkKCwwNDg8QERITFAECAwQFBgcICQoLDA0ODxAREhMUAQIDBAUGBwgJCgsMDQ4PEBESExQBAgMEBQYHCAkKCwwNDg8QERITFAECAwQFBgcICQoLDA0ODxAREhMUAQIDBAUGBwgJCgsMDQ4PEBESExQBAgMEBQYHCAkKCwwNDg8QERITFAECAwQFBgcICQoLDA0ODxAREhMUAQIDBAUGBwgJCgsMDQ4PEBESExQBAgMEBQYHCAkKCwwNDg8QERITFAECAwQFBgcICQoLDA0ODxAREhMUAQIDBAUGBwgJCgsMDQ4PEBESExQBAgMEBQYHCAkKCwwNDg8QERITFA==",
          "dtype": "i1"
         },
         "yaxis": "y2",
         "z": [
          524,
          462,
          432,
          421,
          376,
          375,
          327,
          304,
          265,
          280,
          285,
          273,
          258,
          271,
          253,
          227,
          223,
          226,
          212,
          198,
          278,
          264,
          230,
          246,
          232,
          227,
          193,
          181,
          171,
          182,
          158,
          154,
          178,
          146,
          157,
          144,
          132,
          138,
          139,
          123,
          550,
          481,
          483,
          435,
          436,
          456,
          348,
          331,
          313,
          322,
          320,
          291,
          311,
          314,
          319,
          272,
          313,
          254,
          240,
          185,
          115,
          100,
          75,
          90,
          81,
          75,
          68,
          50,
          74,
          62,
          59,
          71,
          60,
          54,
          52,
          53,
          58,
          62,
          49,
          37,
          564,
          535,
          472,
          424,
          433,
          442,
          364,
          356,
          351,
          333,
          316,
          314,
          303,
          288,
          290,
          286,
          258,
          291,
          272,
          249,
          58,
          55,
          42,
          41,
          47,
          42,
          44,
          40,
          39,
          34,
          31,
          19,
          31,
          39,
          19,
          32,
          23,
          25,
          18,
          17,
          574,
          504,
          500,
          449,
          428,
          442,
          374,
          333,
          347,
          326,
          313,
          308,
          316,
          308,
          290,
          276,
          251,
          225,
          225,
          205,
          632,
          624,
          532,
          507,
          501,
          451,
          404,
          381,
          374,
          354,
          355,
          327,
          351,
          341,
          309,
          325,
          315,
          297,
          273,
          261,
          169,
          159,
          132,
          142,
          143,
          144,
          129,
          115,
          115,
          111,
          121,
          99,
          113,
          97,
          111,
          80,
          113,
          85,
          93,
          81,
          479,
          433,
          400,
          370,
          348,
          335,
          318,
          290,
          282,
          231,
          270,
          242,
          266,
          245,
          262,
          228,
          210,
          221,
          208,
          145,
          63,
          44,
          38,
          36,
          36,
          37,
          34,
          35,
          43,
          30,
          33,
          28,
          33,
          31,
          32,
          29,
          29,
          34,
          28,
          28,
          57,
          48,
          39,
          42,
          38,
          34,
          33,
          24,
          24,
          35,
          26,
          20,
          22,
          26,
          27,
          27,
          23,
          20,
          23,
          15,
          586,
          573,
          495,
          489,
          477,
          450,
          390,
          342,
          345,
          332,
          303,
          296,
          293,
          291,
          285,
          294,
          285,
          265,
          230,
          222,
          269,
          258,
          215,
          214,
          219,
          198,
          190,
          182,
          177,
          179,
          156,
          145,
          167,
          164,
          128,
          144,
          157,
          128,
          130,
          117
         ]
        }
       ],
       "layout": {
        "annotations": [
         {
          "font": {
           "size": 16
          },
          "showarrow": false,
          "text": "6's",
          "x": 0.225,
          "xanchor": "center",
          "xref": "paper",
          "y": 1,
          "yanchor": "bottom",
          "yref": "paper"
         },
         {
          "font": {
           "size": 16
          },
          "showarrow": false,
          "text": "0's",
          "x": 0.775,
          "xanchor": "center",
          "xref": "paper",
          "y": 1,
          "yanchor": "bottom",
          "yref": "paper"
         }
        ],
        "autosize": false,
        "height": 900,
        "template": {
         "data": {
          "bar": [
           {
            "error_x": {
             "color": "#2a3f5f"
            },
            "error_y": {
             "color": "#2a3f5f"
            },
            "marker": {
             "line": {
              "color": "#E5ECF6",
              "width": 0.5
             },
             "pattern": {
              "fillmode": "overlay",
              "size": 10,
              "solidity": 0.2
             }
            },
            "type": "bar"
           }
          ],
          "barpolar": [
           {
            "marker": {
             "line": {
              "color": "#E5ECF6",
              "width": 0.5
             },
             "pattern": {
              "fillmode": "overlay",
              "size": 10,
              "solidity": 0.2
             }
            },
            "type": "barpolar"
           }
          ],
          "carpet": [
           {
            "aaxis": {
             "endlinecolor": "#2a3f5f",
             "gridcolor": "white",
             "linecolor": "white",
             "minorgridcolor": "white",
             "startlinecolor": "#2a3f5f"
            },
            "baxis": {
             "endlinecolor": "#2a3f5f",
             "gridcolor": "white",
             "linecolor": "white",
             "minorgridcolor": "white",
             "startlinecolor": "#2a3f5f"
            },
            "type": "carpet"
           }
          ],
          "choropleth": [
           {
            "colorbar": {
             "outlinewidth": 0,
             "ticks": ""
            },
            "type": "choropleth"
           }
          ],
          "contour": [
           {
            "colorbar": {
             "outlinewidth": 0,
             "ticks": ""
            },
            "colorscale": [
             [
              0,
              "#0d0887"
             ],
             [
              0.1111111111111111,
              "#46039f"
             ],
             [
              0.2222222222222222,
              "#7201a8"
             ],
             [
              0.3333333333333333,
              "#9c179e"
             ],
             [
              0.4444444444444444,
              "#bd3786"
             ],
             [
              0.5555555555555556,
              "#d8576b"
             ],
             [
              0.6666666666666666,
              "#ed7953"
             ],
             [
              0.7777777777777778,
              "#fb9f3a"
             ],
             [
              0.8888888888888888,
              "#fdca26"
             ],
             [
              1,
              "#f0f921"
             ]
            ],
            "type": "contour"
           }
          ],
          "contourcarpet": [
           {
            "colorbar": {
             "outlinewidth": 0,
             "ticks": ""
            },
            "type": "contourcarpet"
           }
          ],
          "heatmap": [
           {
            "colorbar": {
             "outlinewidth": 0,
             "ticks": ""
            },
            "colorscale": [
             [
              0,
              "#0d0887"
             ],
             [
              0.1111111111111111,
              "#46039f"
             ],
             [
              0.2222222222222222,
              "#7201a8"
             ],
             [
              0.3333333333333333,
              "#9c179e"
             ],
             [
              0.4444444444444444,
              "#bd3786"
             ],
             [
              0.5555555555555556,
              "#d8576b"
             ],
             [
              0.6666666666666666,
              "#ed7953"
             ],
             [
              0.7777777777777778,
              "#fb9f3a"
             ],
             [
              0.8888888888888888,
              "#fdca26"
             ],
             [
              1,
              "#f0f921"
             ]
            ],
            "type": "heatmap"
           }
          ],
          "histogram": [
           {
            "marker": {
             "pattern": {
              "fillmode": "overlay",
              "size": 10,
              "solidity": 0.2
             }
            },
            "type": "histogram"
           }
          ],
          "histogram2d": [
           {
            "colorbar": {
             "outlinewidth": 0,
             "ticks": ""
            },
            "colorscale": [
             [
              0,
              "#0d0887"
             ],
             [
              0.1111111111111111,
              "#46039f"
             ],
             [
              0.2222222222222222,
              "#7201a8"
             ],
             [
              0.3333333333333333,
              "#9c179e"
             ],
             [
              0.4444444444444444,
              "#bd3786"
             ],
             [
              0.5555555555555556,
              "#d8576b"
             ],
             [
              0.6666666666666666,
              "#ed7953"
             ],
             [
              0.7777777777777778,
              "#fb9f3a"
             ],
             [
              0.8888888888888888,
              "#fdca26"
             ],
             [
              1,
              "#f0f921"
             ]
            ],
            "type": "histogram2d"
           }
          ],
          "histogram2dcontour": [
           {
            "colorbar": {
             "outlinewidth": 0,
             "ticks": ""
            },
            "colorscale": [
             [
              0,
              "#0d0887"
             ],
             [
              0.1111111111111111,
              "#46039f"
             ],
             [
              0.2222222222222222,
              "#7201a8"
             ],
             [
              0.3333333333333333,
              "#9c179e"
             ],
             [
              0.4444444444444444,
              "#bd3786"
             ],
             [
              0.5555555555555556,
              "#d8576b"
             ],
             [
              0.6666666666666666,
              "#ed7953"
             ],
             [
              0.7777777777777778,
              "#fb9f3a"
             ],
             [
              0.8888888888888888,
              "#fdca26"
             ],
             [
              1,
              "#f0f921"
             ]
            ],
            "type": "histogram2dcontour"
           }
          ],
          "mesh3d": [
           {
            "colorbar": {
             "outlinewidth": 0,
             "ticks": ""
            },
            "type": "mesh3d"
           }
          ],
          "parcoords": [
           {
            "line": {
             "colorbar": {
              "outlinewidth": 0,
              "ticks": ""
             }
            },
            "type": "parcoords"
           }
          ],
          "pie": [
           {
            "automargin": true,
            "type": "pie"
           }
          ],
          "scatter": [
           {
            "fillpattern": {
             "fillmode": "overlay",
             "size": 10,
             "solidity": 0.2
            },
            "type": "scatter"
           }
          ],
          "scatter3d": [
           {
            "line": {
             "colorbar": {
              "outlinewidth": 0,
              "ticks": ""
             }
            },
            "marker": {
             "colorbar": {
              "outlinewidth": 0,
              "ticks": ""
             }
            },
            "type": "scatter3d"
           }
          ],
          "scattercarpet": [
           {
            "marker": {
             "colorbar": {
              "outlinewidth": 0,
              "ticks": ""
             }
            },
            "type": "scattercarpet"
           }
          ],
          "scattergeo": [
           {
            "marker": {
             "colorbar": {
              "outlinewidth": 0,
              "ticks": ""
             }
            },
            "type": "scattergeo"
           }
          ],
          "scattergl": [
           {
            "marker": {
             "colorbar": {
              "outlinewidth": 0,
              "ticks": ""
             }
            },
            "type": "scattergl"
           }
          ],
          "scattermap": [
           {
            "marker": {
             "colorbar": {
              "outlinewidth": 0,
              "ticks": ""
             }
            },
            "type": "scattermap"
           }
          ],
          "scattermapbox": [
           {
            "marker": {
             "colorbar": {
              "outlinewidth": 0,
              "ticks": ""
             }
            },
            "type": "scattermapbox"
           }
          ],
          "scatterpolar": [
           {
            "marker": {
             "colorbar": {
              "outlinewidth": 0,
              "ticks": ""
             }
            },
            "type": "scatterpolar"
           }
          ],
          "scatterpolargl": [
           {
            "marker": {
             "colorbar": {
              "outlinewidth": 0,
              "ticks": ""
             }
            },
            "type": "scatterpolargl"
           }
          ],
          "scatterternary": [
           {
            "marker": {
             "colorbar": {
              "outlinewidth": 0,
              "ticks": ""
             }
            },
            "type": "scatterternary"
           }
          ],
          "surface": [
           {
            "colorbar": {
             "outlinewidth": 0,
             "ticks": ""
            },
            "colorscale": [
             [
              0,
              "#0d0887"
             ],
             [
              0.1111111111111111,
              "#46039f"
             ],
             [
              0.2222222222222222,
              "#7201a8"
             ],
             [
              0.3333333333333333,
              "#9c179e"
             ],
             [
              0.4444444444444444,
              "#bd3786"
             ],
             [
              0.5555555555555556,
              "#d8576b"
             ],
             [
              0.6666666666666666,
              "#ed7953"
             ],
             [
              0.7777777777777778,
              "#fb9f3a"
             ],
             [
              0.8888888888888888,
              "#fdca26"
             ],
             [
              1,
              "#f0f921"
             ]
            ],
            "type": "surface"
           }
          ],
          "table": [
           {
            "cells": {
             "fill": {
              "color": "#EBF0F8"
             },
             "line": {
              "color": "white"
             }
            },
            "header": {
             "fill": {
              "color": "#C8D4E3"
             },
             "line": {
              "color": "white"
             }
            },
            "type": "table"
           }
          ]
         },
         "layout": {
          "annotationdefaults": {
           "arrowcolor": "#2a3f5f",
           "arrowhead": 0,
           "arrowwidth": 1
          },
          "autotypenumbers": "strict",
          "coloraxis": {
           "colorbar": {
            "outlinewidth": 0,
            "ticks": ""
           }
          },
          "colorscale": {
           "diverging": [
            [
             0,
             "#8e0152"
            ],
            [
             0.1,
             "#c51b7d"
            ],
            [
             0.2,
             "#de77ae"
            ],
            [
             0.3,
             "#f1b6da"
            ],
            [
             0.4,
             "#fde0ef"
            ],
            [
             0.5,
             "#f7f7f7"
            ],
            [
             0.6,
             "#e6f5d0"
            ],
            [
             0.7,
             "#b8e186"
            ],
            [
             0.8,
             "#7fbc41"
            ],
            [
             0.9,
             "#4d9221"
            ],
            [
             1,
             "#276419"
            ]
           ],
           "sequential": [
            [
             0,
             "#0d0887"
            ],
            [
             0.1111111111111111,
             "#46039f"
            ],
            [
             0.2222222222222222,
             "#7201a8"
            ],
            [
             0.3333333333333333,
             "#9c179e"
            ],
            [
             0.4444444444444444,
             "#bd3786"
            ],
            [
             0.5555555555555556,
             "#d8576b"
            ],
            [
             0.6666666666666666,
             "#ed7953"
            ],
            [
             0.7777777777777778,
             "#fb9f3a"
            ],
            [
             0.8888888888888888,
             "#fdca26"
            ],
            [
             1,
             "#f0f921"
            ]
           ],
           "sequentialminus": [
            [
             0,
             "#0d0887"
            ],
            [
             0.1111111111111111,
             "#46039f"
            ],
            [
             0.2222222222222222,
             "#7201a8"
            ],
            [
             0.3333333333333333,
             "#9c179e"
            ],
            [
             0.4444444444444444,
             "#bd3786"
            ],
            [
             0.5555555555555556,
             "#d8576b"
            ],
            [
             0.6666666666666666,
             "#ed7953"
            ],
            [
             0.7777777777777778,
             "#fb9f3a"
            ],
            [
             0.8888888888888888,
             "#fdca26"
            ],
            [
             1,
             "#f0f921"
            ]
           ]
          },
          "colorway": [
           "#636efa",
           "#EF553B",
           "#00cc96",
           "#ab63fa",
           "#FFA15A",
           "#19d3f3",
           "#FF6692",
           "#B6E880",
           "#FF97FF",
           "#FECB52"
          ],
          "font": {
           "color": "#2a3f5f"
          },
          "geo": {
           "bgcolor": "white",
           "lakecolor": "white",
           "landcolor": "#E5ECF6",
           "showlakes": true,
           "showland": true,
           "subunitcolor": "white"
          },
          "hoverlabel": {
           "align": "left"
          },
          "hovermode": "closest",
          "mapbox": {
           "style": "light"
          },
          "paper_bgcolor": "white",
          "plot_bgcolor": "#E5ECF6",
          "polar": {
           "angularaxis": {
            "gridcolor": "white",
            "linecolor": "white",
            "ticks": ""
           },
           "bgcolor": "#E5ECF6",
           "radialaxis": {
            "gridcolor": "white",
            "linecolor": "white",
            "ticks": ""
           }
          },
          "scene": {
           "xaxis": {
            "backgroundcolor": "#E5ECF6",
            "gridcolor": "white",
            "gridwidth": 2,
            "linecolor": "white",
            "showbackground": true,
            "ticks": "",
            "zerolinecolor": "white"
           },
           "yaxis": {
            "backgroundcolor": "#E5ECF6",
            "gridcolor": "white",
            "gridwidth": 2,
            "linecolor": "white",
            "showbackground": true,
            "ticks": "",
            "zerolinecolor": "white"
           },
           "zaxis": {
            "backgroundcolor": "#E5ECF6",
            "gridcolor": "white",
            "gridwidth": 2,
            "linecolor": "white",
            "showbackground": true,
            "ticks": "",
            "zerolinecolor": "white"
           }
          },
          "shapedefaults": {
           "line": {
            "color": "#2a3f5f"
           }
          },
          "ternary": {
           "aaxis": {
            "gridcolor": "white",
            "linecolor": "white",
            "ticks": ""
           },
           "baxis": {
            "gridcolor": "white",
            "linecolor": "white",
            "ticks": ""
           },
           "bgcolor": "#E5ECF6",
           "caxis": {
            "gridcolor": "white",
            "linecolor": "white",
            "ticks": ""
           }
          },
          "title": {
           "x": 0.05
          },
          "xaxis": {
           "automargin": true,
           "gridcolor": "white",
           "linecolor": "white",
           "ticks": "",
           "title": {
            "standoff": 15
           },
           "zerolinecolor": "white",
           "zerolinewidth": 2
          },
          "yaxis": {
           "automargin": true,
           "gridcolor": "white",
           "linecolor": "white",
           "ticks": "",
           "title": {
            "standoff": 15
           },
           "zerolinecolor": "white",
           "zerolinewidth": 2
          }
         }
        },
        "width": 1700,
        "xaxis": {
         "anchor": "y",
         "domain": [
          0,
          0.45
         ]
        },
        "xaxis2": {
         "anchor": "y2",
         "domain": [
          0.55,
          1
         ]
        },
        "yaxis": {
         "anchor": "x",
         "domain": [
          0,
          1
         ]
        },
        "yaxis2": {
         "anchor": "x2",
         "domain": [
          0,
          1
         ],
         "matches": "y",
         "showticklabels": false
        }
       }
      }
     },
     "metadata": {},
     "output_type": "display_data"
    }
   ],
   "source": [
    "trace1 = go.Heatmap(\n",
    "    x=six['batting_team'],\n",
    "    y=six['over'],\n",
    "    z=six['batsman_runs'].values.tolist(),\n",
    "    text=six['batsman_runs'].values.tolist(),\n",
    "    texttemplate=\"%{text}\",\n",
    "    textfont={\"size\": 12, \"color\": \"white\"},\n",
    "    colorscale=\"Viridis\"\n",
    ")\n",
    "\n",
    "trace2 = go.Heatmap(\n",
    "    x=dots['batting_team'],\n",
    "    y=dots['over'],\n",
    "    z=dots['batsman_runs'].values.tolist(),\n",
    "    text=dots['batsman_runs'].values.tolist(), \n",
    "    texttemplate=\"%{text}\",\n",
    "    textfont={\"size\": 12, \"color\": \"white\"},\n",
    "    colorscale=\"Plasma\"\n",
    ")\n",
    "\n",
    "fig = tools.make_subplots(rows=1, cols=2, subplot_titles = [\"6's\",\"0's\"], shared_yaxes=True).update_layout(\n",
    "        autosize=False,  \n",
    "        width=1700,      \n",
    "        height=900,      \n",
    "    )\n",
    "\n",
    "fig.append_trace(trace1,1,1)\n",
    "fig.append_trace(trace2,1,2)\n",
    "\n",
    "\n",
    "fig.show()"
   ]
  },
  {
   "cell_type": "code",
   "execution_count": null,
   "id": "10905b0f",
   "metadata": {},
   "outputs": [],
   "source": []
  }
 ],
 "metadata": {
  "kernelspec": {
   "display_name": "Python 3",
   "language": "python",
   "name": "python3"
  },
  "language_info": {
   "codemirror_mode": {
    "name": "ipython",
    "version": 3
   },
   "file_extension": ".py",
   "mimetype": "text/x-python",
   "name": "python",
   "nbconvert_exporter": "python",
   "pygments_lexer": "ipython3",
   "version": "3.11.9"
  }
 },
 "nbformat": 4,
 "nbformat_minor": 5
}
